{
 "cells": [
  {
   "cell_type": "markdown",
   "metadata": {},
   "source": [
    "# Binary QSAR in Python - LabMol\n",
    "\n",
    "Developed by: \n",
    "#### José Teófilo Moreira Filho"
   ]
  },
  {
   "cell_type": "markdown",
   "metadata": {},
   "source": [
    "#  <font color='white'> Model building with featmorgan fingerprint and RF, SVM and LightGBM </font>"
   ]
  },
  {
   "cell_type": "code",
   "execution_count": 1,
   "metadata": {},
   "outputs": [
    {
     "name": "stdout",
     "output_type": "stream",
     "text": [
      "date of creation:\n",
      " 2021-04-15 14:09:34.071488\n"
     ]
    }
   ],
   "source": [
    "import datetime\n",
    "now = datetime.datetime.now()\n",
    "print(\"date of creation:\\n\", now)"
   ]
  },
  {
   "cell_type": "code",
   "execution_count": 2,
   "metadata": {},
   "outputs": [
    {
     "name": "stderr",
     "output_type": "stream",
     "text": [
      "C:\\Users\\tiofi\\PyMOL\\envs\\rdkit2\\lib\\site-packages\\sklearn\\externals\\joblib\\__init__.py:15: FutureWarning: sklearn.externals.joblib is deprecated in 0.21 and will be removed in 0.23. Please import this functionality directly from joblib, which can be installed with: pip install joblib. If this warning is raised when loading pickled models, you may need to re-serialize those models with scikit-learn 0.21+.\n",
      "  warnings.warn(msg, category=FutureWarning)\n"
     ]
    }
   ],
   "source": [
    "# Importing packages \n",
    "from rdkit import Chem, DataStructs\n",
    "from rdkit import Chem\n",
    "from rdkit.Chem import AllChem, Descriptors\n",
    "from rdkit.Chem import PandasTools\n",
    "from rdkit.Chem import MACCSkeys\n",
    "\n",
    "import numpy as np\n",
    "from numpy import sqrt\n",
    "from numpy import argmax\n",
    "\n",
    "import matplotlib.pyplot as plt\n",
    "import seaborn as sns\n",
    "\n",
    "import pandas as pd\n",
    "from pandas import DataFrame\n",
    "\n",
    "import os\n",
    "\n",
    "import xgboost as xgb\n",
    "import lightgbm as lgb\n",
    "\n",
    "from sklearn.svm import SVC\n",
    "from sklearn.ensemble import RandomForestClassifier, GradientBoostingClassifier\n",
    "from sklearn.model_selection import train_test_split, StratifiedKFold, GridSearchCV\n",
    "from sklearn.preprocessing import StandardScaler\n",
    "from sklearn import metrics\n",
    "from sklearn.metrics import accuracy_score, cohen_kappa_score, matthews_corrcoef, roc_curve, precision_recall_curve, roc_auc_score, make_scorer\n",
    "from sklearn.metrics import f1_score, balanced_accuracy_score, precision_score, recall_score, confusion_matrix\n",
    "from sklearn.metrics import auc as mauc\n",
    "from sklearn.externals import joblib\n",
    "from sklearn.model_selection import cross_val_score\n",
    "from sklearn.datasets import load_digits\n",
    "from sklearn.calibration import calibration_curve, CalibratedClassifierCV\n",
    "from sklearn.decomposition import PCA\n",
    "from sklearn.datasets import make_classification\n",
    "from sklearn.linear_model import LogisticRegression\n",
    "from sklearn.metrics import precision_recall_curve\n",
    "from sklearn.model_selection import cross_val_predict\n",
    "\n",
    "from imblearn.ensemble import BalancedRandomForestClassifier\n",
    "from imblearn.metrics import geometric_mean_score\n",
    "from imblearn.under_sampling import TomekLinks\n",
    "\n",
    "import multiprocessing\n",
    "\n",
    "from skopt import BayesSearchCV\n",
    "\n",
    "from mordred import Calculator, descriptors"
   ]
  },
  {
   "cell_type": "markdown",
   "metadata": {},
   "source": [
    "## Check initial number of compounds"
   ]
  },
  {
   "cell_type": "code",
   "execution_count": 3,
   "metadata": {},
   "outputs": [],
   "source": [
    "# Reading molecules and activity (0 and 1) from SDF\n",
    "fname = \"../data/1224857_bruno_imbalanced_prep.sdf\""
   ]
  },
  {
   "cell_type": "code",
   "execution_count": 4,
   "metadata": {},
   "outputs": [],
   "source": [
    "df0 = PandasTools.LoadSDF(fname, smilesName='SMILES', includeFingerprints=False)"
   ]
  },
  {
   "cell_type": "code",
   "execution_count": 5,
   "metadata": {},
   "outputs": [
    {
     "data": {
      "text/plain": [
       "Index(['Outcome', 'pIC50', 'ID', 'SMILES', 'is_active', 'ROMol'], dtype='object')"
      ]
     },
     "execution_count": 5,
     "metadata": {},
     "output_type": "execute_result"
    }
   ],
   "source": [
    "df0.columns"
   ]
  },
  {
   "cell_type": "code",
   "execution_count": 6,
   "metadata": {},
   "outputs": [],
   "source": [
    "df0[\"is_active\"] = np.where(df0[\"Outcome\"] == \"Active\", 1,0)"
   ]
  },
  {
   "cell_type": "code",
   "execution_count": 7,
   "metadata": {},
   "outputs": [
    {
     "data": {
      "text/html": [
       "<div>\n",
       "<style scoped>\n",
       "    .dataframe tbody tr th:only-of-type {\n",
       "        vertical-align: middle;\n",
       "    }\n",
       "\n",
       "    .dataframe tbody tr th {\n",
       "        vertical-align: top;\n",
       "    }\n",
       "\n",
       "    .dataframe thead th {\n",
       "        text-align: right;\n",
       "    }\n",
       "</style>\n",
       "<table border=\"1\" class=\"dataframe\">\n",
       "  <thead>\n",
       "    <tr style=\"text-align: right;\">\n",
       "      <th></th>\n",
       "      <th>Outcome</th>\n",
       "      <th>pIC50</th>\n",
       "      <th>ID</th>\n",
       "      <th>SMILES</th>\n",
       "      <th>is_active</th>\n",
       "      <th>ROMol</th>\n",
       "    </tr>\n",
       "  </thead>\n",
       "  <tbody>\n",
       "    <tr>\n",
       "      <th>0</th>\n",
       "      <td>Inactive</td>\n",
       "      <td>4.861056598092725</td>\n",
       "      <td></td>\n",
       "      <td>O=c1c(-c2ccc(O)cc2)coc2cc(O)ccc12</td>\n",
       "      <td>0</td>\n",
       "      <td><img data-content=\"rdkit/molecule\" src=\"data:image/png;base64,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\" alt=\"Mol\"/></td>\n",
       "    </tr>\n",
       "    <tr>\n",
       "      <th>1</th>\n",
       "      <td>Inactive</td>\n",
       "      <td>4.811057461628963</td>\n",
       "      <td></td>\n",
       "      <td>N#C/C(=C\\c1ccc(O)c(O)c1)C(=O)Nc1ccccc1</td>\n",
       "      <td>0</td>\n",
       "      <td><img data-content=\"rdkit/molecule\" src=\"data:image/png;base64,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\" alt=\"Mol\"/></td>\n",
       "    </tr>\n",
       "    <tr>\n",
       "      <th>2</th>\n",
       "      <td>Inactive</td>\n",
       "      <td>4.811057461628963</td>\n",
       "      <td></td>\n",
       "      <td>Cc1csc(NC(=O)c2sc3nc4c(c(C(F)(F)F)c3c2N)CCC4)n1</td>\n",
       "      <td>0</td>\n",
       "      <td><img data-content=\"rdkit/molecule\" src=\"data:image/png;base64,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\" alt=\"Mol\"/></td>\n",
       "    </tr>\n",
       "    <tr>\n",
       "      <th>3</th>\n",
       "      <td>Inactive</td>\n",
       "      <td>4.650000220873454</td>\n",
       "      <td></td>\n",
       "      <td>CC(C)(C)COc1ccc(-n2cc(C(=O)O)cn2)cc1C#N</td>\n",
       "      <td>0</td>\n",
       "      <td><img data-content=\"rdkit/molecule\" src=\"data:image/png;base64,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\" alt=\"Mol\"/></td>\n",
       "    </tr>\n",
       "    <tr>\n",
       "      <th>4</th>\n",
       "      <td>Inactive</td>\n",
       "      <td>4.7610561120364965</td>\n",
       "      <td></td>\n",
       "      <td>CC(=O)Nc1ccc(C(C)C(=O)Nc2ncc(C(C)C)s2)cc1</td>\n",
       "      <td>0</td>\n",
       "      <td><img data-content=\"rdkit/molecule\" src=\"data:image/png;base64,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\" alt=\"Mol\"/></td>\n",
       "    </tr>\n",
       "  </tbody>\n",
       "</table>\n",
       "</div>"
      ],
      "text/plain": [
       "    Outcome               pIC50 ID  \\\n",
       "0  Inactive   4.861056598092725      \n",
       "1  Inactive   4.811057461628963      \n",
       "2  Inactive   4.811057461628963      \n",
       "3  Inactive   4.650000220873454      \n",
       "4  Inactive  4.7610561120364965      \n",
       "\n",
       "                                            SMILES  is_active  \\\n",
       "0                O=c1c(-c2ccc(O)cc2)coc2cc(O)ccc12          0   \n",
       "1           N#C/C(=C\\c1ccc(O)c(O)c1)C(=O)Nc1ccccc1          0   \n",
       "2  Cc1csc(NC(=O)c2sc3nc4c(c(C(F)(F)F)c3c2N)CCC4)n1          0   \n",
       "3          CC(C)(C)COc1ccc(-n2cc(C(=O)O)cn2)cc1C#N          0   \n",
       "4        CC(=O)Nc1ccc(C(C)C(=O)Nc2ncc(C(C)C)s2)cc1          0   \n",
       "\n",
       "                                               ROMol  \n",
       "0  <img data-content=\"rdkit/molecule\" src=\"data:i...  \n",
       "1  <img data-content=\"rdkit/molecule\" src=\"data:i...  \n",
       "2  <img data-content=\"rdkit/molecule\" src=\"data:i...  \n",
       "3  <img data-content=\"rdkit/molecule\" src=\"data:i...  \n",
       "4  <img data-content=\"rdkit/molecule\" src=\"data:i...  "
      ]
     },
     "execution_count": 7,
     "metadata": {},
     "output_type": "execute_result"
    }
   ],
   "source": [
    "df0.head()"
   ]
  },
  {
   "cell_type": "code",
   "execution_count": 8,
   "metadata": {},
   "outputs": [
    {
     "name": "stdout",
     "output_type": "stream",
     "text": [
      "Class 0: 3478\n",
      "Class 1: 43\n",
      "Proportion: 80.88 : 1\n"
     ]
    },
    {
     "data": {
      "image/png": "[encoded data removed]",
      "text/plain": [
       "<Figure size 432x288 with 1 Axes>"
      ]
     },
     "metadata": {
      "needs_background": "light"
     },
     "output_type": "display_data"
    }
   ],
   "source": [
    "target_count = df0.is_active.value_counts()\n",
    "print('Class 0:', target_count[0])\n",
    "print('Class 1:', target_count[1])\n",
    "print('Proportion:', round(target_count[0] / target_count[1], 2), ': 1')\n",
    "\n",
    "target_count.plot(kind='bar', title='Count (target)');"
   ]
  },
  {
   "cell_type": "code",
   "execution_count": 9,
   "metadata": {},
   "outputs": [],
   "source": [
    "#Save the table as SD file\n",
    "#PandasTools.WriteSDF(df0, '../data/w2_isactive_5445.sdf', properties=df0.columns)"
   ]
  },
  {
   "cell_type": "markdown",
   "metadata": {},
   "source": [
    "## Fingerprint and descriptors calculation"
   ]
  },
  {
   "cell_type": "code",
   "execution_count": 10,
   "metadata": {},
   "outputs": [],
   "source": [
    "# Reading molecules and activity (0 and 1) from SDF\n",
    "fname = \"../data/1224857_bruno_imbalanced_prep.sdf\"\n",
    "\n",
    "mols = []\n",
    "y = []\n",
    "for mol in Chem.SDMolSupplier(fname):\n",
    "    if mol is not None:\n",
    "        mols.append(mol)\n",
    "        y.append(mol.GetIntProp(\"is_active\")) # target column"
   ]
  },
  {
   "cell_type": "code",
   "execution_count": 11,
   "metadata": {},
   "outputs": [],
   "source": [
    "y = pd.DataFrame(y)"
   ]
  },
  {
   "cell_type": "code",
   "execution_count": 12,
   "metadata": {},
   "outputs": [],
   "source": [
    "y = y.iloc[:,-1:].values.ravel()"
   ]
  },
  {
   "cell_type": "code",
   "execution_count": 13,
   "metadata": {},
   "outputs": [],
   "source": [
    "# Calculate descriptors (fingerprints) and convert them into numpy array\n",
    "\n",
    "# generate binary featmorgan fingerprint with radius 2\n",
    "fp = [MACCSkeys.GenMACCSKeys(m) for m in mols]\n",
    "\n",
    "def rdkit_numpy_convert(fp):\n",
    "    output = []\n",
    "    for f in fp:\n",
    "        arr = np.zeros((1,))\n",
    "        DataStructs.ConvertToNumpyArray(f, arr)\n",
    "        output.append(arr)\n",
    "    return np.asarray(output)\n",
    "# Convert fingerprint to numpy array\n",
    "x_fp = rdkit_numpy_convert(fp)"
   ]
  },
  {
   "cell_type": "code",
   "execution_count": 14,
   "metadata": {},
   "outputs": [],
   "source": [
    "# Convert fingerprint to Pandas DataFram,e\n",
    "x_fp = pd.DataFrame(x_fp)"
   ]
  },
  {
   "cell_type": "code",
   "execution_count": 15,
   "metadata": {},
   "outputs": [],
   "source": [
    "# create descriptor calculator with all descriptors\n",
    "calc = Calculator(descriptors, ignore_3D=True)"
   ]
  },
  {
   "cell_type": "code",
   "execution_count": 16,
   "metadata": {},
   "outputs": [
    {
     "data": {
      "text/plain": [
       "1613"
      ]
     },
     "execution_count": 16,
     "metadata": {},
     "output_type": "execute_result"
    }
   ],
   "source": [
    "# Check the number of descriptors\n",
    "len(calc.descriptors)"
   ]
  },
  {
   "cell_type": "code",
   "execution_count": 17,
   "metadata": {},
   "outputs": [
    {
     "name": "stderr",
     "output_type": "stream",
     "text": [
      "  5%|████▏                                                                          | 186/3521 [00:23<15:59,  3.47it/s]"
     ]
    },
    {
     "name": "stdout",
     "output_type": "stream",
     "text": [
      "C:\\Users\\tiofi\\PyMOL\\envs\\rdkit2\\lib\\site-packages\\numpy\\core\\fromnumeric.py:90: RuntimeWarning: overflow encountered in reduce\n",
      "  return ufunc.reduce(obj, axis, dtype, out, **passkwargs)\n"
     ]
    },
    {
     "name": "stderr",
     "output_type": "stream",
     "text": [
      "  7%|█████▎                                                                         | 236/3521 [00:29<14:05,  3.88it/s]"
     ]
    },
    {
     "name": "stdout",
     "output_type": "stream",
     "text": [
      "C:\\Users\\tiofi\\PyMOL\\envs\\rdkit2\\lib\\site-packages\\numpy\\core\\fromnumeric.py:90: RuntimeWarning: overflow encountered in reduce\n",
      "  return ufunc.reduce(obj, axis, dtype, out, **passkwargs)\n"
     ]
    },
    {
     "name": "stderr",
     "output_type": "stream",
     "text": [
      "  8%|██████▏                                                                        | 275/3521 [00:38<30:25,  1.78it/s]"
     ]
    },
    {
     "name": "stdout",
     "output_type": "stream",
     "text": [
      "C:\\Users\\tiofi\\PyMOL\\envs\\rdkit2\\lib\\site-packages\\numpy\\core\\fromnumeric.py:90: RuntimeWarning: overflow encountered in reduce\n",
      "  return ufunc.reduce(obj, axis, dtype, out, **passkwargs)\n"
     ]
    },
    {
     "name": "stderr",
     "output_type": "stream",
     "text": [
      "  9%|███████▎                                                                       | 326/3521 [00:46<20:36,  2.58it/s]"
     ]
    },
    {
     "name": "stdout",
     "output_type": "stream",
     "text": [
      "C:\\Users\\tiofi\\PyMOL\\envs\\rdkit2\\lib\\site-packages\\numpy\\core\\fromnumeric.py:90: RuntimeWarning: overflow encountered in reduce\n",
      "  return ufunc.reduce(obj, axis, dtype, out, **passkwargs)\n"
     ]
    },
    {
     "name": "stderr",
     "output_type": "stream",
     "text": [
      " 14%|███████████                                                                    | 495/3521 [01:04<21:45,  2.32it/s]"
     ]
    },
    {
     "name": "stdout",
     "output_type": "stream",
     "text": [
      "C:\\Users\\tiofi\\PyMOL\\envs\\rdkit2\\lib\\site-packages\\numpy\\core\\fromnumeric.py:90: RuntimeWarning: overflow encountered in reduce\n",
      "  return ufunc.reduce(obj, axis, dtype, out, **passkwargs)\n"
     ]
    },
    {
     "name": "stderr",
     "output_type": "stream",
     "text": [
      " 15%|████████████                                                                   | 540/3521 [01:08<14:55,  3.33it/s]"
     ]
    },
    {
     "name": "stdout",
     "output_type": "stream",
     "text": [
      "C:\\Users\\tiofi\\PyMOL\\envs\\rdkit2\\lib\\site-packages\\numpy\\core\\fromnumeric.py:90: RuntimeWarning: overflow encountered in reduce\n",
      "  return ufunc.reduce(obj, axis, dtype, out, **passkwargs)\n"
     ]
    },
    {
     "name": "stderr",
     "output_type": "stream",
     "text": [
      " 28%|██████████████████████▏                                                       | 1001/3521 [01:49<15:36,  2.69it/s]"
     ]
    },
    {
     "name": "stdout",
     "output_type": "stream",
     "text": [
      "C:\\Users\\tiofi\\PyMOL\\envs\\rdkit2\\lib\\site-packages\\numpy\\core\\fromnumeric.py:90: RuntimeWarning: overflow encountered in reduce\n",
      "  return ufunc.reduce(obj, axis, dtype, out, **passkwargs)\n"
     ]
    },
    {
     "name": "stderr",
     "output_type": "stream",
     "text": [
      " 64%|██████████████████████████████████████████████████▏                           | 2264/3521 [03:24<01:34, 13.35it/s]"
     ]
    },
    {
     "name": "stdout",
     "output_type": "stream",
     "text": [
      "C:\\Users\\tiofi\\PyMOL\\envs\\rdkit2\\lib\\site-packages\\numpy\\core\\fromnumeric.py:90: RuntimeWarning: overflow encountered in reduce\n",
      "  return ufunc.reduce(obj, axis, dtype, out, **passkwargs)\n"
     ]
    },
    {
     "name": "stderr",
     "output_type": "stream",
     "text": [
      "100%|██████████████████████████████████████████████████████████████████████████████| 3521/3521 [05:40<00:00, 10.34it/s]\n"
     ]
    }
   ],
   "source": [
    "# mordred descriptor calculation\n",
    "df = calc.pandas(mols)"
   ]
  },
  {
   "cell_type": "code",
   "execution_count": 18,
   "metadata": {},
   "outputs": [
    {
     "data": {
      "text/html": [
       "<div>\n",
       "<style scoped>\n",
       "    .dataframe tbody tr th:only-of-type {\n",
       "        vertical-align: middle;\n",
       "    }\n",
       "\n",
       "    .dataframe tbody tr th {\n",
       "        vertical-align: top;\n",
       "    }\n",
       "\n",
       "    .dataframe thead th {\n",
       "        text-align: right;\n",
       "    }\n",
       "</style>\n",
       "<table border=\"1\" class=\"dataframe\">\n",
       "  <thead>\n",
       "    <tr style=\"text-align: right;\">\n",
       "      <th></th>\n",
       "      <th>ABC</th>\n",
       "      <th>ABCGG</th>\n",
       "      <th>nAcid</th>\n",
       "      <th>nBase</th>\n",
       "      <th>SpAbs_A</th>\n",
       "      <th>SpMax_A</th>\n",
       "      <th>SpDiam_A</th>\n",
       "      <th>SpAD_A</th>\n",
       "      <th>SpMAD_A</th>\n",
       "      <th>LogEE_A</th>\n",
       "      <th>...</th>\n",
       "      <th>SRW10</th>\n",
       "      <th>TSRW10</th>\n",
       "      <th>MW</th>\n",
       "      <th>AMW</th>\n",
       "      <th>WPath</th>\n",
       "      <th>WPol</th>\n",
       "      <th>Zagreb1</th>\n",
       "      <th>Zagreb2</th>\n",
       "      <th>mZagreb1</th>\n",
       "      <th>mZagreb2</th>\n",
       "    </tr>\n",
       "  </thead>\n",
       "  <tbody>\n",
       "    <tr>\n",
       "      <th>0</th>\n",
       "      <td>15.015651</td>\n",
       "      <td>11.837076</td>\n",
       "      <td>0</td>\n",
       "      <td>0</td>\n",
       "      <td>24.700232</td>\n",
       "      <td>2.447452</td>\n",
       "      <td>4.894904</td>\n",
       "      <td>24.700232</td>\n",
       "      <td>1.300012</td>\n",
       "      <td>3.890021</td>\n",
       "      <td>...</td>\n",
       "      <td>9.964724</td>\n",
       "      <td>52.733581</td>\n",
       "      <td>254.057909</td>\n",
       "      <td>8.760618</td>\n",
       "      <td>694</td>\n",
       "      <td>31</td>\n",
       "      <td>102.0</td>\n",
       "      <td>121.0</td>\n",
       "      <td>6.027778</td>\n",
       "      <td>4.111111</td>\n",
       "    </tr>\n",
       "    <tr>\n",
       "      <th>1</th>\n",
       "      <td>15.803638</td>\n",
       "      <td>13.337477</td>\n",
       "      <td>0</td>\n",
       "      <td>0</td>\n",
       "      <td>26.690317</td>\n",
       "      <td>2.315762</td>\n",
       "      <td>4.631524</td>\n",
       "      <td>26.690317</td>\n",
       "      <td>1.270967</td>\n",
       "      <td>3.945888</td>\n",
       "      <td>...</td>\n",
       "      <td>9.683776</td>\n",
       "      <td>54.219832</td>\n",
       "      <td>280.084792</td>\n",
       "      <td>8.487418</td>\n",
       "      <td>1016</td>\n",
       "      <td>29</td>\n",
       "      <td>102.0</td>\n",
       "      <td>115.0</td>\n",
       "      <td>7.416667</td>\n",
       "      <td>4.805556</td>\n",
       "    </tr>\n",
       "    <tr>\n",
       "      <th>2</th>\n",
       "      <td>20.966332</td>\n",
       "      <td>18.025691</td>\n",
       "      <td>0</td>\n",
       "      <td>0</td>\n",
       "      <td>32.677538</td>\n",
       "      <td>2.583515</td>\n",
       "      <td>5.049966</td>\n",
       "      <td>32.677538</td>\n",
       "      <td>1.256828</td>\n",
       "      <td>4.219293</td>\n",
       "      <td>...</td>\n",
       "      <td>10.414183</td>\n",
       "      <td>78.775936</td>\n",
       "      <td>398.048288</td>\n",
       "      <td>10.206366</td>\n",
       "      <td>1581</td>\n",
       "      <td>43</td>\n",
       "      <td>148.0</td>\n",
       "      <td>180.0</td>\n",
       "      <td>9.423611</td>\n",
       "      <td>5.361111</td>\n",
       "    </tr>\n",
       "    <tr>\n",
       "      <th>3</th>\n",
       "      <td>16.837671</td>\n",
       "      <td>14.375348</td>\n",
       "      <td>1</td>\n",
       "      <td>0</td>\n",
       "      <td>26.786914</td>\n",
       "      <td>2.400017</td>\n",
       "      <td>4.750517</td>\n",
       "      <td>26.786914</td>\n",
       "      <td>1.217587</td>\n",
       "      <td>4.002539</td>\n",
       "      <td>...</td>\n",
       "      <td>9.871326</td>\n",
       "      <td>69.455761</td>\n",
       "      <td>299.126991</td>\n",
       "      <td>7.669923</td>\n",
       "      <td>1148</td>\n",
       "      <td>30</td>\n",
       "      <td>112.0</td>\n",
       "      <td>127.0</td>\n",
       "      <td>8.979167</td>\n",
       "      <td>4.791667</td>\n",
       "    </tr>\n",
       "    <tr>\n",
       "      <th>4</th>\n",
       "      <td>17.505581</td>\n",
       "      <td>14.665786</td>\n",
       "      <td>0</td>\n",
       "      <td>0</td>\n",
       "      <td>28.161820</td>\n",
       "      <td>2.348170</td>\n",
       "      <td>4.664850</td>\n",
       "      <td>28.161820</td>\n",
       "      <td>1.224427</td>\n",
       "      <td>4.039410</td>\n",
       "      <td>...</td>\n",
       "      <td>9.790823</td>\n",
       "      <td>70.332875</td>\n",
       "      <td>331.135448</td>\n",
       "      <td>7.525806</td>\n",
       "      <td>1385</td>\n",
       "      <td>31</td>\n",
       "      <td>114.0</td>\n",
       "      <td>129.0</td>\n",
       "      <td>9.138889</td>\n",
       "      <td>5.083333</td>\n",
       "    </tr>\n",
       "  </tbody>\n",
       "</table>\n",
       "<p>5 rows × 1613 columns</p>\n",
       "</div>"
      ],
      "text/plain": [
       "         ABC      ABCGG  nAcid  nBase    SpAbs_A   SpMax_A  SpDiam_A  \\\n",
       "0  15.015651  11.837076      0      0  24.700232  2.447452  4.894904   \n",
       "1  15.803638  13.337477      0      0  26.690317  2.315762  4.631524   \n",
       "2  20.966332  18.025691      0      0  32.677538  2.583515  5.049966   \n",
       "3  16.837671  14.375348      1      0  26.786914  2.400017  4.750517   \n",
       "4  17.505581  14.665786      0      0  28.161820  2.348170  4.664850   \n",
       "\n",
       "      SpAD_A   SpMAD_A   LogEE_A  ...      SRW10     TSRW10          MW  \\\n",
       "0  24.700232  1.300012  3.890021  ...   9.964724  52.733581  254.057909   \n",
       "1  26.690317  1.270967  3.945888  ...   9.683776  54.219832  280.084792   \n",
       "2  32.677538  1.256828  4.219293  ...  10.414183  78.775936  398.048288   \n",
       "3  26.786914  1.217587  4.002539  ...   9.871326  69.455761  299.126991   \n",
       "4  28.161820  1.224427  4.039410  ...   9.790823  70.332875  331.135448   \n",
       "\n",
       "         AMW  WPath  WPol  Zagreb1  Zagreb2  mZagreb1  mZagreb2  \n",
       "0   8.760618    694    31    102.0    121.0  6.027778  4.111111  \n",
       "1   8.487418   1016    29    102.0    115.0  7.416667  4.805556  \n",
       "2  10.206366   1581    43    148.0    180.0  9.423611  5.361111  \n",
       "3   7.669923   1148    30    112.0    127.0  8.979167  4.791667  \n",
       "4   7.525806   1385    31    114.0    129.0  9.138889  5.083333  \n",
       "\n",
       "[5 rows x 1613 columns]"
      ]
     },
     "execution_count": 18,
     "metadata": {},
     "output_type": "execute_result"
    }
   ],
   "source": [
    "# Print fisrt five rows\n",
    "df.head()"
   ]
  },
  {
   "cell_type": "code",
   "execution_count": 19,
   "metadata": {},
   "outputs": [
    {
     "data": {
      "text/plain": [
       "(3521, 1613)"
      ]
     },
     "execution_count": 19,
     "metadata": {},
     "output_type": "execute_result"
    }
   ],
   "source": [
    "# Check the number of compounds and descriptors\n",
    "df.shape"
   ]
  },
  {
   "cell_type": "code",
   "execution_count": 20,
   "metadata": {},
   "outputs": [
    {
     "data": {
      "text/plain": [
       "Index(['ABC', 'ABCGG', 'nAcid', 'nBase', 'SpAbs_A', 'SpMax_A', 'SpDiam_A',\n",
       "       'SpAD_A', 'SpMAD_A', 'LogEE_A',\n",
       "       ...\n",
       "       'SRW10', 'TSRW10', 'MW', 'AMW', 'WPath', 'WPol', 'Zagreb1', 'Zagreb2',\n",
       "       'mZagreb1', 'mZagreb2'],\n",
       "      dtype='object', length=1613)"
      ]
     },
     "execution_count": 20,
     "metadata": {},
     "output_type": "execute_result"
    }
   ],
   "source": [
    "# Check the columns\n",
    "df.columns"
   ]
  },
  {
   "cell_type": "markdown",
   "metadata": {},
   "source": [
    "### Scale data"
   ]
  },
  {
   "cell_type": "code",
   "execution_count": 21,
   "metadata": {},
   "outputs": [
    {
     "name": "stderr",
     "output_type": "stream",
     "text": [
      "C:\\Users\\tiofi\\PyMOL\\envs\\rdkit2\\lib\\site-packages\\sklearn\\preprocessing\\_data.py:375: RuntimeWarning: All-NaN slice encountered\n",
      "  data_min = np.nanmin(X, axis=0)\n",
      "C:\\Users\\tiofi\\PyMOL\\envs\\rdkit2\\lib\\site-packages\\sklearn\\preprocessing\\_data.py:376: RuntimeWarning: All-NaN slice encountered\n",
      "  data_max = np.nanmax(X, axis=0)\n"
     ]
    }
   ],
   "source": [
    "# scale data between 0 and 1\n",
    "from sklearn import preprocessing\n",
    "\n",
    "x = df.values #returns a numpy array\n",
    "min_max_scaler = preprocessing.MinMaxScaler()\n",
    "x_scaled = min_max_scaler.fit_transform(x)\n",
    "df2 = pd.DataFrame(x_scaled)"
   ]
  },
  {
   "cell_type": "code",
   "execution_count": 22,
   "metadata": {},
   "outputs": [
    {
     "data": {
      "text/plain": [
       "(3521, 1613)"
      ]
     },
     "execution_count": 22,
     "metadata": {},
     "output_type": "execute_result"
    }
   ],
   "source": [
    "# Check the number of compounds and descriptors\n",
    "df2.shape"
   ]
  },
  {
   "cell_type": "code",
   "execution_count": 23,
   "metadata": {},
   "outputs": [
    {
     "data": {
      "text/html": [
       "<div>\n",
       "<style scoped>\n",
       "    .dataframe tbody tr th:only-of-type {\n",
       "        vertical-align: middle;\n",
       "    }\n",
       "\n",
       "    .dataframe tbody tr th {\n",
       "        vertical-align: top;\n",
       "    }\n",
       "\n",
       "    .dataframe thead th {\n",
       "        text-align: right;\n",
       "    }\n",
       "</style>\n",
       "<table border=\"1\" class=\"dataframe\">\n",
       "  <thead>\n",
       "    <tr style=\"text-align: right;\">\n",
       "      <th></th>\n",
       "      <th>0</th>\n",
       "      <th>1</th>\n",
       "      <th>2</th>\n",
       "      <th>3</th>\n",
       "      <th>4</th>\n",
       "      <th>5</th>\n",
       "      <th>6</th>\n",
       "      <th>7</th>\n",
       "      <th>8</th>\n",
       "      <th>9</th>\n",
       "      <th>...</th>\n",
       "      <th>1603</th>\n",
       "      <th>1604</th>\n",
       "      <th>1605</th>\n",
       "      <th>1606</th>\n",
       "      <th>1607</th>\n",
       "      <th>1608</th>\n",
       "      <th>1609</th>\n",
       "      <th>1610</th>\n",
       "      <th>1611</th>\n",
       "      <th>1612</th>\n",
       "    </tr>\n",
       "  </thead>\n",
       "  <tbody>\n",
       "    <tr>\n",
       "      <th>0</th>\n",
       "      <td>0.268410</td>\n",
       "      <td>0.288423</td>\n",
       "      <td>0.000</td>\n",
       "      <td>0.0</td>\n",
       "      <td>0.254019</td>\n",
       "      <td>0.746562</td>\n",
       "      <td>0.774874</td>\n",
       "      <td>0.254019</td>\n",
       "      <td>0.824298</td>\n",
       "      <td>0.656438</td>\n",
       "      <td>...</td>\n",
       "      <td>0.835904</td>\n",
       "      <td>0.378647</td>\n",
       "      <td>0.145736</td>\n",
       "      <td>0.159273</td>\n",
       "      <td>0.024318</td>\n",
       "      <td>0.218310</td>\n",
       "      <td>0.264550</td>\n",
       "      <td>0.254237</td>\n",
       "      <td>0.156250</td>\n",
       "      <td>0.199643</td>\n",
       "    </tr>\n",
       "    <tr>\n",
       "      <th>1</th>\n",
       "      <td>0.282496</td>\n",
       "      <td>0.324981</td>\n",
       "      <td>0.000</td>\n",
       "      <td>0.0</td>\n",
       "      <td>0.276289</td>\n",
       "      <td>0.678639</td>\n",
       "      <td>0.704375</td>\n",
       "      <td>0.276289</td>\n",
       "      <td>0.776417</td>\n",
       "      <td>0.671211</td>\n",
       "      <td>...</td>\n",
       "      <td>0.809416</td>\n",
       "      <td>0.391086</td>\n",
       "      <td>0.162896</td>\n",
       "      <td>0.148834</td>\n",
       "      <td>0.035618</td>\n",
       "      <td>0.204225</td>\n",
       "      <td>0.264550</td>\n",
       "      <td>0.241525</td>\n",
       "      <td>0.206653</td>\n",
       "      <td>0.244207</td>\n",
       "    </tr>\n",
       "    <tr>\n",
       "      <th>2</th>\n",
       "      <td>0.374781</td>\n",
       "      <td>0.439215</td>\n",
       "      <td>0.000</td>\n",
       "      <td>0.0</td>\n",
       "      <td>0.343287</td>\n",
       "      <td>0.816740</td>\n",
       "      <td>0.816379</td>\n",
       "      <td>0.343287</td>\n",
       "      <td>0.753107</td>\n",
       "      <td>0.743509</td>\n",
       "      <td>...</td>\n",
       "      <td>0.878280</td>\n",
       "      <td>0.596612</td>\n",
       "      <td>0.240673</td>\n",
       "      <td>0.214514</td>\n",
       "      <td>0.055444</td>\n",
       "      <td>0.302817</td>\n",
       "      <td>0.386243</td>\n",
       "      <td>0.379237</td>\n",
       "      <td>0.279486</td>\n",
       "      <td>0.279857</td>\n",
       "    </tr>\n",
       "    <tr>\n",
       "      <th>3</th>\n",
       "      <td>0.300980</td>\n",
       "      <td>0.350270</td>\n",
       "      <td>0.125</td>\n",
       "      <td>0.0</td>\n",
       "      <td>0.277370</td>\n",
       "      <td>0.722096</td>\n",
       "      <td>0.736226</td>\n",
       "      <td>0.277370</td>\n",
       "      <td>0.688416</td>\n",
       "      <td>0.686191</td>\n",
       "      <td>...</td>\n",
       "      <td>0.827099</td>\n",
       "      <td>0.518606</td>\n",
       "      <td>0.175451</td>\n",
       "      <td>0.117598</td>\n",
       "      <td>0.040250</td>\n",
       "      <td>0.211268</td>\n",
       "      <td>0.291005</td>\n",
       "      <td>0.266949</td>\n",
       "      <td>0.263357</td>\n",
       "      <td>0.243316</td>\n",
       "    </tr>\n",
       "    <tr>\n",
       "      <th>4</th>\n",
       "      <td>0.312919</td>\n",
       "      <td>0.357347</td>\n",
       "      <td>0.000</td>\n",
       "      <td>0.0</td>\n",
       "      <td>0.292755</td>\n",
       "      <td>0.695355</td>\n",
       "      <td>0.713296</td>\n",
       "      <td>0.292755</td>\n",
       "      <td>0.699692</td>\n",
       "      <td>0.695941</td>\n",
       "      <td>...</td>\n",
       "      <td>0.819509</td>\n",
       "      <td>0.525947</td>\n",
       "      <td>0.196555</td>\n",
       "      <td>0.112091</td>\n",
       "      <td>0.048567</td>\n",
       "      <td>0.218310</td>\n",
       "      <td>0.296296</td>\n",
       "      <td>0.271186</td>\n",
       "      <td>0.269153</td>\n",
       "      <td>0.262032</td>\n",
       "    </tr>\n",
       "  </tbody>\n",
       "</table>\n",
       "<p>5 rows × 1613 columns</p>\n",
       "</div>"
      ],
      "text/plain": [
       "       0         1      2     3         4         5         6         7     \\\n",
       "0  0.268410  0.288423  0.000   0.0  0.254019  0.746562  0.774874  0.254019   \n",
       "1  0.282496  0.324981  0.000   0.0  0.276289  0.678639  0.704375  0.276289   \n",
       "2  0.374781  0.439215  0.000   0.0  0.343287  0.816740  0.816379  0.343287   \n",
       "3  0.300980  0.350270  0.125   0.0  0.277370  0.722096  0.736226  0.277370   \n",
       "4  0.312919  0.357347  0.000   0.0  0.292755  0.695355  0.713296  0.292755   \n",
       "\n",
       "       8         9     ...      1603      1604      1605      1606      1607  \\\n",
       "0  0.824298  0.656438  ...  0.835904  0.378647  0.145736  0.159273  0.024318   \n",
       "1  0.776417  0.671211  ...  0.809416  0.391086  0.162896  0.148834  0.035618   \n",
       "2  0.753107  0.743509  ...  0.878280  0.596612  0.240673  0.214514  0.055444   \n",
       "3  0.688416  0.686191  ...  0.827099  0.518606  0.175451  0.117598  0.040250   \n",
       "4  0.699692  0.695941  ...  0.819509  0.525947  0.196555  0.112091  0.048567   \n",
       "\n",
       "       1608      1609      1610      1611      1612  \n",
       "0  0.218310  0.264550  0.254237  0.156250  0.199643  \n",
       "1  0.204225  0.264550  0.241525  0.206653  0.244207  \n",
       "2  0.302817  0.386243  0.379237  0.279486  0.279857  \n",
       "3  0.211268  0.291005  0.266949  0.263357  0.243316  \n",
       "4  0.218310  0.296296  0.271186  0.269153  0.262032  \n",
       "\n",
       "[5 rows x 1613 columns]"
      ]
     },
     "execution_count": 23,
     "metadata": {},
     "output_type": "execute_result"
    }
   ],
   "source": [
    "# Print fisrt five rows of the scaled DataFrame of descriptors\n",
    "df2.head()"
   ]
  },
  {
   "cell_type": "code",
   "execution_count": 24,
   "metadata": {},
   "outputs": [
    {
     "data": {
      "text/html": [
       "<div>\n",
       "<style scoped>\n",
       "    .dataframe tbody tr th:only-of-type {\n",
       "        vertical-align: middle;\n",
       "    }\n",
       "\n",
       "    .dataframe tbody tr th {\n",
       "        vertical-align: top;\n",
       "    }\n",
       "\n",
       "    .dataframe thead th {\n",
       "        text-align: right;\n",
       "    }\n",
       "</style>\n",
       "<table border=\"1\" class=\"dataframe\">\n",
       "  <thead>\n",
       "    <tr style=\"text-align: right;\">\n",
       "      <th></th>\n",
       "      <th>ABC</th>\n",
       "      <th>ABCGG</th>\n",
       "      <th>nAcid</th>\n",
       "      <th>nBase</th>\n",
       "      <th>SpAbs_A</th>\n",
       "      <th>SpMax_A</th>\n",
       "      <th>SpDiam_A</th>\n",
       "      <th>SpAD_A</th>\n",
       "      <th>SpMAD_A</th>\n",
       "      <th>LogEE_A</th>\n",
       "      <th>...</th>\n",
       "      <th>SRW10</th>\n",
       "      <th>TSRW10</th>\n",
       "      <th>MW</th>\n",
       "      <th>AMW</th>\n",
       "      <th>WPath</th>\n",
       "      <th>WPol</th>\n",
       "      <th>Zagreb1</th>\n",
       "      <th>Zagreb2</th>\n",
       "      <th>mZagreb1</th>\n",
       "      <th>mZagreb2</th>\n",
       "    </tr>\n",
       "  </thead>\n",
       "  <tbody>\n",
       "    <tr>\n",
       "      <th>0</th>\n",
       "      <td>15.015651</td>\n",
       "      <td>11.837076</td>\n",
       "      <td>0</td>\n",
       "      <td>0</td>\n",
       "      <td>24.700232</td>\n",
       "      <td>2.447452</td>\n",
       "      <td>4.894904</td>\n",
       "      <td>24.700232</td>\n",
       "      <td>1.300012</td>\n",
       "      <td>3.890021</td>\n",
       "      <td>...</td>\n",
       "      <td>9.964724</td>\n",
       "      <td>52.733581</td>\n",
       "      <td>254.057909</td>\n",
       "      <td>8.760618</td>\n",
       "      <td>694</td>\n",
       "      <td>31</td>\n",
       "      <td>102.0</td>\n",
       "      <td>121.0</td>\n",
       "      <td>6.027778</td>\n",
       "      <td>4.111111</td>\n",
       "    </tr>\n",
       "    <tr>\n",
       "      <th>1</th>\n",
       "      <td>15.803638</td>\n",
       "      <td>13.337477</td>\n",
       "      <td>0</td>\n",
       "      <td>0</td>\n",
       "      <td>26.690317</td>\n",
       "      <td>2.315762</td>\n",
       "      <td>4.631524</td>\n",
       "      <td>26.690317</td>\n",
       "      <td>1.270967</td>\n",
       "      <td>3.945888</td>\n",
       "      <td>...</td>\n",
       "      <td>9.683776</td>\n",
       "      <td>54.219832</td>\n",
       "      <td>280.084792</td>\n",
       "      <td>8.487418</td>\n",
       "      <td>1016</td>\n",
       "      <td>29</td>\n",
       "      <td>102.0</td>\n",
       "      <td>115.0</td>\n",
       "      <td>7.416667</td>\n",
       "      <td>4.805556</td>\n",
       "    </tr>\n",
       "    <tr>\n",
       "      <th>2</th>\n",
       "      <td>20.966332</td>\n",
       "      <td>18.025691</td>\n",
       "      <td>0</td>\n",
       "      <td>0</td>\n",
       "      <td>32.677538</td>\n",
       "      <td>2.583515</td>\n",
       "      <td>5.049966</td>\n",
       "      <td>32.677538</td>\n",
       "      <td>1.256828</td>\n",
       "      <td>4.219293</td>\n",
       "      <td>...</td>\n",
       "      <td>10.414183</td>\n",
       "      <td>78.775936</td>\n",
       "      <td>398.048288</td>\n",
       "      <td>10.206366</td>\n",
       "      <td>1581</td>\n",
       "      <td>43</td>\n",
       "      <td>148.0</td>\n",
       "      <td>180.0</td>\n",
       "      <td>9.423611</td>\n",
       "      <td>5.361111</td>\n",
       "    </tr>\n",
       "    <tr>\n",
       "      <th>3</th>\n",
       "      <td>16.837671</td>\n",
       "      <td>14.375348</td>\n",
       "      <td>1</td>\n",
       "      <td>0</td>\n",
       "      <td>26.786914</td>\n",
       "      <td>2.400017</td>\n",
       "      <td>4.750517</td>\n",
       "      <td>26.786914</td>\n",
       "      <td>1.217587</td>\n",
       "      <td>4.002539</td>\n",
       "      <td>...</td>\n",
       "      <td>9.871326</td>\n",
       "      <td>69.455761</td>\n",
       "      <td>299.126991</td>\n",
       "      <td>7.669923</td>\n",
       "      <td>1148</td>\n",
       "      <td>30</td>\n",
       "      <td>112.0</td>\n",
       "      <td>127.0</td>\n",
       "      <td>8.979167</td>\n",
       "      <td>4.791667</td>\n",
       "    </tr>\n",
       "    <tr>\n",
       "      <th>4</th>\n",
       "      <td>17.505581</td>\n",
       "      <td>14.665786</td>\n",
       "      <td>0</td>\n",
       "      <td>0</td>\n",
       "      <td>28.161820</td>\n",
       "      <td>2.348170</td>\n",
       "      <td>4.664850</td>\n",
       "      <td>28.161820</td>\n",
       "      <td>1.224427</td>\n",
       "      <td>4.039410</td>\n",
       "      <td>...</td>\n",
       "      <td>9.790823</td>\n",
       "      <td>70.332875</td>\n",
       "      <td>331.135448</td>\n",
       "      <td>7.525806</td>\n",
       "      <td>1385</td>\n",
       "      <td>31</td>\n",
       "      <td>114.0</td>\n",
       "      <td>129.0</td>\n",
       "      <td>9.138889</td>\n",
       "      <td>5.083333</td>\n",
       "    </tr>\n",
       "  </tbody>\n",
       "</table>\n",
       "<p>5 rows × 1613 columns</p>\n",
       "</div>"
      ],
      "text/plain": [
       "         ABC      ABCGG  nAcid  nBase    SpAbs_A   SpMax_A  SpDiam_A  \\\n",
       "0  15.015651  11.837076      0      0  24.700232  2.447452  4.894904   \n",
       "1  15.803638  13.337477      0      0  26.690317  2.315762  4.631524   \n",
       "2  20.966332  18.025691      0      0  32.677538  2.583515  5.049966   \n",
       "3  16.837671  14.375348      1      0  26.786914  2.400017  4.750517   \n",
       "4  17.505581  14.665786      0      0  28.161820  2.348170  4.664850   \n",
       "\n",
       "      SpAD_A   SpMAD_A   LogEE_A  ...      SRW10     TSRW10          MW  \\\n",
       "0  24.700232  1.300012  3.890021  ...   9.964724  52.733581  254.057909   \n",
       "1  26.690317  1.270967  3.945888  ...   9.683776  54.219832  280.084792   \n",
       "2  32.677538  1.256828  4.219293  ...  10.414183  78.775936  398.048288   \n",
       "3  26.786914  1.217587  4.002539  ...   9.871326  69.455761  299.126991   \n",
       "4  28.161820  1.224427  4.039410  ...   9.790823  70.332875  331.135448   \n",
       "\n",
       "         AMW  WPath  WPol  Zagreb1  Zagreb2  mZagreb1  mZagreb2  \n",
       "0   8.760618    694    31    102.0    121.0  6.027778  4.111111  \n",
       "1   8.487418   1016    29    102.0    115.0  7.416667  4.805556  \n",
       "2  10.206366   1581    43    148.0    180.0  9.423611  5.361111  \n",
       "3   7.669923   1148    30    112.0    127.0  8.979167  4.791667  \n",
       "4   7.525806   1385    31    114.0    129.0  9.138889  5.083333  \n",
       "\n",
       "[5 rows x 1613 columns]"
      ]
     },
     "execution_count": 24,
     "metadata": {},
     "output_type": "execute_result"
    }
   ],
   "source": [
    "# Print fisrt five rows of the first DataFrame of descriptors\n",
    "df.head()"
   ]
  },
  {
   "cell_type": "code",
   "execution_count": 25,
   "metadata": {},
   "outputs": [],
   "source": [
    "# Recuperate the name of columns lost during scaling\n",
    "df2.columns=df.columns.values"
   ]
  },
  {
   "cell_type": "code",
   "execution_count": 26,
   "metadata": {},
   "outputs": [
    {
     "data": {
      "text/html": [
       "<div>\n",
       "<style scoped>\n",
       "    .dataframe tbody tr th:only-of-type {\n",
       "        vertical-align: middle;\n",
       "    }\n",
       "\n",
       "    .dataframe tbody tr th {\n",
       "        vertical-align: top;\n",
       "    }\n",
       "\n",
       "    .dataframe thead th {\n",
       "        text-align: right;\n",
       "    }\n",
       "</style>\n",
       "<table border=\"1\" class=\"dataframe\">\n",
       "  <thead>\n",
       "    <tr style=\"text-align: right;\">\n",
       "      <th></th>\n",
       "      <th>ABC</th>\n",
       "      <th>ABCGG</th>\n",
       "      <th>nAcid</th>\n",
       "      <th>nBase</th>\n",
       "      <th>SpAbs_A</th>\n",
       "      <th>SpMax_A</th>\n",
       "      <th>SpDiam_A</th>\n",
       "      <th>SpAD_A</th>\n",
       "      <th>SpMAD_A</th>\n",
       "      <th>LogEE_A</th>\n",
       "      <th>...</th>\n",
       "      <th>SRW10</th>\n",
       "      <th>TSRW10</th>\n",
       "      <th>MW</th>\n",
       "      <th>AMW</th>\n",
       "      <th>WPath</th>\n",
       "      <th>WPol</th>\n",
       "      <th>Zagreb1</th>\n",
       "      <th>Zagreb2</th>\n",
       "      <th>mZagreb1</th>\n",
       "      <th>mZagreb2</th>\n",
       "    </tr>\n",
       "  </thead>\n",
       "  <tbody>\n",
       "    <tr>\n",
       "      <th>0</th>\n",
       "      <td>0.268410</td>\n",
       "      <td>0.288423</td>\n",
       "      <td>0.000</td>\n",
       "      <td>0.0</td>\n",
       "      <td>0.254019</td>\n",
       "      <td>0.746562</td>\n",
       "      <td>0.774874</td>\n",
       "      <td>0.254019</td>\n",
       "      <td>0.824298</td>\n",
       "      <td>0.656438</td>\n",
       "      <td>...</td>\n",
       "      <td>0.835904</td>\n",
       "      <td>0.378647</td>\n",
       "      <td>0.145736</td>\n",
       "      <td>0.159273</td>\n",
       "      <td>0.024318</td>\n",
       "      <td>0.218310</td>\n",
       "      <td>0.264550</td>\n",
       "      <td>0.254237</td>\n",
       "      <td>0.156250</td>\n",
       "      <td>0.199643</td>\n",
       "    </tr>\n",
       "    <tr>\n",
       "      <th>1</th>\n",
       "      <td>0.282496</td>\n",
       "      <td>0.324981</td>\n",
       "      <td>0.000</td>\n",
       "      <td>0.0</td>\n",
       "      <td>0.276289</td>\n",
       "      <td>0.678639</td>\n",
       "      <td>0.704375</td>\n",
       "      <td>0.276289</td>\n",
       "      <td>0.776417</td>\n",
       "      <td>0.671211</td>\n",
       "      <td>...</td>\n",
       "      <td>0.809416</td>\n",
       "      <td>0.391086</td>\n",
       "      <td>0.162896</td>\n",
       "      <td>0.148834</td>\n",
       "      <td>0.035618</td>\n",
       "      <td>0.204225</td>\n",
       "      <td>0.264550</td>\n",
       "      <td>0.241525</td>\n",
       "      <td>0.206653</td>\n",
       "      <td>0.244207</td>\n",
       "    </tr>\n",
       "    <tr>\n",
       "      <th>2</th>\n",
       "      <td>0.374781</td>\n",
       "      <td>0.439215</td>\n",
       "      <td>0.000</td>\n",
       "      <td>0.0</td>\n",
       "      <td>0.343287</td>\n",
       "      <td>0.816740</td>\n",
       "      <td>0.816379</td>\n",
       "      <td>0.343287</td>\n",
       "      <td>0.753107</td>\n",
       "      <td>0.743509</td>\n",
       "      <td>...</td>\n",
       "      <td>0.878280</td>\n",
       "      <td>0.596612</td>\n",
       "      <td>0.240673</td>\n",
       "      <td>0.214514</td>\n",
       "      <td>0.055444</td>\n",
       "      <td>0.302817</td>\n",
       "      <td>0.386243</td>\n",
       "      <td>0.379237</td>\n",
       "      <td>0.279486</td>\n",
       "      <td>0.279857</td>\n",
       "    </tr>\n",
       "    <tr>\n",
       "      <th>3</th>\n",
       "      <td>0.300980</td>\n",
       "      <td>0.350270</td>\n",
       "      <td>0.125</td>\n",
       "      <td>0.0</td>\n",
       "      <td>0.277370</td>\n",
       "      <td>0.722096</td>\n",
       "      <td>0.736226</td>\n",
       "      <td>0.277370</td>\n",
       "      <td>0.688416</td>\n",
       "      <td>0.686191</td>\n",
       "      <td>...</td>\n",
       "      <td>0.827099</td>\n",
       "      <td>0.518606</td>\n",
       "      <td>0.175451</td>\n",
       "      <td>0.117598</td>\n",
       "      <td>0.040250</td>\n",
       "      <td>0.211268</td>\n",
       "      <td>0.291005</td>\n",
       "      <td>0.266949</td>\n",
       "      <td>0.263357</td>\n",
       "      <td>0.243316</td>\n",
       "    </tr>\n",
       "    <tr>\n",
       "      <th>4</th>\n",
       "      <td>0.312919</td>\n",
       "      <td>0.357347</td>\n",
       "      <td>0.000</td>\n",
       "      <td>0.0</td>\n",
       "      <td>0.292755</td>\n",
       "      <td>0.695355</td>\n",
       "      <td>0.713296</td>\n",
       "      <td>0.292755</td>\n",
       "      <td>0.699692</td>\n",
       "      <td>0.695941</td>\n",
       "      <td>...</td>\n",
       "      <td>0.819509</td>\n",
       "      <td>0.525947</td>\n",
       "      <td>0.196555</td>\n",
       "      <td>0.112091</td>\n",
       "      <td>0.048567</td>\n",
       "      <td>0.218310</td>\n",
       "      <td>0.296296</td>\n",
       "      <td>0.271186</td>\n",
       "      <td>0.269153</td>\n",
       "      <td>0.262032</td>\n",
       "    </tr>\n",
       "  </tbody>\n",
       "</table>\n",
       "<p>5 rows × 1613 columns</p>\n",
       "</div>"
      ],
      "text/plain": [
       "        ABC     ABCGG  nAcid  nBase   SpAbs_A   SpMax_A  SpDiam_A    SpAD_A  \\\n",
       "0  0.268410  0.288423  0.000    0.0  0.254019  0.746562  0.774874  0.254019   \n",
       "1  0.282496  0.324981  0.000    0.0  0.276289  0.678639  0.704375  0.276289   \n",
       "2  0.374781  0.439215  0.000    0.0  0.343287  0.816740  0.816379  0.343287   \n",
       "3  0.300980  0.350270  0.125    0.0  0.277370  0.722096  0.736226  0.277370   \n",
       "4  0.312919  0.357347  0.000    0.0  0.292755  0.695355  0.713296  0.292755   \n",
       "\n",
       "    SpMAD_A   LogEE_A  ...     SRW10    TSRW10        MW       AMW     WPath  \\\n",
       "0  0.824298  0.656438  ...  0.835904  0.378647  0.145736  0.159273  0.024318   \n",
       "1  0.776417  0.671211  ...  0.809416  0.391086  0.162896  0.148834  0.035618   \n",
       "2  0.753107  0.743509  ...  0.878280  0.596612  0.240673  0.214514  0.055444   \n",
       "3  0.688416  0.686191  ...  0.827099  0.518606  0.175451  0.117598  0.040250   \n",
       "4  0.699692  0.695941  ...  0.819509  0.525947  0.196555  0.112091  0.048567   \n",
       "\n",
       "       WPol   Zagreb1   Zagreb2  mZagreb1  mZagreb2  \n",
       "0  0.218310  0.264550  0.254237  0.156250  0.199643  \n",
       "1  0.204225  0.264550  0.241525  0.206653  0.244207  \n",
       "2  0.302817  0.386243  0.379237  0.279486  0.279857  \n",
       "3  0.211268  0.291005  0.266949  0.263357  0.243316  \n",
       "4  0.218310  0.296296  0.271186  0.269153  0.262032  \n",
       "\n",
       "[5 rows x 1613 columns]"
      ]
     },
     "execution_count": 26,
     "metadata": {},
     "output_type": "execute_result"
    }
   ],
   "source": [
    "# Print fisrt five rows \n",
    "df2.head()"
   ]
  },
  {
   "cell_type": "markdown",
   "metadata": {},
   "source": [
    "### Remove columns with NaN"
   ]
  },
  {
   "cell_type": "code",
   "execution_count": 27,
   "metadata": {},
   "outputs": [
    {
     "data": {
      "text/plain": [
       "True"
      ]
     },
     "execution_count": 27,
     "metadata": {},
     "output_type": "execute_result"
    }
   ],
   "source": [
    "# Check the existence of NaN values\n",
    "df2.isnull().values.any()"
   ]
  },
  {
   "cell_type": "code",
   "execution_count": 28,
   "metadata": {},
   "outputs": [],
   "source": [
    "# Drop the columns with NaN values\n",
    "df3 = df2.dropna(axis = 1, how ='any')"
   ]
  },
  {
   "cell_type": "code",
   "execution_count": 29,
   "metadata": {},
   "outputs": [
    {
     "data": {
      "text/plain": [
       "(3521, 1139)"
      ]
     },
     "execution_count": 29,
     "metadata": {},
     "output_type": "execute_result"
    }
   ],
   "source": [
    "# Check the number of compounds and descriptors\n",
    "df3.shape"
   ]
  },
  {
   "cell_type": "code",
   "execution_count": 30,
   "metadata": {},
   "outputs": [
    {
     "data": {
      "text/plain": [
       "False"
      ]
     },
     "execution_count": 30,
     "metadata": {},
     "output_type": "execute_result"
    }
   ],
   "source": [
    "# Check the existence of NaN values\n",
    "df3.isnull().values.any()"
   ]
  },
  {
   "cell_type": "code",
   "execution_count": 31,
   "metadata": {},
   "outputs": [
    {
     "data": {
      "text/html": [
       "<div>\n",
       "<style scoped>\n",
       "    .dataframe tbody tr th:only-of-type {\n",
       "        vertical-align: middle;\n",
       "    }\n",
       "\n",
       "    .dataframe tbody tr th {\n",
       "        vertical-align: top;\n",
       "    }\n",
       "\n",
       "    .dataframe thead th {\n",
       "        text-align: right;\n",
       "    }\n",
       "</style>\n",
       "<table border=\"1\" class=\"dataframe\">\n",
       "  <thead>\n",
       "    <tr style=\"text-align: right;\">\n",
       "      <th></th>\n",
       "      <th>ABC</th>\n",
       "      <th>ABCGG</th>\n",
       "      <th>nAcid</th>\n",
       "      <th>nBase</th>\n",
       "      <th>SpAbs_A</th>\n",
       "      <th>SpMax_A</th>\n",
       "      <th>SpDiam_A</th>\n",
       "      <th>SpAD_A</th>\n",
       "      <th>SpMAD_A</th>\n",
       "      <th>LogEE_A</th>\n",
       "      <th>...</th>\n",
       "      <th>SRW10</th>\n",
       "      <th>TSRW10</th>\n",
       "      <th>MW</th>\n",
       "      <th>AMW</th>\n",
       "      <th>WPath</th>\n",
       "      <th>WPol</th>\n",
       "      <th>Zagreb1</th>\n",
       "      <th>Zagreb2</th>\n",
       "      <th>mZagreb1</th>\n",
       "      <th>mZagreb2</th>\n",
       "    </tr>\n",
       "  </thead>\n",
       "  <tbody>\n",
       "    <tr>\n",
       "      <th>0</th>\n",
       "      <td>0.268410</td>\n",
       "      <td>0.288423</td>\n",
       "      <td>0.000</td>\n",
       "      <td>0.0</td>\n",
       "      <td>0.254019</td>\n",
       "      <td>0.746562</td>\n",
       "      <td>0.774874</td>\n",
       "      <td>0.254019</td>\n",
       "      <td>0.824298</td>\n",
       "      <td>0.656438</td>\n",
       "      <td>...</td>\n",
       "      <td>0.835904</td>\n",
       "      <td>0.378647</td>\n",
       "      <td>0.145736</td>\n",
       "      <td>0.159273</td>\n",
       "      <td>0.024318</td>\n",
       "      <td>0.218310</td>\n",
       "      <td>0.264550</td>\n",
       "      <td>0.254237</td>\n",
       "      <td>0.156250</td>\n",
       "      <td>0.199643</td>\n",
       "    </tr>\n",
       "    <tr>\n",
       "      <th>1</th>\n",
       "      <td>0.282496</td>\n",
       "      <td>0.324981</td>\n",
       "      <td>0.000</td>\n",
       "      <td>0.0</td>\n",
       "      <td>0.276289</td>\n",
       "      <td>0.678639</td>\n",
       "      <td>0.704375</td>\n",
       "      <td>0.276289</td>\n",
       "      <td>0.776417</td>\n",
       "      <td>0.671211</td>\n",
       "      <td>...</td>\n",
       "      <td>0.809416</td>\n",
       "      <td>0.391086</td>\n",
       "      <td>0.162896</td>\n",
       "      <td>0.148834</td>\n",
       "      <td>0.035618</td>\n",
       "      <td>0.204225</td>\n",
       "      <td>0.264550</td>\n",
       "      <td>0.241525</td>\n",
       "      <td>0.206653</td>\n",
       "      <td>0.244207</td>\n",
       "    </tr>\n",
       "    <tr>\n",
       "      <th>2</th>\n",
       "      <td>0.374781</td>\n",
       "      <td>0.439215</td>\n",
       "      <td>0.000</td>\n",
       "      <td>0.0</td>\n",
       "      <td>0.343287</td>\n",
       "      <td>0.816740</td>\n",
       "      <td>0.816379</td>\n",
       "      <td>0.343287</td>\n",
       "      <td>0.753107</td>\n",
       "      <td>0.743509</td>\n",
       "      <td>...</td>\n",
       "      <td>0.878280</td>\n",
       "      <td>0.596612</td>\n",
       "      <td>0.240673</td>\n",
       "      <td>0.214514</td>\n",
       "      <td>0.055444</td>\n",
       "      <td>0.302817</td>\n",
       "      <td>0.386243</td>\n",
       "      <td>0.379237</td>\n",
       "      <td>0.279486</td>\n",
       "      <td>0.279857</td>\n",
       "    </tr>\n",
       "    <tr>\n",
       "      <th>3</th>\n",
       "      <td>0.300980</td>\n",
       "      <td>0.350270</td>\n",
       "      <td>0.125</td>\n",
       "      <td>0.0</td>\n",
       "      <td>0.277370</td>\n",
       "      <td>0.722096</td>\n",
       "      <td>0.736226</td>\n",
       "      <td>0.277370</td>\n",
       "      <td>0.688416</td>\n",
       "      <td>0.686191</td>\n",
       "      <td>...</td>\n",
       "      <td>0.827099</td>\n",
       "      <td>0.518606</td>\n",
       "      <td>0.175451</td>\n",
       "      <td>0.117598</td>\n",
       "      <td>0.040250</td>\n",
       "      <td>0.211268</td>\n",
       "      <td>0.291005</td>\n",
       "      <td>0.266949</td>\n",
       "      <td>0.263357</td>\n",
       "      <td>0.243316</td>\n",
       "    </tr>\n",
       "    <tr>\n",
       "      <th>4</th>\n",
       "      <td>0.312919</td>\n",
       "      <td>0.357347</td>\n",
       "      <td>0.000</td>\n",
       "      <td>0.0</td>\n",
       "      <td>0.292755</td>\n",
       "      <td>0.695355</td>\n",
       "      <td>0.713296</td>\n",
       "      <td>0.292755</td>\n",
       "      <td>0.699692</td>\n",
       "      <td>0.695941</td>\n",
       "      <td>...</td>\n",
       "      <td>0.819509</td>\n",
       "      <td>0.525947</td>\n",
       "      <td>0.196555</td>\n",
       "      <td>0.112091</td>\n",
       "      <td>0.048567</td>\n",
       "      <td>0.218310</td>\n",
       "      <td>0.296296</td>\n",
       "      <td>0.271186</td>\n",
       "      <td>0.269153</td>\n",
       "      <td>0.262032</td>\n",
       "    </tr>\n",
       "  </tbody>\n",
       "</table>\n",
       "<p>5 rows × 1139 columns</p>\n",
       "</div>"
      ],
      "text/plain": [
       "        ABC     ABCGG  nAcid  nBase   SpAbs_A   SpMax_A  SpDiam_A    SpAD_A  \\\n",
       "0  0.268410  0.288423  0.000    0.0  0.254019  0.746562  0.774874  0.254019   \n",
       "1  0.282496  0.324981  0.000    0.0  0.276289  0.678639  0.704375  0.276289   \n",
       "2  0.374781  0.439215  0.000    0.0  0.343287  0.816740  0.816379  0.343287   \n",
       "3  0.300980  0.350270  0.125    0.0  0.277370  0.722096  0.736226  0.277370   \n",
       "4  0.312919  0.357347  0.000    0.0  0.292755  0.695355  0.713296  0.292755   \n",
       "\n",
       "    SpMAD_A   LogEE_A  ...     SRW10    TSRW10        MW       AMW     WPath  \\\n",
       "0  0.824298  0.656438  ...  0.835904  0.378647  0.145736  0.159273  0.024318   \n",
       "1  0.776417  0.671211  ...  0.809416  0.391086  0.162896  0.148834  0.035618   \n",
       "2  0.753107  0.743509  ...  0.878280  0.596612  0.240673  0.214514  0.055444   \n",
       "3  0.688416  0.686191  ...  0.827099  0.518606  0.175451  0.117598  0.040250   \n",
       "4  0.699692  0.695941  ...  0.819509  0.525947  0.196555  0.112091  0.048567   \n",
       "\n",
       "       WPol   Zagreb1   Zagreb2  mZagreb1  mZagreb2  \n",
       "0  0.218310  0.264550  0.254237  0.156250  0.199643  \n",
       "1  0.204225  0.264550  0.241525  0.206653  0.244207  \n",
       "2  0.302817  0.386243  0.379237  0.279486  0.279857  \n",
       "3  0.211268  0.291005  0.266949  0.263357  0.243316  \n",
       "4  0.218310  0.296296  0.271186  0.269153  0.262032  \n",
       "\n",
       "[5 rows x 1139 columns]"
      ]
     },
     "execution_count": 31,
     "metadata": {},
     "output_type": "execute_result"
    }
   ],
   "source": [
    "# Print fisrt five rows \n",
    "df3.head()"
   ]
  },
  {
   "cell_type": "markdown",
   "metadata": {},
   "source": [
    "### Remove High correlated features"
   ]
  },
  {
   "cell_type": "code",
   "execution_count": 32,
   "metadata": {},
   "outputs": [],
   "source": [
    "from sklearn.feature_selection import VarianceThreshold"
   ]
  },
  {
   "cell_type": "code",
   "execution_count": 33,
   "metadata": {},
   "outputs": [
    {
     "data": {
      "text/plain": [
       "VarianceThreshold(threshold=0.01)"
      ]
     },
     "execution_count": 33,
     "metadata": {},
     "output_type": "execute_result"
    }
   ],
   "source": [
    "# Constant descriptors\n",
    "constant_filter = VarianceThreshold(threshold=0.01)  \n",
    "constant_filter.fit(df3) "
   ]
  },
  {
   "cell_type": "code",
   "execution_count": 34,
   "metadata": {},
   "outputs": [
    {
     "data": {
      "text/plain": [
       "534"
      ]
     },
     "execution_count": 34,
     "metadata": {},
     "output_type": "execute_result"
    }
   ],
   "source": [
    "# Number of not constant descriptors\n",
    "len(df3.columns[constant_filter.get_support()])"
   ]
  },
  {
   "cell_type": "code",
   "execution_count": 35,
   "metadata": {},
   "outputs": [
    {
     "name": "stdout",
     "output_type": "stream",
     "text": [
      "605\n"
     ]
    }
   ],
   "source": [
    "# Number of constant descriptors\n",
    "constant_columns = [column for column in df3.columns\n",
    "                    if column not in df3.columns[constant_filter.get_support()]]\n",
    "\n",
    "print(len(constant_columns))"
   ]
  },
  {
   "cell_type": "code",
   "execution_count": 36,
   "metadata": {},
   "outputs": [],
   "source": [
    "# Remove constant columns\n",
    "df4 = df3.drop(labels=constant_columns, axis=1)"
   ]
  },
  {
   "cell_type": "code",
   "execution_count": 37,
   "metadata": {},
   "outputs": [
    {
     "data": {
      "text/html": [
       "<div>\n",
       "<style scoped>\n",
       "    .dataframe tbody tr th:only-of-type {\n",
       "        vertical-align: middle;\n",
       "    }\n",
       "\n",
       "    .dataframe tbody tr th {\n",
       "        vertical-align: top;\n",
       "    }\n",
       "\n",
       "    .dataframe thead th {\n",
       "        text-align: right;\n",
       "    }\n",
       "</style>\n",
       "<table border=\"1\" class=\"dataframe\">\n",
       "  <thead>\n",
       "    <tr style=\"text-align: right;\">\n",
       "      <th></th>\n",
       "      <th>ABC</th>\n",
       "      <th>ABCGG</th>\n",
       "      <th>SpAbs_A</th>\n",
       "      <th>SpAD_A</th>\n",
       "      <th>SpMAD_A</th>\n",
       "      <th>LogEE_A</th>\n",
       "      <th>VE1_A</th>\n",
       "      <th>VE3_A</th>\n",
       "      <th>nAromAtom</th>\n",
       "      <th>nAromBond</th>\n",
       "      <th>...</th>\n",
       "      <th>SRW03</th>\n",
       "      <th>SRW05</th>\n",
       "      <th>SRW07</th>\n",
       "      <th>SRW09</th>\n",
       "      <th>TSRW10</th>\n",
       "      <th>WPol</th>\n",
       "      <th>Zagreb1</th>\n",
       "      <th>Zagreb2</th>\n",
       "      <th>mZagreb1</th>\n",
       "      <th>mZagreb2</th>\n",
       "    </tr>\n",
       "  </thead>\n",
       "  <tbody>\n",
       "    <tr>\n",
       "      <th>0</th>\n",
       "      <td>0.268410</td>\n",
       "      <td>0.288423</td>\n",
       "      <td>0.254019</td>\n",
       "      <td>0.254019</td>\n",
       "      <td>0.824298</td>\n",
       "      <td>0.656438</td>\n",
       "      <td>0.463080</td>\n",
       "      <td>0.651971</td>\n",
       "      <td>0.484848</td>\n",
       "      <td>0.500000</td>\n",
       "      <td>...</td>\n",
       "      <td>0.0</td>\n",
       "      <td>0.000000</td>\n",
       "      <td>0.000000</td>\n",
       "      <td>0.000000</td>\n",
       "      <td>0.378647</td>\n",
       "      <td>0.218310</td>\n",
       "      <td>0.264550</td>\n",
       "      <td>0.254237</td>\n",
       "      <td>0.156250</td>\n",
       "      <td>0.199643</td>\n",
       "    </tr>\n",
       "    <tr>\n",
       "      <th>1</th>\n",
       "      <td>0.282496</td>\n",
       "      <td>0.324981</td>\n",
       "      <td>0.276289</td>\n",
       "      <td>0.276289</td>\n",
       "      <td>0.776417</td>\n",
       "      <td>0.671211</td>\n",
       "      <td>0.499802</td>\n",
       "      <td>0.681777</td>\n",
       "      <td>0.363636</td>\n",
       "      <td>0.352941</td>\n",
       "      <td>...</td>\n",
       "      <td>0.0</td>\n",
       "      <td>0.000000</td>\n",
       "      <td>0.000000</td>\n",
       "      <td>0.000000</td>\n",
       "      <td>0.391086</td>\n",
       "      <td>0.204225</td>\n",
       "      <td>0.264550</td>\n",
       "      <td>0.241525</td>\n",
       "      <td>0.206653</td>\n",
       "      <td>0.244207</td>\n",
       "    </tr>\n",
       "    <tr>\n",
       "      <th>2</th>\n",
       "      <td>0.374781</td>\n",
       "      <td>0.439215</td>\n",
       "      <td>0.343287</td>\n",
       "      <td>0.343287</td>\n",
       "      <td>0.753107</td>\n",
       "      <td>0.743509</td>\n",
       "      <td>0.510766</td>\n",
       "      <td>0.727197</td>\n",
       "      <td>0.424242</td>\n",
       "      <td>0.441176</td>\n",
       "      <td>...</td>\n",
       "      <td>0.0</td>\n",
       "      <td>0.716042</td>\n",
       "      <td>0.832025</td>\n",
       "      <td>0.847619</td>\n",
       "      <td>0.596612</td>\n",
       "      <td>0.302817</td>\n",
       "      <td>0.386243</td>\n",
       "      <td>0.379237</td>\n",
       "      <td>0.279486</td>\n",
       "      <td>0.279857</td>\n",
       "    </tr>\n",
       "    <tr>\n",
       "      <th>3</th>\n",
       "      <td>0.300980</td>\n",
       "      <td>0.350270</td>\n",
       "      <td>0.277370</td>\n",
       "      <td>0.277370</td>\n",
       "      <td>0.688416</td>\n",
       "      <td>0.686191</td>\n",
       "      <td>0.491582</td>\n",
       "      <td>0.688885</td>\n",
       "      <td>0.333333</td>\n",
       "      <td>0.323529</td>\n",
       "      <td>...</td>\n",
       "      <td>0.0</td>\n",
       "      <td>0.500000</td>\n",
       "      <td>0.661731</td>\n",
       "      <td>0.712892</td>\n",
       "      <td>0.518606</td>\n",
       "      <td>0.211268</td>\n",
       "      <td>0.291005</td>\n",
       "      <td>0.266949</td>\n",
       "      <td>0.263357</td>\n",
       "      <td>0.243316</td>\n",
       "    </tr>\n",
       "    <tr>\n",
       "      <th>4</th>\n",
       "      <td>0.312919</td>\n",
       "      <td>0.357347</td>\n",
       "      <td>0.292755</td>\n",
       "      <td>0.292755</td>\n",
       "      <td>0.699692</td>\n",
       "      <td>0.695941</td>\n",
       "      <td>0.539280</td>\n",
       "      <td>0.709989</td>\n",
       "      <td>0.333333</td>\n",
       "      <td>0.323529</td>\n",
       "      <td>...</td>\n",
       "      <td>0.0</td>\n",
       "      <td>0.500000</td>\n",
       "      <td>0.661731</td>\n",
       "      <td>0.710231</td>\n",
       "      <td>0.525947</td>\n",
       "      <td>0.218310</td>\n",
       "      <td>0.296296</td>\n",
       "      <td>0.271186</td>\n",
       "      <td>0.269153</td>\n",
       "      <td>0.262032</td>\n",
       "    </tr>\n",
       "  </tbody>\n",
       "</table>\n",
       "<p>5 rows × 534 columns</p>\n",
       "</div>"
      ],
      "text/plain": [
       "        ABC     ABCGG   SpAbs_A    SpAD_A   SpMAD_A   LogEE_A     VE1_A  \\\n",
       "0  0.268410  0.288423  0.254019  0.254019  0.824298  0.656438  0.463080   \n",
       "1  0.282496  0.324981  0.276289  0.276289  0.776417  0.671211  0.499802   \n",
       "2  0.374781  0.439215  0.343287  0.343287  0.753107  0.743509  0.510766   \n",
       "3  0.300980  0.350270  0.277370  0.277370  0.688416  0.686191  0.491582   \n",
       "4  0.312919  0.357347  0.292755  0.292755  0.699692  0.695941  0.539280   \n",
       "\n",
       "      VE3_A  nAromAtom  nAromBond  ...  SRW03     SRW05     SRW07     SRW09  \\\n",
       "0  0.651971   0.484848   0.500000  ...    0.0  0.000000  0.000000  0.000000   \n",
       "1  0.681777   0.363636   0.352941  ...    0.0  0.000000  0.000000  0.000000   \n",
       "2  0.727197   0.424242   0.441176  ...    0.0  0.716042  0.832025  0.847619   \n",
       "3  0.688885   0.333333   0.323529  ...    0.0  0.500000  0.661731  0.712892   \n",
       "4  0.709989   0.333333   0.323529  ...    0.0  0.500000  0.661731  0.710231   \n",
       "\n",
       "     TSRW10      WPol   Zagreb1   Zagreb2  mZagreb1  mZagreb2  \n",
       "0  0.378647  0.218310  0.264550  0.254237  0.156250  0.199643  \n",
       "1  0.391086  0.204225  0.264550  0.241525  0.206653  0.244207  \n",
       "2  0.596612  0.302817  0.386243  0.379237  0.279486  0.279857  \n",
       "3  0.518606  0.211268  0.291005  0.266949  0.263357  0.243316  \n",
       "4  0.525947  0.218310  0.296296  0.271186  0.269153  0.262032  \n",
       "\n",
       "[5 rows x 534 columns]"
      ]
     },
     "execution_count": 37,
     "metadata": {},
     "output_type": "execute_result"
    }
   ],
   "source": [
    "# Print fisrt five rows \n",
    "df4.head()"
   ]
  },
  {
   "cell_type": "code",
   "execution_count": 38,
   "metadata": {},
   "outputs": [
    {
     "data": {
      "text/plain": [
       "(3521, 534)"
      ]
     },
     "execution_count": 38,
     "metadata": {},
     "output_type": "execute_result"
    }
   ],
   "source": [
    "# Check the number of compounds and descriptors\n",
    "df4.shape"
   ]
  },
  {
   "cell_type": "code",
   "execution_count": 39,
   "metadata": {},
   "outputs": [],
   "source": [
    "# Calculate correlation\n",
    "correlated_features = set()\n",
    "correlation_matrix = df4.corr()"
   ]
  },
  {
   "cell_type": "code",
   "execution_count": 40,
   "metadata": {},
   "outputs": [],
   "source": [
    "threshold = 0.90\n",
    "\n",
    "for i in range(len(correlation_matrix.columns)):\n",
    "    for j in range(i):\n",
    "        if abs(correlation_matrix.iloc[i, j]) > threshold:\n",
    "            colname = correlation_matrix.columns[i]\n",
    "            correlated_features.add(colname)"
   ]
  },
  {
   "cell_type": "code",
   "execution_count": 41,
   "metadata": {},
   "outputs": [],
   "source": [
    "# Remove correlated columns\n",
    "df_clean = df4.drop(labels=correlated_features, axis=1)"
   ]
  },
  {
   "cell_type": "code",
   "execution_count": 42,
   "metadata": {},
   "outputs": [
    {
     "data": {
      "text/html": [
       "<div>\n",
       "<style scoped>\n",
       "    .dataframe tbody tr th:only-of-type {\n",
       "        vertical-align: middle;\n",
       "    }\n",
       "\n",
       "    .dataframe tbody tr th {\n",
       "        vertical-align: top;\n",
       "    }\n",
       "\n",
       "    .dataframe thead th {\n",
       "        text-align: right;\n",
       "    }\n",
       "</style>\n",
       "<table border=\"1\" class=\"dataframe\">\n",
       "  <thead>\n",
       "    <tr style=\"text-align: right;\">\n",
       "      <th></th>\n",
       "      <th>ABC</th>\n",
       "      <th>SpMAD_A</th>\n",
       "      <th>VE1_A</th>\n",
       "      <th>nAromAtom</th>\n",
       "      <th>nN</th>\n",
       "      <th>AATS2d</th>\n",
       "      <th>ATSC1d</th>\n",
       "      <th>ATSC3d</th>\n",
       "      <th>ATSC4d</th>\n",
       "      <th>ATSC0s</th>\n",
       "      <th>...</th>\n",
       "      <th>JGI3</th>\n",
       "      <th>JGI5</th>\n",
       "      <th>JGI6</th>\n",
       "      <th>JGI7</th>\n",
       "      <th>JGI8</th>\n",
       "      <th>JGI9</th>\n",
       "      <th>JGI10</th>\n",
       "      <th>TopoShapeIndex</th>\n",
       "      <th>SRW03</th>\n",
       "      <th>SRW05</th>\n",
       "    </tr>\n",
       "  </thead>\n",
       "  <tbody>\n",
       "    <tr>\n",
       "      <th>0</th>\n",
       "      <td>0.268410</td>\n",
       "      <td>0.824298</td>\n",
       "      <td>0.463080</td>\n",
       "      <td>0.484848</td>\n",
       "      <td>0.000000</td>\n",
       "      <td>0.621142</td>\n",
       "      <td>0.162510</td>\n",
       "      <td>0.607121</td>\n",
       "      <td>0.683565</td>\n",
       "      <td>0.144124</td>\n",
       "      <td>...</td>\n",
       "      <td>0.309140</td>\n",
       "      <td>0.349020</td>\n",
       "      <td>0.350671</td>\n",
       "      <td>0.303922</td>\n",
       "      <td>0.511054</td>\n",
       "      <td>0.299415</td>\n",
       "      <td>0.907865</td>\n",
       "      <td>0.833333</td>\n",
       "      <td>0.0</td>\n",
       "      <td>0.000000</td>\n",
       "    </tr>\n",
       "    <tr>\n",
       "      <th>1</th>\n",
       "      <td>0.282496</td>\n",
       "      <td>0.776417</td>\n",
       "      <td>0.499802</td>\n",
       "      <td>0.363636</td>\n",
       "      <td>0.142857</td>\n",
       "      <td>0.522876</td>\n",
       "      <td>0.139366</td>\n",
       "      <td>0.623114</td>\n",
       "      <td>0.704072</td>\n",
       "      <td>0.177159</td>\n",
       "      <td>...</td>\n",
       "      <td>0.287356</td>\n",
       "      <td>0.215686</td>\n",
       "      <td>0.334403</td>\n",
       "      <td>0.315686</td>\n",
       "      <td>0.170068</td>\n",
       "      <td>0.348751</td>\n",
       "      <td>0.363483</td>\n",
       "      <td>1.000000</td>\n",
       "      <td>0.0</td>\n",
       "      <td>0.000000</td>\n",
       "    </tr>\n",
       "    <tr>\n",
       "      <th>2</th>\n",
       "      <td>0.374781</td>\n",
       "      <td>0.753107</td>\n",
       "      <td>0.510766</td>\n",
       "      <td>0.424242</td>\n",
       "      <td>0.285714</td>\n",
       "      <td>0.618975</td>\n",
       "      <td>0.215279</td>\n",
       "      <td>0.647392</td>\n",
       "      <td>0.472080</td>\n",
       "      <td>0.326832</td>\n",
       "      <td>...</td>\n",
       "      <td>0.511413</td>\n",
       "      <td>0.375076</td>\n",
       "      <td>0.447427</td>\n",
       "      <td>0.236833</td>\n",
       "      <td>0.440519</td>\n",
       "      <td>0.275154</td>\n",
       "      <td>0.521984</td>\n",
       "      <td>1.000000</td>\n",
       "      <td>0.0</td>\n",
       "      <td>0.716042</td>\n",
       "    </tr>\n",
       "    <tr>\n",
       "      <th>3</th>\n",
       "      <td>0.300980</td>\n",
       "      <td>0.688416</td>\n",
       "      <td>0.491582</td>\n",
       "      <td>0.333333</td>\n",
       "      <td>0.214286</td>\n",
       "      <td>0.486457</td>\n",
       "      <td>0.205021</td>\n",
       "      <td>0.780511</td>\n",
       "      <td>0.896018</td>\n",
       "      <td>0.162105</td>\n",
       "      <td>...</td>\n",
       "      <td>0.236111</td>\n",
       "      <td>0.445008</td>\n",
       "      <td>0.309241</td>\n",
       "      <td>0.414903</td>\n",
       "      <td>0.559933</td>\n",
       "      <td>0.331973</td>\n",
       "      <td>0.536360</td>\n",
       "      <td>1.000000</td>\n",
       "      <td>0.0</td>\n",
       "      <td>0.500000</td>\n",
       "    </tr>\n",
       "    <tr>\n",
       "      <th>4</th>\n",
       "      <td>0.312919</td>\n",
       "      <td>0.699692</td>\n",
       "      <td>0.539280</td>\n",
       "      <td>0.333333</td>\n",
       "      <td>0.214286</td>\n",
       "      <td>0.425685</td>\n",
       "      <td>0.229865</td>\n",
       "      <td>0.615092</td>\n",
       "      <td>0.655109</td>\n",
       "      <td>0.147801</td>\n",
       "      <td>...</td>\n",
       "      <td>0.370370</td>\n",
       "      <td>0.321631</td>\n",
       "      <td>0.408473</td>\n",
       "      <td>0.285752</td>\n",
       "      <td>0.357344</td>\n",
       "      <td>0.240926</td>\n",
       "      <td>0.394288</td>\n",
       "      <td>1.000000</td>\n",
       "      <td>0.0</td>\n",
       "      <td>0.500000</td>\n",
       "    </tr>\n",
       "  </tbody>\n",
       "</table>\n",
       "<p>5 rows × 169 columns</p>\n",
       "</div>"
      ],
      "text/plain": [
       "        ABC   SpMAD_A     VE1_A  nAromAtom        nN    AATS2d    ATSC1d  \\\n",
       "0  0.268410  0.824298  0.463080   0.484848  0.000000  0.621142  0.162510   \n",
       "1  0.282496  0.776417  0.499802   0.363636  0.142857  0.522876  0.139366   \n",
       "2  0.374781  0.753107  0.510766   0.424242  0.285714  0.618975  0.215279   \n",
       "3  0.300980  0.688416  0.491582   0.333333  0.214286  0.486457  0.205021   \n",
       "4  0.312919  0.699692  0.539280   0.333333  0.214286  0.425685  0.229865   \n",
       "\n",
       "     ATSC3d    ATSC4d    ATSC0s  ...      JGI3      JGI5      JGI6      JGI7  \\\n",
       "0  0.607121  0.683565  0.144124  ...  0.309140  0.349020  0.350671  0.303922   \n",
       "1  0.623114  0.704072  0.177159  ...  0.287356  0.215686  0.334403  0.315686   \n",
       "2  0.647392  0.472080  0.326832  ...  0.511413  0.375076  0.447427  0.236833   \n",
       "3  0.780511  0.896018  0.162105  ...  0.236111  0.445008  0.309241  0.414903   \n",
       "4  0.615092  0.655109  0.147801  ...  0.370370  0.321631  0.408473  0.285752   \n",
       "\n",
       "       JGI8      JGI9     JGI10  TopoShapeIndex  SRW03     SRW05  \n",
       "0  0.511054  0.299415  0.907865        0.833333    0.0  0.000000  \n",
       "1  0.170068  0.348751  0.363483        1.000000    0.0  0.000000  \n",
       "2  0.440519  0.275154  0.521984        1.000000    0.0  0.716042  \n",
       "3  0.559933  0.331973  0.536360        1.000000    0.0  0.500000  \n",
       "4  0.357344  0.240926  0.394288        1.000000    0.0  0.500000  \n",
       "\n",
       "[5 rows x 169 columns]"
      ]
     },
     "execution_count": 42,
     "metadata": {},
     "output_type": "execute_result"
    }
   ],
   "source": [
    "# Print fisrt five rows \n",
    "df_clean.head()"
   ]
  },
  {
   "cell_type": "code",
   "execution_count": 43,
   "metadata": {},
   "outputs": [],
   "source": [
    "columns = pd.DataFrame(df_clean.columns.values)"
   ]
  },
  {
   "cell_type": "code",
   "execution_count": 44,
   "metadata": {},
   "outputs": [
    {
     "data": {
      "text/html": [
       "<div>\n",
       "<style scoped>\n",
       "    .dataframe tbody tr th:only-of-type {\n",
       "        vertical-align: middle;\n",
       "    }\n",
       "\n",
       "    .dataframe tbody tr th {\n",
       "        vertical-align: top;\n",
       "    }\n",
       "\n",
       "    .dataframe thead th {\n",
       "        text-align: right;\n",
       "    }\n",
       "</style>\n",
       "<table border=\"1\" class=\"dataframe\">\n",
       "  <thead>\n",
       "    <tr style=\"text-align: right;\">\n",
       "      <th></th>\n",
       "      <th>0</th>\n",
       "    </tr>\n",
       "  </thead>\n",
       "  <tbody>\n",
       "    <tr>\n",
       "      <th>0</th>\n",
       "      <td>ABC</td>\n",
       "    </tr>\n",
       "    <tr>\n",
       "      <th>1</th>\n",
       "      <td>SpMAD_A</td>\n",
       "    </tr>\n",
       "    <tr>\n",
       "      <th>2</th>\n",
       "      <td>VE1_A</td>\n",
       "    </tr>\n",
       "    <tr>\n",
       "      <th>3</th>\n",
       "      <td>nAromAtom</td>\n",
       "    </tr>\n",
       "    <tr>\n",
       "      <th>4</th>\n",
       "      <td>nN</td>\n",
       "    </tr>\n",
       "    <tr>\n",
       "      <th>...</th>\n",
       "      <td>...</td>\n",
       "    </tr>\n",
       "    <tr>\n",
       "      <th>164</th>\n",
       "      <td>JGI9</td>\n",
       "    </tr>\n",
       "    <tr>\n",
       "      <th>165</th>\n",
       "      <td>JGI10</td>\n",
       "    </tr>\n",
       "    <tr>\n",
       "      <th>166</th>\n",
       "      <td>TopoShapeIndex</td>\n",
       "    </tr>\n",
       "    <tr>\n",
       "      <th>167</th>\n",
       "      <td>SRW03</td>\n",
       "    </tr>\n",
       "    <tr>\n",
       "      <th>168</th>\n",
       "      <td>SRW05</td>\n",
       "    </tr>\n",
       "  </tbody>\n",
       "</table>\n",
       "<p>169 rows × 1 columns</p>\n",
       "</div>"
      ],
      "text/plain": [
       "                  0\n",
       "0               ABC\n",
       "1           SpMAD_A\n",
       "2             VE1_A\n",
       "3         nAromAtom\n",
       "4                nN\n",
       "..              ...\n",
       "164            JGI9\n",
       "165           JGI10\n",
       "166  TopoShapeIndex\n",
       "167           SRW03\n",
       "168           SRW05\n",
       "\n",
       "[169 rows x 1 columns]"
      ]
     },
     "execution_count": 44,
     "metadata": {},
     "output_type": "execute_result"
    }
   ],
   "source": [
    "columns"
   ]
  },
  {
   "cell_type": "code",
   "execution_count": 46,
   "metadata": {},
   "outputs": [
    {
     "ename": "KeyError",
     "evalue": "'None of [0] are in the columns'",
     "output_type": "error",
     "traceback": [
      "\u001b[1;31m---------------------------------------------------------------------------\u001b[0m",
      "\u001b[1;31mKeyError\u001b[0m                                  Traceback (most recent call last)",
      "\u001b[1;32m<ipython-input-46-40d7da26d6b5>\u001b[0m in \u001b[0;36m<module>\u001b[1;34m\u001b[0m\n\u001b[1;32m----> 1\u001b[1;33m \u001b[0mcolumns\u001b[0m \u001b[1;33m=\u001b[0m \u001b[0mcolumns\u001b[0m\u001b[1;33m.\u001b[0m\u001b[0mset_index\u001b[0m\u001b[1;33m(\u001b[0m\u001b[1;36m0\u001b[0m\u001b[1;33m)\u001b[0m\u001b[1;33m.\u001b[0m\u001b[0mtranspose\u001b[0m\u001b[1;33m(\u001b[0m\u001b[1;33m)\u001b[0m\u001b[1;33m\u001b[0m\u001b[1;33m\u001b[0m\u001b[0m\n\u001b[0m\u001b[0;32m      2\u001b[0m \u001b[0mcolumns\u001b[0m\u001b[1;33m\u001b[0m\u001b[1;33m\u001b[0m\u001b[0m\n",
      "\u001b[1;32m~\\PyMOL\\envs\\rdkit2\\lib\\site-packages\\pandas\\core\\frame.py\u001b[0m in \u001b[0;36mset_index\u001b[1;34m(self, keys, drop, append, inplace, verify_integrity)\u001b[0m\n\u001b[0;32m   4301\u001b[0m \u001b[1;33m\u001b[0m\u001b[0m\n\u001b[0;32m   4302\u001b[0m         \u001b[1;32mif\u001b[0m \u001b[0mmissing\u001b[0m\u001b[1;33m:\u001b[0m\u001b[1;33m\u001b[0m\u001b[1;33m\u001b[0m\u001b[0m\n\u001b[1;32m-> 4303\u001b[1;33m             \u001b[1;32mraise\u001b[0m \u001b[0mKeyError\u001b[0m\u001b[1;33m(\u001b[0m\u001b[1;34mf\"None of {missing} are in the columns\"\u001b[0m\u001b[1;33m)\u001b[0m\u001b[1;33m\u001b[0m\u001b[1;33m\u001b[0m\u001b[0m\n\u001b[0m\u001b[0;32m   4304\u001b[0m \u001b[1;33m\u001b[0m\u001b[0m\n\u001b[0;32m   4305\u001b[0m         \u001b[1;32mif\u001b[0m \u001b[0minplace\u001b[0m\u001b[1;33m:\u001b[0m\u001b[1;33m\u001b[0m\u001b[1;33m\u001b[0m\u001b[0m\n",
      "\u001b[1;31mKeyError\u001b[0m: 'None of [0] are in the columns'"
     ]
    }
   ],
   "source": [
    "columns = columns.set_index(0).transpose()"
   ]
  },
  {
   "cell_type": "code",
   "execution_count": 47,
   "metadata": {},
   "outputs": [
    {
     "data": {
      "text/html": [
       "<div>\n",
       "<style scoped>\n",
       "    .dataframe tbody tr th:only-of-type {\n",
       "        vertical-align: middle;\n",
       "    }\n",
       "\n",
       "    .dataframe tbody tr th {\n",
       "        vertical-align: top;\n",
       "    }\n",
       "\n",
       "    .dataframe thead th {\n",
       "        text-align: right;\n",
       "    }\n",
       "</style>\n",
       "<table border=\"1\" class=\"dataframe\">\n",
       "  <thead>\n",
       "    <tr style=\"text-align: right;\">\n",
       "      <th></th>\n",
       "      <th>ABC</th>\n",
       "      <th>SpMAD_A</th>\n",
       "      <th>VE1_A</th>\n",
       "      <th>nAromAtom</th>\n",
       "      <th>nN</th>\n",
       "      <th>AATS2d</th>\n",
       "      <th>ATSC1d</th>\n",
       "      <th>ATSC3d</th>\n",
       "      <th>ATSC4d</th>\n",
       "      <th>ATSC0s</th>\n",
       "      <th>...</th>\n",
       "      <th>JGI3</th>\n",
       "      <th>JGI5</th>\n",
       "      <th>JGI6</th>\n",
       "      <th>JGI7</th>\n",
       "      <th>JGI8</th>\n",
       "      <th>JGI9</th>\n",
       "      <th>JGI10</th>\n",
       "      <th>TopoShapeIndex</th>\n",
       "      <th>SRW03</th>\n",
       "      <th>SRW05</th>\n",
       "    </tr>\n",
       "  </thead>\n",
       "  <tbody>\n",
       "  </tbody>\n",
       "</table>\n",
       "<p>0 rows × 169 columns</p>\n",
       "</div>"
      ],
      "text/plain": [
       "Empty DataFrame\n",
       "Columns: [ABC, SpMAD_A, VE1_A, nAromAtom, nN, AATS2d, ATSC1d, ATSC3d, ATSC4d, ATSC0s, ATSC1v, ATSC5v, ATSC0i, ATSC1i, AATSC0dv, AATSC0s, AATSC1v, AATSC2v, MATS1dv, MATS1Z, MATS2se, MATS1p, GATS1dv, GATS2dv, GATS1s, GATS2s, GATS1Z, GATS2Z, GATS1v, GATS2v, GATS1se, GATS2se, GATS1p, GATS1i, GATS2i, BCUTdv-1h, BCUTdv-1l, BCUTd-1h, BCUTs-1h, BCUTZ-1h, BCUTse-1h, BCUTp-1h, BCUTi-1h, nBondsD, C1SP2, C2SP2, C3SP2, C1SP3, C2SP3, C3SP3, FCSP3, Xch-6d, Xpc-5dv, AXp-0dv, AXp-1dv, Mv, NsCH3, NaaCH, NdssC, NaasC, NaaaC, NaaN, NsssN, NaasN, NsOH, NssO, NaaO, NaaS, SssNH, SaaNH, SssS, ETA_shape_p, ETA_shape_y, ETA_shape_x, ETA_beta_ns_d, AETA_beta_ns_d, AETA_eta, AETA_eta_RL, AETA_eta_F, ETA_eta_B, ETA_dAlpha_B, ETA_dEpsilon_B, ETA_dBeta, fMF, nHBAcc, nHBDon, IC0, IC1, IC2, SIC0, SIC1, SIC2, SIC3, MIC0, MIC1, ZMIC1, Lipinski, GhoseFilter, FilterItLogS, PEOE_VSA1, ...]\n",
       "Index: []\n",
       "\n",
       "[0 rows x 169 columns]"
      ]
     },
     "execution_count": 47,
     "metadata": {},
     "output_type": "execute_result"
    }
   ],
   "source": [
    "columns"
   ]
  },
  {
   "cell_type": "code",
   "execution_count": 48,
   "metadata": {},
   "outputs": [],
   "source": [
    "columns.to_csv('../results/descriptor_list_hybrid_mordred_maccs.csv', index=False)"
   ]
  },
  {
   "cell_type": "markdown",
   "metadata": {},
   "source": [
    "### Join fingerprint to Mordred descriptors"
   ]
  },
  {
   "cell_type": "code",
   "execution_count": 47,
   "metadata": {},
   "outputs": [],
   "source": [
    "# Join fingerprint to Mordred descriptors\n",
    "x = df_clean.join(x_fp)"
   ]
  },
  {
   "cell_type": "code",
   "execution_count": 48,
   "metadata": {},
   "outputs": [
    {
     "data": {
      "text/html": [
       "<div>\n",
       "<style scoped>\n",
       "    .dataframe tbody tr th:only-of-type {\n",
       "        vertical-align: middle;\n",
       "    }\n",
       "\n",
       "    .dataframe tbody tr th {\n",
       "        vertical-align: top;\n",
       "    }\n",
       "\n",
       "    .dataframe thead th {\n",
       "        text-align: right;\n",
       "    }\n",
       "</style>\n",
       "<table border=\"1\" class=\"dataframe\">\n",
       "  <thead>\n",
       "    <tr style=\"text-align: right;\">\n",
       "      <th></th>\n",
       "      <th>ABC</th>\n",
       "      <th>SpMAD_A</th>\n",
       "      <th>VE1_A</th>\n",
       "      <th>nAromAtom</th>\n",
       "      <th>nN</th>\n",
       "      <th>AATS2d</th>\n",
       "      <th>ATSC1d</th>\n",
       "      <th>ATSC3d</th>\n",
       "      <th>ATSC4d</th>\n",
       "      <th>ATSC0s</th>\n",
       "      <th>...</th>\n",
       "      <th>157</th>\n",
       "      <th>158</th>\n",
       "      <th>159</th>\n",
       "      <th>160</th>\n",
       "      <th>161</th>\n",
       "      <th>162</th>\n",
       "      <th>163</th>\n",
       "      <th>164</th>\n",
       "      <th>165</th>\n",
       "      <th>166</th>\n",
       "    </tr>\n",
       "  </thead>\n",
       "  <tbody>\n",
       "    <tr>\n",
       "      <th>0</th>\n",
       "      <td>0.268410</td>\n",
       "      <td>0.824298</td>\n",
       "      <td>0.463080</td>\n",
       "      <td>0.484848</td>\n",
       "      <td>0.000000</td>\n",
       "      <td>0.621142</td>\n",
       "      <td>0.162510</td>\n",
       "      <td>0.607121</td>\n",
       "      <td>0.683565</td>\n",
       "      <td>0.144124</td>\n",
       "      <td>...</td>\n",
       "      <td>1.0</td>\n",
       "      <td>0.0</td>\n",
       "      <td>1.0</td>\n",
       "      <td>0.0</td>\n",
       "      <td>0.0</td>\n",
       "      <td>1.0</td>\n",
       "      <td>1.0</td>\n",
       "      <td>1.0</td>\n",
       "      <td>1.0</td>\n",
       "      <td>0.0</td>\n",
       "    </tr>\n",
       "    <tr>\n",
       "      <th>1</th>\n",
       "      <td>0.282496</td>\n",
       "      <td>0.776417</td>\n",
       "      <td>0.499802</td>\n",
       "      <td>0.363636</td>\n",
       "      <td>0.142857</td>\n",
       "      <td>0.522876</td>\n",
       "      <td>0.139366</td>\n",
       "      <td>0.623114</td>\n",
       "      <td>0.704072</td>\n",
       "      <td>0.177159</td>\n",
       "      <td>...</td>\n",
       "      <td>1.0</td>\n",
       "      <td>1.0</td>\n",
       "      <td>1.0</td>\n",
       "      <td>0.0</td>\n",
       "      <td>1.0</td>\n",
       "      <td>1.0</td>\n",
       "      <td>1.0</td>\n",
       "      <td>1.0</td>\n",
       "      <td>1.0</td>\n",
       "      <td>0.0</td>\n",
       "    </tr>\n",
       "    <tr>\n",
       "      <th>2</th>\n",
       "      <td>0.374781</td>\n",
       "      <td>0.753107</td>\n",
       "      <td>0.510766</td>\n",
       "      <td>0.424242</td>\n",
       "      <td>0.285714</td>\n",
       "      <td>0.618975</td>\n",
       "      <td>0.215279</td>\n",
       "      <td>0.647392</td>\n",
       "      <td>0.472080</td>\n",
       "      <td>0.326832</td>\n",
       "      <td>...</td>\n",
       "      <td>0.0</td>\n",
       "      <td>1.0</td>\n",
       "      <td>0.0</td>\n",
       "      <td>1.0</td>\n",
       "      <td>1.0</td>\n",
       "      <td>1.0</td>\n",
       "      <td>1.0</td>\n",
       "      <td>1.0</td>\n",
       "      <td>1.0</td>\n",
       "      <td>0.0</td>\n",
       "    </tr>\n",
       "    <tr>\n",
       "      <th>3</th>\n",
       "      <td>0.300980</td>\n",
       "      <td>0.688416</td>\n",
       "      <td>0.491582</td>\n",
       "      <td>0.333333</td>\n",
       "      <td>0.214286</td>\n",
       "      <td>0.486457</td>\n",
       "      <td>0.205021</td>\n",
       "      <td>0.780511</td>\n",
       "      <td>0.896018</td>\n",
       "      <td>0.162105</td>\n",
       "      <td>...</td>\n",
       "      <td>1.0</td>\n",
       "      <td>1.0</td>\n",
       "      <td>1.0</td>\n",
       "      <td>1.0</td>\n",
       "      <td>1.0</td>\n",
       "      <td>1.0</td>\n",
       "      <td>1.0</td>\n",
       "      <td>1.0</td>\n",
       "      <td>1.0</td>\n",
       "      <td>0.0</td>\n",
       "    </tr>\n",
       "    <tr>\n",
       "      <th>4</th>\n",
       "      <td>0.312919</td>\n",
       "      <td>0.699692</td>\n",
       "      <td>0.539280</td>\n",
       "      <td>0.333333</td>\n",
       "      <td>0.214286</td>\n",
       "      <td>0.425685</td>\n",
       "      <td>0.229865</td>\n",
       "      <td>0.615092</td>\n",
       "      <td>0.655109</td>\n",
       "      <td>0.147801</td>\n",
       "      <td>...</td>\n",
       "      <td>0.0</td>\n",
       "      <td>1.0</td>\n",
       "      <td>1.0</td>\n",
       "      <td>1.0</td>\n",
       "      <td>1.0</td>\n",
       "      <td>1.0</td>\n",
       "      <td>1.0</td>\n",
       "      <td>1.0</td>\n",
       "      <td>1.0</td>\n",
       "      <td>0.0</td>\n",
       "    </tr>\n",
       "  </tbody>\n",
       "</table>\n",
       "<p>5 rows × 336 columns</p>\n",
       "</div>"
      ],
      "text/plain": [
       "        ABC   SpMAD_A     VE1_A  nAromAtom        nN    AATS2d    ATSC1d  \\\n",
       "0  0.268410  0.824298  0.463080   0.484848  0.000000  0.621142  0.162510   \n",
       "1  0.282496  0.776417  0.499802   0.363636  0.142857  0.522876  0.139366   \n",
       "2  0.374781  0.753107  0.510766   0.424242  0.285714  0.618975  0.215279   \n",
       "3  0.300980  0.688416  0.491582   0.333333  0.214286  0.486457  0.205021   \n",
       "4  0.312919  0.699692  0.539280   0.333333  0.214286  0.425685  0.229865   \n",
       "\n",
       "     ATSC3d    ATSC4d    ATSC0s  ...  157  158  159  160  161  162  163  164  \\\n",
       "0  0.607121  0.683565  0.144124  ...  1.0  0.0  1.0  0.0  0.0  1.0  1.0  1.0   \n",
       "1  0.623114  0.704072  0.177159  ...  1.0  1.0  1.0  0.0  1.0  1.0  1.0  1.0   \n",
       "2  0.647392  0.472080  0.326832  ...  0.0  1.0  0.0  1.0  1.0  1.0  1.0  1.0   \n",
       "3  0.780511  0.896018  0.162105  ...  1.0  1.0  1.0  1.0  1.0  1.0  1.0  1.0   \n",
       "4  0.615092  0.655109  0.147801  ...  0.0  1.0  1.0  1.0  1.0  1.0  1.0  1.0   \n",
       "\n",
       "   165  166  \n",
       "0  1.0  0.0  \n",
       "1  1.0  0.0  \n",
       "2  1.0  0.0  \n",
       "3  1.0  0.0  \n",
       "4  1.0  0.0  \n",
       "\n",
       "[5 rows x 336 columns]"
      ]
     },
     "execution_count": 48,
     "metadata": {},
     "output_type": "execute_result"
    }
   ],
   "source": [
    "# Print fisrt five rows\n",
    "x.head()"
   ]
  },
  {
   "cell_type": "code",
   "execution_count": 49,
   "metadata": {},
   "outputs": [
    {
     "data": {
      "text/plain": [
       "(3521, 336)"
      ]
     },
     "execution_count": 49,
     "metadata": {},
     "output_type": "execute_result"
    }
   ],
   "source": [
    "# Check the number of compounds and descriptors\n",
    "x.shape"
   ]
  },
  {
   "cell_type": "code",
   "execution_count": 49,
   "metadata": {},
   "outputs": [],
   "source": [
    "x = np.array(x)"
   ]
  },
  {
   "cell_type": "code",
   "execution_count": 51,
   "metadata": {},
   "outputs": [
    {
     "name": "stdout",
     "output_type": "stream",
     "text": [
      "3521\n"
     ]
    },
    {
     "data": {
      "text/plain": [
       "numpy.ndarray"
      ]
     },
     "execution_count": 51,
     "metadata": {},
     "output_type": "execute_result"
    }
   ],
   "source": [
    "print(len(x))\n",
    "type(x)"
   ]
  },
  {
   "cell_type": "code",
   "execution_count": 52,
   "metadata": {},
   "outputs": [
    {
     "name": "stdout",
     "output_type": "stream",
     "text": [
      "3521\n"
     ]
    },
    {
     "data": {
      "text/plain": [
       "numpy.ndarray"
      ]
     },
     "execution_count": 52,
     "metadata": {},
     "output_type": "execute_result"
    }
   ],
   "source": [
    "print(len(y))\n",
    "type(y)"
   ]
  },
  {
   "cell_type": "markdown",
   "metadata": {},
   "source": [
    "## Data splitting"
   ]
  },
  {
   "cell_type": "code",
   "execution_count": 53,
   "metadata": {},
   "outputs": [
    {
     "name": "stderr",
     "output_type": "stream",
     "text": [
      "C:\\Users\\tiofi\\PyMOL\\envs\\rdkit2\\lib\\site-packages\\sklearn\\model_selection\\_split.py:296: FutureWarning: Setting a random_state has no effect since shuffle is False. This will raise an error in 0.24. You should leave random_state to its default (None), or set shuffle=True.\n",
      "  FutureWarning\n"
     ]
    }
   ],
   "source": [
    "#Create folds for cross-validation\n",
    "cv = StratifiedKFold(n_splits=5, shuffle=False, random_state=42)"
   ]
  },
  {
   "cell_type": "markdown",
   "metadata": {},
   "source": [
    "## RF Model building - Bayesian hyperparameter search  "
   ]
  },
  {
   "cell_type": "code",
   "execution_count": 54,
   "metadata": {},
   "outputs": [
    {
     "name": "stdout",
     "output_type": "stream",
     "text": [
      "Best parameters: OrderedDict([('max_depth', 42), ('max_features', 'sqrt'), ('min_samples_leaf', 19), ('min_samples_split', 8), ('n_estimators', 703)])\n"
     ]
    }
   ],
   "source": [
    "scorer = make_scorer(geometric_mean_score)\n",
    "\n",
    "# log-uniform: understand as search over p = exp(x) by varying x\n",
    "opt_rf = BayesSearchCV(\n",
    "    RandomForestClassifier(),\n",
    "    {'max_features': ['auto', 'sqrt'],\n",
    "    'n_estimators': [100, 1000],\n",
    "    \"max_depth\": [2, 100],\n",
    "    'min_samples_leaf': [1,20], \n",
    "    'min_samples_split': [2, 20]\n",
    "    },\n",
    "    n_iter=50, # Number of parameter settings that are sampled\n",
    "    cv=cv,\n",
    "    scoring = scorer,\n",
    "    verbose=0,\n",
    "    refit= True, # Refit the best estimator with the entire dataset.\n",
    "    random_state=42, \n",
    "    n_jobs = -1\n",
    ")\n",
    "\n",
    "opt_rf.fit(x, y)\n",
    "\n",
    "print(\"Best parameters: %s\" % opt_rf.best_params_)"
   ]
  },
  {
   "cell_type": "markdown",
   "metadata": {},
   "source": [
    "## 5-fold cross-validation"
   ]
  },
  {
   "cell_type": "code",
   "execution_count": 55,
   "metadata": {},
   "outputs": [],
   "source": [
    "probs_classes = []\n",
    "#indexes = []\n",
    "y_test_all = []\n",
    "\n",
    "for train_index, test_index in cv.split(x, y):\n",
    "    rf_clf = RandomForestClassifier(**opt_rf.best_params_) # model with best parameters\n",
    "    X_train_folds = x[train_index] # descritors train split\n",
    "    y_train_folds = np.array(y)[train_index.astype(int)] # label train split\n",
    "    X_test_fold = x[test_index] # descritors test split\n",
    "    y_test_fold = np.array(y)[test_index.astype(int)] # label test split\n",
    "    \n",
    "    \n",
    "    rf_clf.fit(X_train_folds, y_train_folds) # train fold\n",
    "    y_pred = rf_clf.predict_proba(X_test_fold) # test fold\n",
    "    probs_classes.append(y_pred) # all predictions for test folds\n",
    "    y_test_all.append(y_test_fold) # all folds' labels \n",
    "#   indexes.append(test_index) # all tests indexes"
   ]
  },
  {
   "cell_type": "markdown",
   "metadata": {},
   "source": [
    "## Check performance of each fold"
   ]
  },
  {
   "cell_type": "code",
   "execution_count": 56,
   "metadata": {},
   "outputs": [],
   "source": [
    "# Get predictions of each fold\n",
    "fold_1_pred = (probs_classes[0][:, 1] > 0.5).astype(int)\n",
    "fold_2_pred = (probs_classes[1][:, 1] > 0.5).astype(int)\n",
    "fold_3_pred = (probs_classes[2][:, 1] > 0.5).astype(int)\n",
    "fold_4_pred = (probs_classes[3][:, 1] > 0.5).astype(int)\n",
    "fold_5_pred = (probs_classes[4][:, 1] > 0.5).astype(int)"
   ]
  },
  {
   "cell_type": "code",
   "execution_count": 57,
   "metadata": {},
   "outputs": [],
   "source": [
    "# Get experimental values of each fold\n",
    "fold_1_exp = y_test_all[0]\n",
    "fold_2_exp = y_test_all[1]\n",
    "fold_3_exp = y_test_all[2]\n",
    "fold_4_exp = y_test_all[3]\n",
    "fold_5_exp = y_test_all[4]"
   ]
  },
  {
   "cell_type": "code",
   "execution_count": 58,
   "metadata": {},
   "outputs": [
    {
     "name": "stdout",
     "output_type": "stream",
     "text": [
      "Balanced accuracy (fold 1) =  0.5\n",
      "Balanced accuracy (fold 2) =  0.5\n",
      "Balanced accuracy (fold 3) =  0.5\n",
      "Balanced accuracy (fold 4) =  0.5\n",
      "Balanced accuracy (fold 5) =  0.5\n"
     ]
    }
   ],
   "source": [
    "bacc1 = metrics.balanced_accuracy_score(fold_1_exp, fold_1_pred) # balanced accuracy fold 1\n",
    "bacc2 = metrics.balanced_accuracy_score(fold_2_exp, fold_2_pred) # balanced accuracy fold 2\n",
    "bacc3 = metrics.balanced_accuracy_score(fold_3_exp, fold_3_pred) # balanced accuracy fold 3\n",
    "bacc4 = metrics.balanced_accuracy_score(fold_4_exp, fold_4_pred) # balanced accuracy fold 4\n",
    "bacc5 = metrics.balanced_accuracy_score(fold_5_exp, fold_5_pred) # balanced accuracy fold 5\n",
    "print(\"Balanced accuracy (fold 1) = \", bacc1)\n",
    "print(\"Balanced accuracy (fold 2) = \", bacc2)\n",
    "print(\"Balanced accuracy (fold 3) = \", bacc3)\n",
    "print(\"Balanced accuracy (fold 4) = \", bacc4)\n",
    "print(\"Balanced accuracy (fold 5) = \", bacc5)"
   ]
  },
  {
   "cell_type": "markdown",
   "metadata": {},
   "source": [
    "## Check mean performance of folds"
   ]
  },
  {
   "cell_type": "code",
   "execution_count": 59,
   "metadata": {},
   "outputs": [],
   "source": [
    "probs_classes = np.concatenate(probs_classes)    \n",
    "y_experimental = np.concatenate(y_test_all)"
   ]
  },
  {
   "cell_type": "code",
   "execution_count": 60,
   "metadata": {},
   "outputs": [],
   "source": [
    "# Uncalibrated model predictions\n",
    "pred_rf = (probs_classes[:, 1] > 0.5).astype(int)"
   ]
  },
  {
   "cell_type": "markdown",
   "metadata": {},
   "source": [
    "### Statistics - featmorgan-RF"
   ]
  },
  {
   "cell_type": "code",
   "execution_count": 61,
   "metadata": {},
   "outputs": [],
   "source": [
    "def calc_statistics(y,pred):\n",
    "    # save confusion matrix and slice into four pieces\n",
    "    confusion = confusion_matrix(y, pred)\n",
    "    #[row, column]\n",
    "    TP = confusion[1, 1]\n",
    "    TN = confusion[0, 0]\n",
    "    FP = confusion[0, 1]\n",
    "    FN = confusion[1, 0]\n",
    "    \n",
    "    # Plot confusion\n",
    "    #plt.figure(figsize=(5,5))\n",
    "    #sns.heatmap(confusion, annot=True, fmt=\".0f\", linewidths=.5, square = True, cmap = 'Blues_r');\n",
    "    #plt.ylabel('Actual label');\n",
    "    #plt.xlabel('Predicted label');\n",
    "    #title = \"Confusion matrix\"\n",
    "    #plt.title(title, size = 15);\n",
    "    \n",
    "    # calc statistics\n",
    "    classification_error = 1 - accuracy_score(y, pred) #Classification error or misclassification rate\n",
    "    accuracy = accuracy_score(y, pred) #accuracy\n",
    "    mcc = matthews_corrcoef(y, pred) #mcc\n",
    "    kappa = cohen_kappa_score(y, pred) #kappa\n",
    "    sensitivity = recall_score(y, pred) #Sensitivity\n",
    "    specificity = TN / (TN + FP) #Specificity\n",
    "    false_positive_rate = FP / float(TN + FP) #False positive rate (alfa)\n",
    "    false_negative_rate = FN / float(TP+FN) #False negative rate (beta)\n",
    "    precision = TP / float(TP + FP) #Precision\n",
    "    positive_pred_value = TP / float(TP + FP) #PPV\n",
    "    negative_pred_value = TN / float(TN + FN) #NPV\n",
    "    auc = roc_auc_score(y, pred) #AUC\n",
    "    bacc = balanced_accuracy_score(y, pred) # balanced accuracy\n",
    "    f1 = f1_score(y, pred) # F1-score\n",
    "\n",
    "    print(\"Accuracy = \", accuracy)\n",
    "    print(\"MCC = \", mcc)\n",
    "    print(\"Kappa = \", kappa)\n",
    "    print(\"Sensitivity = \", sensitivity)\n",
    "    print(\"Specificity = \", specificity)\n",
    "    print(\"Precision = \", precision)\n",
    "    print(\"PPV = \", positive_pred_value)\n",
    "    print(\"NPV = \", negative_pred_value)\n",
    "    print(\"False positive rate = \", false_positive_rate)\n",
    "    print(\"False negative rate = \", false_negative_rate)\n",
    "    print(\"AUC = \",roc_auc_score(y, pred))\n",
    "    print(\"Classification error = \", classification_error)\n",
    "    print(\"Balanced accuracy = \", bacc)\n",
    "    print(\"F1-score = \", f1)\n",
    "    \n",
    "    #converting calculated metrics into a pandas dataframe to compare all models at the final\n",
    "    statistics = pd.DataFrame({'Bal-acc': bacc, \"Sensitivity\": sensitivity, \"Specificity\": specificity,\"PPV\": positive_pred_value, \n",
    "           \"NPV\": negative_pred_value, 'Kappa': kappa, 'AUC': auc, 'MCC': mcc, 'Accuracy': accuracy, \n",
    "           \"Classification error\": classification_error,\"False positive rate\": false_positive_rate, \n",
    "           \"False negative rate\": false_negative_rate, \"Precision\": precision, 'F1-score': f1,}, index=[0])\n",
    "    return(statistics)"
   ]
  },
  {
   "cell_type": "code",
   "execution_count": 62,
   "metadata": {},
   "outputs": [
    {
     "name": "stdout",
     "output_type": "stream",
     "text": [
      "Accuracy =  0.9877875603521726\n",
      "MCC =  0.0\n",
      "Kappa =  0.0\n",
      "Sensitivity =  0.0\n",
      "Specificity =  1.0\n",
      "Precision =  nan\n",
      "PPV =  nan\n",
      "NPV =  0.9877875603521726\n",
      "False positive rate =  0.0\n",
      "False negative rate =  1.0\n",
      "AUC =  0.5\n",
      "Classification error =  0.012212439647827367\n",
      "Balanced accuracy =  0.5\n",
      "F1-score =  0.0\n"
     ]
    },
    {
     "name": "stderr",
     "output_type": "stream",
     "text": [
      "C:\\Users\\tiofi\\PyMOL\\envs\\rdkit2\\lib\\site-packages\\sklearn\\metrics\\_classification.py:900: RuntimeWarning: invalid value encountered in double_scalars\n",
      "  mcc = cov_ytyp / np.sqrt(cov_ytyt * cov_ypyp)\n",
      "C:\\Users\\tiofi\\PyMOL\\envs\\rdkit2\\lib\\site-packages\\ipykernel_launcher.py:27: RuntimeWarning: invalid value encountered in true_divide\n",
      "C:\\Users\\tiofi\\PyMOL\\envs\\rdkit2\\lib\\site-packages\\ipykernel_launcher.py:28: RuntimeWarning: invalid value encountered in true_divide\n"
     ]
    }
   ],
   "source": [
    "statistics = calc_statistics(y_experimental, pred_rf)"
   ]
  },
  {
   "cell_type": "code",
   "execution_count": 63,
   "metadata": {},
   "outputs": [
    {
     "data": {
      "text/html": [
       "<div>\n",
       "<style scoped>\n",
       "    .dataframe tbody tr th:only-of-type {\n",
       "        vertical-align: middle;\n",
       "    }\n",
       "\n",
       "    .dataframe tbody tr th {\n",
       "        vertical-align: top;\n",
       "    }\n",
       "\n",
       "    .dataframe thead th {\n",
       "        text-align: right;\n",
       "    }\n",
       "</style>\n",
       "<table border=\"1\" class=\"dataframe\">\n",
       "  <thead>\n",
       "    <tr style=\"text-align: right;\">\n",
       "      <th></th>\n",
       "      <th>Bal-acc</th>\n",
       "      <th>Sensitivity</th>\n",
       "      <th>Specificity</th>\n",
       "      <th>PPV</th>\n",
       "      <th>NPV</th>\n",
       "      <th>Kappa</th>\n",
       "      <th>AUC</th>\n",
       "      <th>MCC</th>\n",
       "      <th>Accuracy</th>\n",
       "      <th>Classification error</th>\n",
       "      <th>False positive rate</th>\n",
       "      <th>False negative rate</th>\n",
       "      <th>Precision</th>\n",
       "      <th>F1-score</th>\n",
       "      <th>model</th>\n",
       "      <th>result_type</th>\n",
       "    </tr>\n",
       "  </thead>\n",
       "  <tbody>\n",
       "    <tr>\n",
       "      <th>0</th>\n",
       "      <td>0.5</td>\n",
       "      <td>0.0</td>\n",
       "      <td>1.0</td>\n",
       "      <td>NaN</td>\n",
       "      <td>0.987788</td>\n",
       "      <td>0.0</td>\n",
       "      <td>0.5</td>\n",
       "      <td>0.0</td>\n",
       "      <td>0.987788</td>\n",
       "      <td>0.012212</td>\n",
       "      <td>0.0</td>\n",
       "      <td>1.0</td>\n",
       "      <td>NaN</td>\n",
       "      <td>0.0</td>\n",
       "      <td>hybrid_mordred_maccs_rf</td>\n",
       "      <td>uncalibrated</td>\n",
       "    </tr>\n",
       "  </tbody>\n",
       "</table>\n",
       "</div>"
      ],
      "text/plain": [
       "   Bal-acc  Sensitivity  Specificity  PPV       NPV  Kappa  AUC  MCC  \\\n",
       "0      0.5          0.0          1.0  NaN  0.987788    0.0  0.5  0.0   \n",
       "\n",
       "   Accuracy  Classification error  False positive rate  False negative rate  \\\n",
       "0  0.987788              0.012212                  0.0                  1.0   \n",
       "\n",
       "   Precision  F1-score                    model   result_type  \n",
       "0        NaN       0.0  hybrid_mordred_maccs_rf  uncalibrated  "
      ]
     },
     "execution_count": 63,
     "metadata": {},
     "output_type": "execute_result"
    }
   ],
   "source": [
    "#converting calculated metrics into a pandas dataframe to save a xls\n",
    "model_type = \"hybrid_mordred_maccs_rf\"\n",
    "\n",
    "result_type = \"uncalibrated\"\n",
    "\n",
    "metrics_rf_uncalibrated = statistics\n",
    "metrics_rf_uncalibrated['model'] = model_type\n",
    "metrics_rf_uncalibrated['result_type'] = result_type\n",
    "metrics_rf_uncalibrated"
   ]
  },
  {
   "cell_type": "markdown",
   "metadata": {},
   "source": [
    "### Check model calibatrion"
   ]
  },
  {
   "cell_type": "code",
   "execution_count": 64,
   "metadata": {},
   "outputs": [
    {
     "data": {
      "image/png": "[encoded data removed]",
      "text/plain": [
       "<Figure size 432x288 with 1 Axes>"
      ]
     },
     "metadata": {
      "needs_background": "light"
     },
     "output_type": "display_data"
    }
   ],
   "source": [
    "# keep probabilities for the positive outcome only\n",
    "probs = probs_classes[:, 1]\n",
    "# reliability diagram\n",
    "fop, mpv = calibration_curve(y_experimental, probs, n_bins=10)\n",
    "# plot perfectly calibrated\n",
    "plt.plot([0, 1], [0, 1], linestyle='--')\n",
    "# plot model reliability\n",
    "plt.plot(mpv, fop, marker='.')\n",
    "#plt.show()\n",
    "plt.savefig('../results/calibration_model_hybrid_mordred_maccs_rf_1224857_bruno_imbalanced.png', dpi=300)"
   ]
  },
  {
   "cell_type": "markdown",
   "metadata": {},
   "source": [
    "### Use ROC-Curve and Gmean to select a threshold for calibration"
   ]
  },
  {
   "cell_type": "code",
   "execution_count": 65,
   "metadata": {},
   "outputs": [
    {
     "name": "stdout",
     "output_type": "stream",
     "text": [
      "Best Threshold=0.026954, G-Mean=0.801\n"
     ]
    },
    {
     "data": {
      "image/png": "[encoded data removed]",
      "text/plain": [
       "<Figure size 432x288 with 1 Axes>"
      ]
     },
     "metadata": {
      "needs_background": "light"
     },
     "output_type": "display_data"
    }
   ],
   "source": [
    "# keep probabilities for the positive outcome only\n",
    "yhat = probs_classes[:, 1]\n",
    "# calculate roc curves\n",
    "fpr, tpr, thresholds = roc_curve(y_experimental, yhat)\n",
    "# calculate the g-mean for each threshold\n",
    "gmeans = sqrt(tpr * (1-fpr))\n",
    "# locate the index of the largest g-mean\n",
    "ix = argmax(gmeans)\n",
    "print('Best Threshold=%f, G-Mean=%.3f' % (thresholds[ix], gmeans[ix]))\n",
    "# plot the roc curve for the model\n",
    "plt.plot([0,1], [0,1], linestyle='--', label='No Skill')\n",
    "plt.plot(fpr, tpr, marker='.', label='RF')\n",
    "plt.scatter(fpr[ix], tpr[ix], marker='o', color='black', label='Best')\n",
    "# axis labels\n",
    "plt.xlabel('False Positive Rate')\n",
    "plt.ylabel('True Positive Rate')\n",
    "plt.legend()\n",
    "# show the plot\n",
    "#plt.show()\n",
    "plt.savefig('../results/calibration_curve_hybrid_mordred_maccs_rf_1224857_bruno_imbalanced.png', dpi=300)"
   ]
  },
  {
   "cell_type": "code",
   "execution_count": 66,
   "metadata": {},
   "outputs": [
    {
     "name": "stdout",
     "output_type": "stream",
     "text": [
      "0.026954209855365063\n"
     ]
    }
   ],
   "source": [
    "# Record the threshold in a variable\n",
    "threshold_roc = thresholds[ix]\n",
    "print(threshold_roc)"
   ]
  },
  {
   "cell_type": "markdown",
   "metadata": {},
   "source": [
    "### Optimal Threshold for Precision-Recall Curve"
   ]
  },
  {
   "cell_type": "code",
   "execution_count": 67,
   "metadata": {},
   "outputs": [
    {
     "name": "stdout",
     "output_type": "stream",
     "text": [
      "Best Threshold=0.070462, F-Score=0.179\n"
     ]
    }
   ],
   "source": [
    "# keep probabilities for the positive outcome only\n",
    "yhat = probs_classes[:, 1]\n",
    "# calculate precision_recall_curve\n",
    "precision, recall, thresholds = precision_recall_curve(y_experimental, yhat)\n",
    "# convert to f score\n",
    "fscore = (2 * precision * recall) / (precision + recall)\n",
    "# locate the index of the largest f score\n",
    "ix = argmax(fscore)\n",
    "print('Best Threshold=%f, F-Score=%.3f' % (thresholds[ix], fscore[ix]))"
   ]
  },
  {
   "cell_type": "code",
   "execution_count": 68,
   "metadata": {},
   "outputs": [
    {
     "name": "stdout",
     "output_type": "stream",
     "text": [
      "0.070461870568441\n"
     ]
    }
   ],
   "source": [
    "# Record the threshold in a variable\n",
    "threshold_prc = thresholds[ix]\n",
    "print(threshold_prc)"
   ]
  },
  {
   "cell_type": "markdown",
   "metadata": {},
   "source": [
    "### Statistics model calibrated - Choose the best calibration method before"
   ]
  },
  {
   "cell_type": "code",
   "execution_count": 69,
   "metadata": {},
   "outputs": [],
   "source": [
    "# Select the best threshold to distinguishthe classes\n",
    "pred_rf = (probs_classes[:, 1] > threshold_roc).astype(int)\n",
    "# pred_rf = (probs_classes[:, 1] > threshold_prc).astype(int)"
   ]
  },
  {
   "cell_type": "code",
   "execution_count": 70,
   "metadata": {},
   "outputs": [
    {
     "name": "stdout",
     "output_type": "stream",
     "text": [
      "Accuracy =  0.8608349900596421\n",
      "MCC =  0.18224252529704452\n",
      "Kappa =  0.09186564186674728\n",
      "Sensitivity =  0.7209302325581395\n",
      "Specificity =  0.8625646923519263\n",
      "Precision =  0.060903732809430254\n",
      "PPV =  0.060903732809430254\n",
      "NPV =  0.9960159362549801\n",
      "False positive rate =  0.1374353076480736\n",
      "False negative rate =  0.27906976744186046\n",
      "AUC =  0.7917474624550329\n",
      "Classification error =  0.13916500994035785\n",
      "Balanced accuracy =  0.7917474624550329\n",
      "F1-score =  0.11231884057971013\n"
     ]
    }
   ],
   "source": [
    "statistics = calc_statistics(y_experimental, pred_rf)"
   ]
  },
  {
   "cell_type": "code",
   "execution_count": 71,
   "metadata": {},
   "outputs": [
    {
     "data": {
      "text/html": [
       "<div>\n",
       "<style scoped>\n",
       "    .dataframe tbody tr th:only-of-type {\n",
       "        vertical-align: middle;\n",
       "    }\n",
       "\n",
       "    .dataframe tbody tr th {\n",
       "        vertical-align: top;\n",
       "    }\n",
       "\n",
       "    .dataframe thead th {\n",
       "        text-align: right;\n",
       "    }\n",
       "</style>\n",
       "<table border=\"1\" class=\"dataframe\">\n",
       "  <thead>\n",
       "    <tr style=\"text-align: right;\">\n",
       "      <th></th>\n",
       "      <th>Bal-acc</th>\n",
       "      <th>Sensitivity</th>\n",
       "      <th>Specificity</th>\n",
       "      <th>PPV</th>\n",
       "      <th>NPV</th>\n",
       "      <th>Kappa</th>\n",
       "      <th>AUC</th>\n",
       "      <th>MCC</th>\n",
       "      <th>Accuracy</th>\n",
       "      <th>Classification error</th>\n",
       "      <th>False positive rate</th>\n",
       "      <th>False negative rate</th>\n",
       "      <th>Precision</th>\n",
       "      <th>F1-score</th>\n",
       "      <th>model</th>\n",
       "      <th>result_type</th>\n",
       "      <th>calibration_threshold</th>\n",
       "    </tr>\n",
       "  </thead>\n",
       "  <tbody>\n",
       "    <tr>\n",
       "      <th>0</th>\n",
       "      <td>0.791747</td>\n",
       "      <td>0.72093</td>\n",
       "      <td>0.862565</td>\n",
       "      <td>0.060904</td>\n",
       "      <td>0.996016</td>\n",
       "      <td>0.091866</td>\n",
       "      <td>0.791747</td>\n",
       "      <td>0.182243</td>\n",
       "      <td>0.860835</td>\n",
       "      <td>0.139165</td>\n",
       "      <td>0.137435</td>\n",
       "      <td>0.27907</td>\n",
       "      <td>0.060904</td>\n",
       "      <td>0.112319</td>\n",
       "      <td>hybrid_mordred_maccs_rf</td>\n",
       "      <td>calibrated</td>\n",
       "      <td>0.026954</td>\n",
       "    </tr>\n",
       "  </tbody>\n",
       "</table>\n",
       "</div>"
      ],
      "text/plain": [
       "    Bal-acc  Sensitivity  Specificity       PPV       NPV     Kappa       AUC  \\\n",
       "0  0.791747      0.72093     0.862565  0.060904  0.996016  0.091866  0.791747   \n",
       "\n",
       "        MCC  Accuracy  Classification error  False positive rate  \\\n",
       "0  0.182243  0.860835              0.139165             0.137435   \n",
       "\n",
       "   False negative rate  Precision  F1-score                    model  \\\n",
       "0              0.27907   0.060904  0.112319  hybrid_mordred_maccs_rf   \n",
       "\n",
       "  result_type  calibration_threshold  \n",
       "0  calibrated               0.026954  "
      ]
     },
     "execution_count": 71,
     "metadata": {},
     "output_type": "execute_result"
    }
   ],
   "source": [
    "#converting calculated metrics into a pandas dataframe to save a xls\n",
    "model_type = \"hybrid_mordred_maccs_rf\"\n",
    "\n",
    "result_type = \"calibrated\"\n",
    "\n",
    "metrics_rf_calibrated = statistics\n",
    "metrics_rf_calibrated['model'] = model_type\n",
    "metrics_rf_calibrated['result_type'] = result_type\n",
    "metrics_rf_calibrated['calibration_threshold'] = threshold_roc\n",
    "metrics_rf_calibrated"
   ]
  },
  {
   "cell_type": "code",
   "execution_count": 72,
   "metadata": {},
   "outputs": [],
   "source": [
    "# Saving the dataframe as excel file\n",
    "#metrics_rf_calibrated.to_excel(\"../results/model_binary_metrics_rf_featmorgan_r2_gmean_mpro_newdata_thres028.xlsx\", sheet_name= \"Sheet1\")"
   ]
  },
  {
   "cell_type": "markdown",
   "metadata": {},
   "source": [
    "### Save model"
   ]
  },
  {
   "cell_type": "code",
   "execution_count": 73,
   "metadata": {},
   "outputs": [
    {
     "data": {
      "text/plain": [
       "['../models/model_binary_hybrid_mordred_maccs_rf_gmean_1224857_bruno_imbalanced.pkl']"
      ]
     },
     "execution_count": 73,
     "metadata": {},
     "output_type": "execute_result"
    }
   ],
   "source": [
    "#Save model - pkl file\n",
    "joblib.dump(opt_rf, \"../models/model_binary_hybrid_mordred_maccs_rf_gmean_1224857_bruno_imbalanced.pkl\", compress=3)"
   ]
  },
  {
   "cell_type": "markdown",
   "metadata": {},
   "source": [
    "## SVM Model building - Bayesian hyperparameter search  "
   ]
  },
  {
   "cell_type": "code",
   "execution_count": 74,
   "metadata": {},
   "outputs": [
    {
     "name": "stdout",
     "output_type": "stream",
     "text": [
      "Best parameters: OrderedDict([('C', 1000000.0), ('gamma', 2.714311092619507e-06), ('kernel', 'rbf')])\n"
     ]
    }
   ],
   "source": [
    "scorer = make_scorer(geometric_mean_score)\n",
    "\n",
    "# log-uniform: understand as search over p = exp(x) by varying x\n",
    "opt_svm = BayesSearchCV(\n",
    "    SVC(probability=True),\n",
    "    {\n",
    "        'C': (1e-6, 1e+6, 'log-uniform'),\n",
    "        'gamma': (1e-6, 1e+1, 'log-uniform'),\n",
    "        'kernel': ['rbf'],  # categorical parameter | ['linear', 'poly', 'rbf'] to test all kernels\n",
    "    },\n",
    "    n_iter=50, # Number of parameter settings that are sampled\n",
    "    cv=cv,\n",
    "    scoring = scorer,\n",
    "    refit = True, # Refit the best estimator with the entire dataset.\n",
    "    random_state=42,\n",
    "    n_jobs = -1\n",
    ")\n",
    "\n",
    "opt_svm.fit(x, y)\n",
    "\n",
    "print(\"Best parameters: %s\" % opt_svm.best_params_)"
   ]
  },
  {
   "cell_type": "markdown",
   "metadata": {},
   "source": [
    "## 5-fold cross-validation"
   ]
  },
  {
   "cell_type": "code",
   "execution_count": 75,
   "metadata": {},
   "outputs": [],
   "source": [
    "probs_classes = []\n",
    "#indexes = []\n",
    "y_test_all = []\n",
    "\n",
    "for train_index, test_index in cv.split(x, y):\n",
    "    svm_clf = SVC(**opt_svm.best_params_, probability=True) # model with best parameters\n",
    "    X_train_folds = x[train_index] # descritors train split\n",
    "    y_train_folds = np.array(y)[train_index.astype(int)] # label train split\n",
    "    X_test_fold = x[test_index] # descritors test split\n",
    "    y_test_fold = np.array(y)[test_index.astype(int)] # label test split\n",
    "    \n",
    "    \n",
    "    svm_clf.fit(X_train_folds, y_train_folds) # train fold\n",
    "    y_pred = svm_clf.predict_proba(X_test_fold) # test fold\n",
    "    probs_classes.append(y_pred) # all predictions for test folds\n",
    "    y_test_all.append(y_test_fold) # all folds' labels \n",
    "#  indexes.append(test_index) # all tests indexes"
   ]
  },
  {
   "cell_type": "markdown",
   "metadata": {},
   "source": [
    "## Check performance of each fold"
   ]
  },
  {
   "cell_type": "code",
   "execution_count": 76,
   "metadata": {},
   "outputs": [],
   "source": [
    "# Get predictions of each fold\n",
    "fold_1_pred = (probs_classes[0][:, 1] > 0.5).astype(int)\n",
    "fold_2_pred = (probs_classes[1][:, 1] > 0.5).astype(int)\n",
    "fold_3_pred = (probs_classes[2][:, 1] > 0.5).astype(int)\n",
    "fold_4_pred = (probs_classes[3][:, 1] > 0.5).astype(int)\n",
    "fold_5_pred = (probs_classes[4][:, 1] > 0.5).astype(int)"
   ]
  },
  {
   "cell_type": "code",
   "execution_count": 77,
   "metadata": {},
   "outputs": [],
   "source": [
    "# Get experimental values of each fold\n",
    "fold_1_exp = y_test_all[0]\n",
    "fold_2_exp = y_test_all[1]\n",
    "fold_3_exp = y_test_all[2]\n",
    "fold_4_exp = y_test_all[3]\n",
    "fold_5_exp = y_test_all[4]"
   ]
  },
  {
   "cell_type": "code",
   "execution_count": 78,
   "metadata": {},
   "outputs": [
    {
     "name": "stdout",
     "output_type": "stream",
     "text": [
      "Balanced accuracy (fold 1) =  0.5\n",
      "Balanced accuracy (fold 2) =  0.5\n",
      "Balanced accuracy (fold 3) =  0.5\n",
      "Balanced accuracy (fold 4) =  0.5\n",
      "Balanced accuracy (fold 5) =  0.5\n"
     ]
    }
   ],
   "source": [
    "bacc1 = metrics.balanced_accuracy_score(fold_1_exp, fold_1_pred) # balanced accuracy fold 1\n",
    "bacc2 = metrics.balanced_accuracy_score(fold_2_exp, fold_2_pred) # balanced accuracy fold 2\n",
    "bacc3 = metrics.balanced_accuracy_score(fold_3_exp, fold_3_pred) # balanced accuracy fold 3\n",
    "bacc4 = metrics.balanced_accuracy_score(fold_4_exp, fold_4_pred) # balanced accuracy fold 4\n",
    "bacc5 = metrics.balanced_accuracy_score(fold_5_exp, fold_5_pred) # balanced accuracy fold 5\n",
    "print(\"Balanced accuracy (fold 1) = \", bacc1)\n",
    "print(\"Balanced accuracy (fold 2) = \", bacc2)\n",
    "print(\"Balanced accuracy (fold 3) = \", bacc3)\n",
    "print(\"Balanced accuracy (fold 4) = \", bacc4)\n",
    "print(\"Balanced accuracy (fold 5) = \", bacc5)"
   ]
  },
  {
   "cell_type": "markdown",
   "metadata": {},
   "source": [
    "## Check mean performance of folds"
   ]
  },
  {
   "cell_type": "code",
   "execution_count": 79,
   "metadata": {},
   "outputs": [],
   "source": [
    "probs_classes = np.concatenate(probs_classes)    \n",
    "y_experimental = np.concatenate(y_test_all)"
   ]
  },
  {
   "cell_type": "code",
   "execution_count": 80,
   "metadata": {},
   "outputs": [],
   "source": [
    "# Uncalibrated model predictions\n",
    "pred_svm = (probs_classes[:, 1] > 0.5).astype(int)"
   ]
  },
  {
   "cell_type": "markdown",
   "metadata": {},
   "source": [
    "### Statistics - featmorgan-SVM"
   ]
  },
  {
   "cell_type": "code",
   "execution_count": 81,
   "metadata": {},
   "outputs": [
    {
     "data": {
      "text/plain": [
       "3521"
      ]
     },
     "execution_count": 81,
     "metadata": {},
     "output_type": "execute_result"
    }
   ],
   "source": [
    "# Uncalibrated model predictions\n",
    "pred_svm = (probs_classes[:, 1] > 0.5).astype(int)\n",
    "len(y_experimental)"
   ]
  },
  {
   "cell_type": "code",
   "execution_count": 82,
   "metadata": {},
   "outputs": [
    {
     "name": "stdout",
     "output_type": "stream",
     "text": [
      "Accuracy =  0.9877875603521726\n",
      "MCC =  0.0\n",
      "Kappa =  0.0\n",
      "Sensitivity =  0.0\n",
      "Specificity =  1.0\n",
      "Precision =  nan\n",
      "PPV =  nan\n",
      "NPV =  0.9877875603521726\n",
      "False positive rate =  0.0\n",
      "False negative rate =  1.0\n",
      "AUC =  0.5\n",
      "Classification error =  0.012212439647827367\n",
      "Balanced accuracy =  0.5\n",
      "F1-score =  0.0\n"
     ]
    },
    {
     "name": "stderr",
     "output_type": "stream",
     "text": [
      "C:\\Users\\tiofi\\PyMOL\\envs\\rdkit2\\lib\\site-packages\\sklearn\\metrics\\_classification.py:900: RuntimeWarning: invalid value encountered in double_scalars\n",
      "  mcc = cov_ytyp / np.sqrt(cov_ytyt * cov_ypyp)\n",
      "C:\\Users\\tiofi\\PyMOL\\envs\\rdkit2\\lib\\site-packages\\ipykernel_launcher.py:27: RuntimeWarning: invalid value encountered in true_divide\n",
      "C:\\Users\\tiofi\\PyMOL\\envs\\rdkit2\\lib\\site-packages\\ipykernel_launcher.py:28: RuntimeWarning: invalid value encountered in true_divide\n"
     ]
    }
   ],
   "source": [
    "statistics = calc_statistics(y_experimental, pred_svm)"
   ]
  },
  {
   "cell_type": "code",
   "execution_count": 83,
   "metadata": {},
   "outputs": [
    {
     "data": {
      "text/html": [
       "<div>\n",
       "<style scoped>\n",
       "    .dataframe tbody tr th:only-of-type {\n",
       "        vertical-align: middle;\n",
       "    }\n",
       "\n",
       "    .dataframe tbody tr th {\n",
       "        vertical-align: top;\n",
       "    }\n",
       "\n",
       "    .dataframe thead th {\n",
       "        text-align: right;\n",
       "    }\n",
       "</style>\n",
       "<table border=\"1\" class=\"dataframe\">\n",
       "  <thead>\n",
       "    <tr style=\"text-align: right;\">\n",
       "      <th></th>\n",
       "      <th>Bal-acc</th>\n",
       "      <th>Sensitivity</th>\n",
       "      <th>Specificity</th>\n",
       "      <th>PPV</th>\n",
       "      <th>NPV</th>\n",
       "      <th>Kappa</th>\n",
       "      <th>AUC</th>\n",
       "      <th>MCC</th>\n",
       "      <th>Accuracy</th>\n",
       "      <th>Classification error</th>\n",
       "      <th>False positive rate</th>\n",
       "      <th>False negative rate</th>\n",
       "      <th>Precision</th>\n",
       "      <th>F1-score</th>\n",
       "      <th>model</th>\n",
       "      <th>result_type</th>\n",
       "    </tr>\n",
       "  </thead>\n",
       "  <tbody>\n",
       "    <tr>\n",
       "      <th>0</th>\n",
       "      <td>0.5</td>\n",
       "      <td>0.0</td>\n",
       "      <td>1.0</td>\n",
       "      <td>NaN</td>\n",
       "      <td>0.987788</td>\n",
       "      <td>0.0</td>\n",
       "      <td>0.5</td>\n",
       "      <td>0.0</td>\n",
       "      <td>0.987788</td>\n",
       "      <td>0.012212</td>\n",
       "      <td>0.0</td>\n",
       "      <td>1.0</td>\n",
       "      <td>NaN</td>\n",
       "      <td>0.0</td>\n",
       "      <td>hybrid_mordred_maccs_svm</td>\n",
       "      <td>uncalibrated</td>\n",
       "    </tr>\n",
       "  </tbody>\n",
       "</table>\n",
       "</div>"
      ],
      "text/plain": [
       "   Bal-acc  Sensitivity  Specificity  PPV       NPV  Kappa  AUC  MCC  \\\n",
       "0      0.5          0.0          1.0  NaN  0.987788    0.0  0.5  0.0   \n",
       "\n",
       "   Accuracy  Classification error  False positive rate  False negative rate  \\\n",
       "0  0.987788              0.012212                  0.0                  1.0   \n",
       "\n",
       "   Precision  F1-score                     model   result_type  \n",
       "0        NaN       0.0  hybrid_mordred_maccs_svm  uncalibrated  "
      ]
     },
     "execution_count": 83,
     "metadata": {},
     "output_type": "execute_result"
    }
   ],
   "source": [
    "#converting calculated metrics into a pandas dataframe to save a xls\n",
    "model_type = \"hybrid_mordred_maccs_svm\"\n",
    "\n",
    "result_type = \"uncalibrated\"\n",
    "\n",
    "metrics_svm_uncalibrated = statistics\n",
    "metrics_svm_uncalibrated['model'] = model_type\n",
    "metrics_svm_uncalibrated['result_type'] = result_type\n",
    "metrics_svm_uncalibrated"
   ]
  },
  {
   "cell_type": "markdown",
   "metadata": {},
   "source": [
    "### Check model calibatrion"
   ]
  },
  {
   "cell_type": "code",
   "execution_count": 84,
   "metadata": {},
   "outputs": [
    {
     "data": {
      "image/png": "[encoded data removed]",
      "text/plain": [
       "<Figure size 432x288 with 1 Axes>"
      ]
     },
     "metadata": {
      "needs_background": "light"
     },
     "output_type": "display_data"
    }
   ],
   "source": [
    "# keep probabilities for the positive outcome only\n",
    "probs = probs_classes[:, 1]\n",
    "# reliability diagram\n",
    "fop, mpv = calibration_curve(y_experimental, probs, n_bins=10)\n",
    "# plot perfectly calibrated\n",
    "plt.plot([0, 1], [0, 1], linestyle='--')\n",
    "# plot model reliability\n",
    "plt.plot(mpv, fop, marker='.')\n",
    "#plt.show()\n",
    "plt.savefig('../results/calibration_model_hybrid_mordred_maccs_svm_1224857_bruno_imbalanced.png', dpi=300)"
   ]
  },
  {
   "cell_type": "markdown",
   "metadata": {},
   "source": [
    "### Use ROC-Curve and Gmean to select a threshold for calibration"
   ]
  },
  {
   "cell_type": "code",
   "execution_count": 85,
   "metadata": {},
   "outputs": [
    {
     "name": "stdout",
     "output_type": "stream",
     "text": [
      "Best Threshold=0.016887, G-Mean=0.763\n"
     ]
    },
    {
     "data": {
      "image/png": "[encoded data removed]",
      "text/plain": [
       "<Figure size 432x288 with 1 Axes>"
      ]
     },
     "metadata": {
      "needs_background": "light"
     },
     "output_type": "display_data"
    }
   ],
   "source": [
    "# keep probabilities for the positive outcome only\n",
    "yhat = probs_classes[:, 1]\n",
    "# calculate roc curves\n",
    "fpr, tpr, thresholds = roc_curve(y_experimental, yhat)\n",
    "# calculate the g-mean for each threshold\n",
    "gmeans = sqrt(tpr * (1-fpr))\n",
    "# locate the index of the largest g-mean\n",
    "ix = argmax(gmeans)\n",
    "print('Best Threshold=%f, G-Mean=%.3f' % (thresholds[ix], gmeans[ix]))\n",
    "# plot the roc curve for the model\n",
    "plt.plot([0,1], [0,1], linestyle='--', label='No Skill')\n",
    "plt.plot(fpr, tpr, marker='.', label='SVM')\n",
    "plt.scatter(fpr[ix], tpr[ix], marker='o', color='black', label='Best')\n",
    "# axis labels\n",
    "plt.xlabel('False Positive Rate')\n",
    "plt.ylabel('True Positive Rate')\n",
    "plt.legend()\n",
    "# show the plot\n",
    "#plt.show()\n",
    "plt.savefig('../results/calibration_curve_hybrid_mordred_maccs_svm_1224857_bruno_imbalanced.png', dpi=300)"
   ]
  },
  {
   "cell_type": "code",
   "execution_count": 86,
   "metadata": {},
   "outputs": [
    {
     "name": "stdout",
     "output_type": "stream",
     "text": [
      "0.016886594589169305\n"
     ]
    }
   ],
   "source": [
    "# Record the threshold in a variable\n",
    "threshold_roc = thresholds[ix]\n",
    "print(threshold_roc)"
   ]
  },
  {
   "cell_type": "markdown",
   "metadata": {},
   "source": [
    "### Optimal Threshold for Precision-Recall Curve"
   ]
  },
  {
   "cell_type": "code",
   "execution_count": 87,
   "metadata": {},
   "outputs": [
    {
     "name": "stdout",
     "output_type": "stream",
     "text": [
      "Best Threshold=0.208681, F-Score=nan\n"
     ]
    },
    {
     "name": "stderr",
     "output_type": "stream",
     "text": [
      "C:\\Users\\tiofi\\PyMOL\\envs\\rdkit2\\lib\\site-packages\\ipykernel_launcher.py:6: RuntimeWarning: invalid value encountered in true_divide\n",
      "  \n"
     ]
    }
   ],
   "source": [
    "# keep probabilities for the positive outcome only\n",
    "yhat = probs_classes[:, 1]\n",
    "# calculate precision_recall_curve\n",
    "precision, recall, thresholds = precision_recall_curve(y_experimental, yhat)\n",
    "# convert to f score\n",
    "fscore = (2 * precision * recall) / (precision + recall)\n",
    "# locate the index of the largest f score\n",
    "ix = argmax(fscore)\n",
    "print('Best Threshold=%f, F-Score=%.3f' % (thresholds[ix], fscore[ix]))"
   ]
  },
  {
   "cell_type": "code",
   "execution_count": 88,
   "metadata": {},
   "outputs": [
    {
     "name": "stdout",
     "output_type": "stream",
     "text": [
      "0.2086806479405561\n"
     ]
    }
   ],
   "source": [
    "# Record the threshold in a variable\n",
    "threshold_prc = thresholds[ix]\n",
    "print(threshold_prc)"
   ]
  },
  {
   "cell_type": "markdown",
   "metadata": {},
   "source": [
    "### Statistics model calibrated - Choose the best calibration method before"
   ]
  },
  {
   "cell_type": "code",
   "execution_count": 89,
   "metadata": {},
   "outputs": [],
   "source": [
    "# Select the best threshold to distinguishthe classes\n",
    "pred_svm = (probs_classes[:, 1] > threshold_roc).astype(int)\n",
    "# pred_svm = (probs_classes[:, 1] > threshold_prc).astype(int)"
   ]
  },
  {
   "cell_type": "code",
   "execution_count": 90,
   "metadata": {},
   "outputs": [
    {
     "name": "stdout",
     "output_type": "stream",
     "text": [
      "Accuracy =  0.8071570576540755\n",
      "MCC =  0.1396029163510026\n",
      "Kappa =  0.0595571566418045\n",
      "Sensitivity =  0.6976744186046512\n",
      "Specificity =  0.8085106382978723\n",
      "Precision =  0.04310344827586207\n",
      "PPV =  0.04310344827586207\n",
      "NPV =  0.9953982300884956\n",
      "False positive rate =  0.19148936170212766\n",
      "False negative rate =  0.3023255813953488\n",
      "AUC =  0.7530925284512617\n",
      "Classification error =  0.19284294234592447\n",
      "Balanced accuracy =  0.7530925284512617\n",
      "F1-score =  0.08119079837618404\n"
     ]
    }
   ],
   "source": [
    "statistics = calc_statistics(y_experimental, pred_svm)"
   ]
  },
  {
   "cell_type": "code",
   "execution_count": 91,
   "metadata": {},
   "outputs": [
    {
     "data": {
      "text/html": [
       "<div>\n",
       "<style scoped>\n",
       "    .dataframe tbody tr th:only-of-type {\n",
       "        vertical-align: middle;\n",
       "    }\n",
       "\n",
       "    .dataframe tbody tr th {\n",
       "        vertical-align: top;\n",
       "    }\n",
       "\n",
       "    .dataframe thead th {\n",
       "        text-align: right;\n",
       "    }\n",
       "</style>\n",
       "<table border=\"1\" class=\"dataframe\">\n",
       "  <thead>\n",
       "    <tr style=\"text-align: right;\">\n",
       "      <th></th>\n",
       "      <th>Bal-acc</th>\n",
       "      <th>Sensitivity</th>\n",
       "      <th>Specificity</th>\n",
       "      <th>PPV</th>\n",
       "      <th>NPV</th>\n",
       "      <th>Kappa</th>\n",
       "      <th>AUC</th>\n",
       "      <th>MCC</th>\n",
       "      <th>Accuracy</th>\n",
       "      <th>Classification error</th>\n",
       "      <th>False positive rate</th>\n",
       "      <th>False negative rate</th>\n",
       "      <th>Precision</th>\n",
       "      <th>F1-score</th>\n",
       "      <th>model</th>\n",
       "      <th>result_type</th>\n",
       "      <th>calibration_threshold</th>\n",
       "    </tr>\n",
       "  </thead>\n",
       "  <tbody>\n",
       "    <tr>\n",
       "      <th>0</th>\n",
       "      <td>0.753093</td>\n",
       "      <td>0.697674</td>\n",
       "      <td>0.808511</td>\n",
       "      <td>0.043103</td>\n",
       "      <td>0.995398</td>\n",
       "      <td>0.059557</td>\n",
       "      <td>0.753093</td>\n",
       "      <td>0.139603</td>\n",
       "      <td>0.807157</td>\n",
       "      <td>0.192843</td>\n",
       "      <td>0.191489</td>\n",
       "      <td>0.302326</td>\n",
       "      <td>0.043103</td>\n",
       "      <td>0.081191</td>\n",
       "      <td>hybrid_mordred_maccs_svm</td>\n",
       "      <td>calibrated</td>\n",
       "      <td>0.016887</td>\n",
       "    </tr>\n",
       "  </tbody>\n",
       "</table>\n",
       "</div>"
      ],
      "text/plain": [
       "    Bal-acc  Sensitivity  Specificity       PPV       NPV     Kappa       AUC  \\\n",
       "0  0.753093     0.697674     0.808511  0.043103  0.995398  0.059557  0.753093   \n",
       "\n",
       "        MCC  Accuracy  Classification error  False positive rate  \\\n",
       "0  0.139603  0.807157              0.192843             0.191489   \n",
       "\n",
       "   False negative rate  Precision  F1-score                     model  \\\n",
       "0             0.302326   0.043103  0.081191  hybrid_mordred_maccs_svm   \n",
       "\n",
       "  result_type  calibration_threshold  \n",
       "0  calibrated               0.016887  "
      ]
     },
     "execution_count": 91,
     "metadata": {},
     "output_type": "execute_result"
    }
   ],
   "source": [
    "#converting calculated metrics into a pandas dataframe to save a xls\n",
    "model_type = \"hybrid_mordred_maccs_svm\"\n",
    "\n",
    "result_type = \"calibrated\"\n",
    "\n",
    "metrics_svm_calibrated = statistics\n",
    "metrics_svm_calibrated['model'] = model_type\n",
    "metrics_svm_calibrated['result_type'] = result_type\n",
    "metrics_svm_calibrated['calibration_threshold'] = threshold_roc\n",
    "metrics_svm_calibrated"
   ]
  },
  {
   "cell_type": "code",
   "execution_count": 92,
   "metadata": {},
   "outputs": [],
   "source": [
    "# Saving the dataframe as excel file\n",
    "#metrics_svm.to_excel(\"../results/model_binary_metrics_svm_featmorgan_r2_gmean_mpro_newdata_thres039.xlsx\", sheet_name= \"Sheet1\")"
   ]
  },
  {
   "cell_type": "markdown",
   "metadata": {},
   "source": [
    "### Save model"
   ]
  },
  {
   "cell_type": "code",
   "execution_count": 93,
   "metadata": {},
   "outputs": [
    {
     "data": {
      "text/plain": [
       "['../models/model_binary_svm_hybrid_mordred_maccs_gmean_1224857_bruno_imbalanced.pkl']"
      ]
     },
     "execution_count": 93,
     "metadata": {},
     "output_type": "execute_result"
    }
   ],
   "source": [
    "#Save model - pkl file\n",
    "joblib.dump(opt_svm, \"../models/model_binary_svm_hybrid_mordred_maccs_gmean_1224857_bruno_imbalanced.pkl\", compress=3)"
   ]
  },
  {
   "cell_type": "markdown",
   "metadata": {},
   "source": [
    "## LightGBM Model building - Bayesian hyperparameter search"
   ]
  },
  {
   "cell_type": "code",
   "execution_count": 94,
   "metadata": {},
   "outputs": [
    {
     "name": "stdout",
     "output_type": "stream",
     "text": [
      "Best parameters: OrderedDict([('learning_rate', 0.028405163511176088), ('max_depth', 2), ('n_estimators', 100), ('num_leaves', 2830), ('scale_pos_weight', 850), ('subsample', 0.4)])\n"
     ]
    }
   ],
   "source": [
    "scorer = make_scorer(geometric_mean_score)\n",
    "\n",
    "# log-uniform: understand as search over p = exp(x) by varying x\n",
    "opt_lgb = BayesSearchCV(lgb.LGBMClassifier(),\n",
    "                        {'learning_rate': (0.01, 1.0, 'log-uniform'), \n",
    "                         'num_leaves': (7, 4095),\n",
    "                         'n_estimators': (100, 800), \n",
    "                         'max_depth': (2, 63),\n",
    "                         'subsample': (0.4, 1), \n",
    "                         'scale_pos_weight': (1, 1000)}, \n",
    "                        n_iter = 50, # Number of parameter settings that are sampled\n",
    "                        cv = cv, \n",
    "                        scoring = scorer,\n",
    "                        refit = True, # Refit the best estimator with the entire dataset.\n",
    "                        verbose = 0,\n",
    "                        random_state = 42, \n",
    "                        n_jobs = 1)\n",
    "\n",
    "opt_lgb.fit(x, y)\n",
    "\n",
    "print(\"Best parameters: %s\" % opt_lgb.best_params_)"
   ]
  },
  {
   "cell_type": "markdown",
   "metadata": {},
   "source": [
    "## 5-fold cross-validation"
   ]
  },
  {
   "cell_type": "code",
   "execution_count": 95,
   "metadata": {},
   "outputs": [],
   "source": [
    "probs_classes = []\n",
    "#indexes = []\n",
    "y_test_all = []\n",
    "\n",
    "for train_index, test_index in cv.split(x, y):\n",
    "    lgb_clf = lgb.LGBMClassifier(**opt_lgb.best_params_,) # model with best parameters\n",
    "    X_train_folds = x[train_index] # descritors train split\n",
    "    y_train_folds = np.array(y)[train_index.astype(int)] # label train split\n",
    "    X_test_fold = x[test_index] # descritors test split\n",
    "    y_test_fold = np.array(y)[test_index.astype(int)] # label test split\n",
    "    \n",
    "    \n",
    "    svm_clf.fit(X_train_folds, y_train_folds) # train fold\n",
    "    y_pred = svm_clf.predict_proba(X_test_fold) # test fold\n",
    "    probs_classes.append(y_pred) # all predictions for test folds\n",
    "    y_test_all.append(y_test_fold) # all folds' labels \n",
    "#  indexes.append(test_index) # all tests indexes"
   ]
  },
  {
   "cell_type": "markdown",
   "metadata": {},
   "source": [
    "## Check performance of each fold"
   ]
  },
  {
   "cell_type": "code",
   "execution_count": 96,
   "metadata": {},
   "outputs": [],
   "source": [
    "# Get predictions of each fold\n",
    "fold_1_pred = (probs_classes[0][:, 1] > 0.5).astype(int)\n",
    "fold_2_pred = (probs_classes[1][:, 1] > 0.5).astype(int)\n",
    "fold_3_pred = (probs_classes[2][:, 1] > 0.5).astype(int)\n",
    "fold_4_pred = (probs_classes[3][:, 1] > 0.5).astype(int)\n",
    "fold_5_pred = (probs_classes[4][:, 1] > 0.5).astype(int)"
   ]
  },
  {
   "cell_type": "code",
   "execution_count": 97,
   "metadata": {},
   "outputs": [],
   "source": [
    "# Get experimental values of each fold\n",
    "fold_1_exp = y_test_all[0]\n",
    "fold_2_exp = y_test_all[1]\n",
    "fold_3_exp = y_test_all[2]\n",
    "fold_4_exp = y_test_all[3]\n",
    "fold_5_exp = y_test_all[4]"
   ]
  },
  {
   "cell_type": "code",
   "execution_count": 98,
   "metadata": {},
   "outputs": [
    {
     "name": "stdout",
     "output_type": "stream",
     "text": [
      "Balanced accuracy (fold 1) =  0.5\n",
      "Balanced accuracy (fold 2) =  0.5\n",
      "Balanced accuracy (fold 3) =  0.5\n",
      "Balanced accuracy (fold 4) =  0.5\n",
      "Balanced accuracy (fold 5) =  0.5\n"
     ]
    }
   ],
   "source": [
    "bacc1 = metrics.balanced_accuracy_score(fold_1_exp, fold_1_pred) # balanced accuracy fold 1\n",
    "bacc2 = metrics.balanced_accuracy_score(fold_2_exp, fold_2_pred) # balanced accuracy fold 2\n",
    "bacc3 = metrics.balanced_accuracy_score(fold_3_exp, fold_3_pred) # balanced accuracy fold 3\n",
    "bacc4 = metrics.balanced_accuracy_score(fold_4_exp, fold_4_pred) # balanced accuracy fold 4\n",
    "bacc5 = metrics.balanced_accuracy_score(fold_5_exp, fold_5_pred) # balanced accuracy fold 5\n",
    "print(\"Balanced accuracy (fold 1) = \", bacc1)\n",
    "print(\"Balanced accuracy (fold 2) = \", bacc2)\n",
    "print(\"Balanced accuracy (fold 3) = \", bacc3)\n",
    "print(\"Balanced accuracy (fold 4) = \", bacc4)\n",
    "print(\"Balanced accuracy (fold 5) = \", bacc5)"
   ]
  },
  {
   "cell_type": "markdown",
   "metadata": {},
   "source": [
    "## Check mean performance of folds"
   ]
  },
  {
   "cell_type": "code",
   "execution_count": 99,
   "metadata": {},
   "outputs": [],
   "source": [
    "probs_classes = np.concatenate(probs_classes)    \n",
    "y_experimental = np.concatenate(y_test_all)"
   ]
  },
  {
   "cell_type": "code",
   "execution_count": 100,
   "metadata": {},
   "outputs": [],
   "source": [
    "# Uncalibrated model predictions\n",
    "pred_lgb = (probs_classes[:, 1] > 0.5).astype(int)"
   ]
  },
  {
   "cell_type": "markdown",
   "metadata": {},
   "source": [
    "### Statistics - featmorgan-LGB"
   ]
  },
  {
   "cell_type": "code",
   "execution_count": 101,
   "metadata": {},
   "outputs": [],
   "source": [
    "pred_lgb = (probs_classes[:, 1] > 0.5).astype(int)"
   ]
  },
  {
   "cell_type": "code",
   "execution_count": 102,
   "metadata": {},
   "outputs": [
    {
     "name": "stdout",
     "output_type": "stream",
     "text": [
      "Accuracy =  0.9877875603521726\n",
      "MCC =  0.0\n",
      "Kappa =  0.0\n",
      "Sensitivity =  0.0\n",
      "Specificity =  1.0\n",
      "Precision =  nan\n",
      "PPV =  nan\n",
      "NPV =  0.9877875603521726\n",
      "False positive rate =  0.0\n",
      "False negative rate =  1.0\n",
      "AUC =  0.5\n",
      "Classification error =  0.012212439647827367\n",
      "Balanced accuracy =  0.5\n",
      "F1-score =  0.0\n"
     ]
    },
    {
     "name": "stderr",
     "output_type": "stream",
     "text": [
      "C:\\Users\\tiofi\\PyMOL\\envs\\rdkit2\\lib\\site-packages\\sklearn\\metrics\\_classification.py:900: RuntimeWarning: invalid value encountered in double_scalars\n",
      "  mcc = cov_ytyp / np.sqrt(cov_ytyt * cov_ypyp)\n",
      "C:\\Users\\tiofi\\PyMOL\\envs\\rdkit2\\lib\\site-packages\\ipykernel_launcher.py:27: RuntimeWarning: invalid value encountered in true_divide\n",
      "C:\\Users\\tiofi\\PyMOL\\envs\\rdkit2\\lib\\site-packages\\ipykernel_launcher.py:28: RuntimeWarning: invalid value encountered in true_divide\n"
     ]
    }
   ],
   "source": [
    "statistics = calc_statistics(y_experimental, pred_lgb)"
   ]
  },
  {
   "cell_type": "code",
   "execution_count": 103,
   "metadata": {},
   "outputs": [
    {
     "data": {
      "text/html": [
       "<div>\n",
       "<style scoped>\n",
       "    .dataframe tbody tr th:only-of-type {\n",
       "        vertical-align: middle;\n",
       "    }\n",
       "\n",
       "    .dataframe tbody tr th {\n",
       "        vertical-align: top;\n",
       "    }\n",
       "\n",
       "    .dataframe thead th {\n",
       "        text-align: right;\n",
       "    }\n",
       "</style>\n",
       "<table border=\"1\" class=\"dataframe\">\n",
       "  <thead>\n",
       "    <tr style=\"text-align: right;\">\n",
       "      <th></th>\n",
       "      <th>Bal-acc</th>\n",
       "      <th>Sensitivity</th>\n",
       "      <th>Specificity</th>\n",
       "      <th>PPV</th>\n",
       "      <th>NPV</th>\n",
       "      <th>Kappa</th>\n",
       "      <th>AUC</th>\n",
       "      <th>MCC</th>\n",
       "      <th>Accuracy</th>\n",
       "      <th>Classification error</th>\n",
       "      <th>False positive rate</th>\n",
       "      <th>False negative rate</th>\n",
       "      <th>Precision</th>\n",
       "      <th>F1-score</th>\n",
       "      <th>model</th>\n",
       "      <th>result_type</th>\n",
       "    </tr>\n",
       "  </thead>\n",
       "  <tbody>\n",
       "    <tr>\n",
       "      <th>0</th>\n",
       "      <td>0.5</td>\n",
       "      <td>0.0</td>\n",
       "      <td>1.0</td>\n",
       "      <td>NaN</td>\n",
       "      <td>0.987788</td>\n",
       "      <td>0.0</td>\n",
       "      <td>0.5</td>\n",
       "      <td>0.0</td>\n",
       "      <td>0.987788</td>\n",
       "      <td>0.012212</td>\n",
       "      <td>0.0</td>\n",
       "      <td>1.0</td>\n",
       "      <td>NaN</td>\n",
       "      <td>0.0</td>\n",
       "      <td>hybrid_mordred_maccs_lgb</td>\n",
       "      <td>uncalibrated</td>\n",
       "    </tr>\n",
       "  </tbody>\n",
       "</table>\n",
       "</div>"
      ],
      "text/plain": [
       "   Bal-acc  Sensitivity  Specificity  PPV       NPV  Kappa  AUC  MCC  \\\n",
       "0      0.5          0.0          1.0  NaN  0.987788    0.0  0.5  0.0   \n",
       "\n",
       "   Accuracy  Classification error  False positive rate  False negative rate  \\\n",
       "0  0.987788              0.012212                  0.0                  1.0   \n",
       "\n",
       "   Precision  F1-score                     model   result_type  \n",
       "0        NaN       0.0  hybrid_mordred_maccs_lgb  uncalibrated  "
      ]
     },
     "execution_count": 103,
     "metadata": {},
     "output_type": "execute_result"
    }
   ],
   "source": [
    "#converting calculated metrics into a pandas dataframe to save a xls\n",
    "model_type = \"hybrid_mordred_maccs_lgb\"\n",
    "\n",
    "result_type = \"uncalibrated\"\n",
    "\n",
    "metrics_lgb_uncalibrated = statistics\n",
    "metrics_lgb_uncalibrated['model'] = model_type\n",
    "metrics_lgb_uncalibrated['result_type'] = result_type\n",
    "metrics_lgb_uncalibrated"
   ]
  },
  {
   "cell_type": "markdown",
   "metadata": {},
   "source": [
    "### Check model calibatrion"
   ]
  },
  {
   "cell_type": "code",
   "execution_count": 104,
   "metadata": {},
   "outputs": [
    {
     "data": {
      "image/png": "[encoded data removed]",
      "text/plain": [
       "<Figure size 432x288 with 1 Axes>"
      ]
     },
     "metadata": {
      "needs_background": "light"
     },
     "output_type": "display_data"
    }
   ],
   "source": [
    "# keep probabilities for the positive outcome only\n",
    "probs = probs_classes[:, 1]\n",
    "# reliability diagram\n",
    "fop, mpv = calibration_curve(y_experimental, probs, n_bins=10)\n",
    "# plot perfectly calibrated\n",
    "plt.plot([0, 1], [0, 1], linestyle='--')\n",
    "# plot model reliability\n",
    "plt.plot(mpv, fop, marker='.')\n",
    "#plt.show()\n",
    "plt.savefig('../results/calibration_model_hybrid_mordred_maccs_lgb_1224857_bruno_imbalanced.png', dpi=300)"
   ]
  },
  {
   "cell_type": "markdown",
   "metadata": {},
   "source": [
    "### Use ROC-Curve and Gmean to select a threshold for calibration"
   ]
  },
  {
   "cell_type": "code",
   "execution_count": 105,
   "metadata": {},
   "outputs": [
    {
     "name": "stdout",
     "output_type": "stream",
     "text": [
      "Best Threshold=0.017453, G-Mean=0.768\n"
     ]
    },
    {
     "data": {
      "image/png": "[encoded data removed]",
      "text/plain": [
       "<Figure size 432x288 with 1 Axes>"
      ]
     },
     "metadata": {
      "needs_background": "light"
     },
     "output_type": "display_data"
    }
   ],
   "source": [
    "# keep probabilities for the positive outcome only\n",
    "yhat = probs_classes[:, 1]\n",
    "# calculate roc curves\n",
    "fpr, tpr, thresholds = roc_curve(y_experimental, yhat)\n",
    "# calculate the g-mean for each threshold\n",
    "gmeans = sqrt(tpr * (1-fpr))\n",
    "# locate the index of the largest g-mean\n",
    "ix = argmax(gmeans)\n",
    "print('Best Threshold=%f, G-Mean=%.3f' % (thresholds[ix], gmeans[ix]))\n",
    "# plot the roc curve for the model\n",
    "plt.plot([0,1], [0,1], linestyle='--', label='No Skill')\n",
    "plt.plot(fpr, tpr, marker='.', label='LightGBM')\n",
    "plt.scatter(fpr[ix], tpr[ix], marker='o', color='black', label='Best')\n",
    "# axis labels\n",
    "plt.xlabel('False Positive Rate')\n",
    "plt.ylabel('True Positive Rate')\n",
    "plt.legend()\n",
    "# show the plot\n",
    "#plt.show()\n",
    "plt.savefig('../results/calibration_curve_hybrid_mordred_maccs_lgb_1224857_bruno_imbalanced.png', dpi=300)"
   ]
  },
  {
   "cell_type": "code",
   "execution_count": 106,
   "metadata": {},
   "outputs": [
    {
     "name": "stdout",
     "output_type": "stream",
     "text": [
      "0.01745332238396249\n"
     ]
    }
   ],
   "source": [
    "# Record the threshold in a variable\n",
    "threshold_roc = thresholds[ix]\n",
    "print(threshold_roc)"
   ]
  },
  {
   "cell_type": "markdown",
   "metadata": {},
   "source": [
    "### Optimal Threshold for Precision-Recall Curve"
   ]
  },
  {
   "cell_type": "code",
   "execution_count": 107,
   "metadata": {},
   "outputs": [
    {
     "name": "stdout",
     "output_type": "stream",
     "text": [
      "Best Threshold=0.229715, F-Score=nan\n"
     ]
    },
    {
     "name": "stderr",
     "output_type": "stream",
     "text": [
      "C:\\Users\\tiofi\\PyMOL\\envs\\rdkit2\\lib\\site-packages\\ipykernel_launcher.py:6: RuntimeWarning: invalid value encountered in true_divide\n",
      "  \n"
     ]
    }
   ],
   "source": [
    "# keep probabilities for the positive outcome only\n",
    "yhat = probs_classes[:, 1]\n",
    "# calculate precision_recall_curve\n",
    "precision, recall, thresholds = precision_recall_curve(y_experimental, yhat)\n",
    "# convert to f score\n",
    "fscore = (2 * precision * recall) / (precision + recall)\n",
    "# locate the index of the largest f score\n",
    "ix = argmax(fscore)\n",
    "print('Best Threshold=%f, F-Score=%.3f' % (thresholds[ix], fscore[ix]))"
   ]
  },
  {
   "cell_type": "code",
   "execution_count": 108,
   "metadata": {},
   "outputs": [
    {
     "name": "stdout",
     "output_type": "stream",
     "text": [
      "0.2297146889739591\n"
     ]
    }
   ],
   "source": [
    "# Record the threshold in a variable\n",
    "threshold_prc = thresholds[ix]\n",
    "print(threshold_prc)"
   ]
  },
  {
   "cell_type": "markdown",
   "metadata": {},
   "source": [
    "### Statistics model calibrated - Choose the best calibration method before"
   ]
  },
  {
   "cell_type": "code",
   "execution_count": 109,
   "metadata": {},
   "outputs": [],
   "source": [
    "# Select the best threshold to distinguishthe classes\n",
    "pred_lgb = (probs_classes[:, 1] > threshold_roc).astype(int)\n",
    "# pred_lgb = (probs_classes[:, 1] > threshold_prc).astype(int)"
   ]
  },
  {
   "cell_type": "code",
   "execution_count": 110,
   "metadata": {},
   "outputs": [
    {
     "name": "stdout",
     "output_type": "stream",
     "text": [
      "Accuracy =  0.8159613746094859\n",
      "MCC =  0.14454369286806892\n",
      "Kappa =  0.06325548779436352\n",
      "Sensitivity =  0.6976744186046512\n",
      "Specificity =  0.817423806785509\n",
      "Precision =  0.045112781954887216\n",
      "PPV =  0.045112781954887216\n",
      "NPV =  0.9954481792717087\n",
      "False positive rate =  0.1825761932144911\n",
      "False negative rate =  0.3023255813953488\n",
      "AUC =  0.75754911269508\n",
      "Classification error =  0.18403862539051408\n",
      "Balanced accuracy =  0.7575491126950801\n",
      "F1-score =  0.0847457627118644\n"
     ]
    }
   ],
   "source": [
    "statistics = calc_statistics(y_experimental, pred_lgb)"
   ]
  },
  {
   "cell_type": "code",
   "execution_count": 111,
   "metadata": {},
   "outputs": [
    {
     "data": {
      "text/html": [
       "<div>\n",
       "<style scoped>\n",
       "    .dataframe tbody tr th:only-of-type {\n",
       "        vertical-align: middle;\n",
       "    }\n",
       "\n",
       "    .dataframe tbody tr th {\n",
       "        vertical-align: top;\n",
       "    }\n",
       "\n",
       "    .dataframe thead th {\n",
       "        text-align: right;\n",
       "    }\n",
       "</style>\n",
       "<table border=\"1\" class=\"dataframe\">\n",
       "  <thead>\n",
       "    <tr style=\"text-align: right;\">\n",
       "      <th></th>\n",
       "      <th>Bal-acc</th>\n",
       "      <th>Sensitivity</th>\n",
       "      <th>Specificity</th>\n",
       "      <th>PPV</th>\n",
       "      <th>NPV</th>\n",
       "      <th>Kappa</th>\n",
       "      <th>AUC</th>\n",
       "      <th>MCC</th>\n",
       "      <th>Accuracy</th>\n",
       "      <th>Classification error</th>\n",
       "      <th>False positive rate</th>\n",
       "      <th>False negative rate</th>\n",
       "      <th>Precision</th>\n",
       "      <th>F1-score</th>\n",
       "      <th>model</th>\n",
       "      <th>result_type</th>\n",
       "      <th>calibration_threshold</th>\n",
       "    </tr>\n",
       "  </thead>\n",
       "  <tbody>\n",
       "    <tr>\n",
       "      <th>0</th>\n",
       "      <td>0.757549</td>\n",
       "      <td>0.697674</td>\n",
       "      <td>0.817424</td>\n",
       "      <td>0.045113</td>\n",
       "      <td>0.995448</td>\n",
       "      <td>0.063255</td>\n",
       "      <td>0.757549</td>\n",
       "      <td>0.144544</td>\n",
       "      <td>0.815961</td>\n",
       "      <td>0.184039</td>\n",
       "      <td>0.182576</td>\n",
       "      <td>0.302326</td>\n",
       "      <td>0.045113</td>\n",
       "      <td>0.084746</td>\n",
       "      <td>hybrid_mordred_maccs_lgbb</td>\n",
       "      <td>calibrated</td>\n",
       "      <td>0.017453</td>\n",
       "    </tr>\n",
       "  </tbody>\n",
       "</table>\n",
       "</div>"
      ],
      "text/plain": [
       "    Bal-acc  Sensitivity  Specificity       PPV       NPV     Kappa       AUC  \\\n",
       "0  0.757549     0.697674     0.817424  0.045113  0.995448  0.063255  0.757549   \n",
       "\n",
       "        MCC  Accuracy  Classification error  False positive rate  \\\n",
       "0  0.144544  0.815961              0.184039             0.182576   \n",
       "\n",
       "   False negative rate  Precision  F1-score                      model  \\\n",
       "0             0.302326   0.045113  0.084746  hybrid_mordred_maccs_lgbb   \n",
       "\n",
       "  result_type  calibration_threshold  \n",
       "0  calibrated               0.017453  "
      ]
     },
     "execution_count": 111,
     "metadata": {},
     "output_type": "execute_result"
    }
   ],
   "source": [
    "#converting calculated metrics into a pandas dataframe to save a xls\n",
    "model_type = \"hybrid_mordred_maccs_lgbb\"\n",
    "\n",
    "result_type = \"calibrated\"\n",
    "\n",
    "metrics_lgb_calibrated = statistics\n",
    "metrics_lgb_calibrated['model'] = model_type\n",
    "metrics_lgb_calibrated['result_type'] = result_type\n",
    "metrics_lgb_calibrated['calibration_threshold'] = threshold_roc\n",
    "metrics_lgb_calibrated"
   ]
  },
  {
   "cell_type": "code",
   "execution_count": 112,
   "metadata": {},
   "outputs": [],
   "source": [
    "# Saving the dataframe as excel file\n",
    "#metrics_lgb.to_excel(\"../results/model_binary_metrics_lgb_featmorgan_bee_mpro_newdata_gmean_NO_classweight_thres029.xlsx\", sheet_name= \"Sheet1\")"
   ]
  },
  {
   "cell_type": "markdown",
   "metadata": {},
   "source": [
    "### Save model"
   ]
  },
  {
   "cell_type": "code",
   "execution_count": 113,
   "metadata": {},
   "outputs": [
    {
     "data": {
      "text/plain": [
       "['../models/model_binary_lgb_hybrid_mordred_maccs_gmean_1224857_bruno_imbalanced.pkl']"
      ]
     },
     "execution_count": 113,
     "metadata": {},
     "output_type": "execute_result"
    }
   ],
   "source": [
    "#Save model - pkl file\n",
    "joblib.dump(opt_lgb, \"../models/model_binary_lgb_hybrid_mordred_maccs_gmean_1224857_bruno_imbalanced.pkl\", compress=3)"
   ]
  },
  {
   "cell_type": "markdown",
   "metadata": {},
   "source": [
    "## Compare all models"
   ]
  },
  {
   "cell_type": "markdown",
   "metadata": {},
   "source": [
    "## Save an excell with all results"
   ]
  },
  {
   "cell_type": "code",
   "execution_count": 114,
   "metadata": {},
   "outputs": [
    {
     "data": {
      "text/html": [
       "<div>\n",
       "<style scoped>\n",
       "    .dataframe tbody tr th:only-of-type {\n",
       "        vertical-align: middle;\n",
       "    }\n",
       "\n",
       "    .dataframe tbody tr th {\n",
       "        vertical-align: top;\n",
       "    }\n",
       "\n",
       "    .dataframe thead th {\n",
       "        text-align: right;\n",
       "    }\n",
       "</style>\n",
       "<table border=\"1\" class=\"dataframe\">\n",
       "  <thead>\n",
       "    <tr style=\"text-align: right;\">\n",
       "      <th></th>\n",
       "      <th>model</th>\n",
       "      <th>Bal-acc</th>\n",
       "      <th>Accuracy</th>\n",
       "      <th>Sensitivity</th>\n",
       "      <th>Specificity</th>\n",
       "      <th>PPV</th>\n",
       "      <th>NPV</th>\n",
       "      <th>Kappa</th>\n",
       "      <th>MCC</th>\n",
       "      <th>AUC</th>\n",
       "      <th>F1-score</th>\n",
       "      <th>Classification error</th>\n",
       "      <th>False positive rate</th>\n",
       "      <th>False negative rate</th>\n",
       "      <th>result_type</th>\n",
       "      <th>calibration_threshold</th>\n",
       "    </tr>\n",
       "  </thead>\n",
       "  <tbody>\n",
       "    <tr>\n",
       "      <th>0</th>\n",
       "      <td>hybrid_mordred_maccs_rf</td>\n",
       "      <td>0.50</td>\n",
       "      <td>0.99</td>\n",
       "      <td>0.00</td>\n",
       "      <td>1.00</td>\n",
       "      <td>NaN</td>\n",
       "      <td>0.99</td>\n",
       "      <td>0.00</td>\n",
       "      <td>0.00</td>\n",
       "      <td>0.50</td>\n",
       "      <td>0.00</td>\n",
       "      <td>0.01</td>\n",
       "      <td>0.00</td>\n",
       "      <td>1.00</td>\n",
       "      <td>uncalibrated</td>\n",
       "      <td>NaN</td>\n",
       "    </tr>\n",
       "    <tr>\n",
       "      <th>0</th>\n",
       "      <td>hybrid_mordred_maccs_svm</td>\n",
       "      <td>0.50</td>\n",
       "      <td>0.99</td>\n",
       "      <td>0.00</td>\n",
       "      <td>1.00</td>\n",
       "      <td>NaN</td>\n",
       "      <td>0.99</td>\n",
       "      <td>0.00</td>\n",
       "      <td>0.00</td>\n",
       "      <td>0.50</td>\n",
       "      <td>0.00</td>\n",
       "      <td>0.01</td>\n",
       "      <td>0.00</td>\n",
       "      <td>1.00</td>\n",
       "      <td>uncalibrated</td>\n",
       "      <td>NaN</td>\n",
       "    </tr>\n",
       "    <tr>\n",
       "      <th>0</th>\n",
       "      <td>hybrid_mordred_maccs_lgb</td>\n",
       "      <td>0.50</td>\n",
       "      <td>0.99</td>\n",
       "      <td>0.00</td>\n",
       "      <td>1.00</td>\n",
       "      <td>NaN</td>\n",
       "      <td>0.99</td>\n",
       "      <td>0.00</td>\n",
       "      <td>0.00</td>\n",
       "      <td>0.50</td>\n",
       "      <td>0.00</td>\n",
       "      <td>0.01</td>\n",
       "      <td>0.00</td>\n",
       "      <td>1.00</td>\n",
       "      <td>uncalibrated</td>\n",
       "      <td>NaN</td>\n",
       "    </tr>\n",
       "    <tr>\n",
       "      <th>0</th>\n",
       "      <td>hybrid_mordred_maccs_rf</td>\n",
       "      <td>0.79</td>\n",
       "      <td>0.86</td>\n",
       "      <td>0.72</td>\n",
       "      <td>0.86</td>\n",
       "      <td>0.06</td>\n",
       "      <td>1.00</td>\n",
       "      <td>0.09</td>\n",
       "      <td>0.18</td>\n",
       "      <td>0.79</td>\n",
       "      <td>0.11</td>\n",
       "      <td>0.14</td>\n",
       "      <td>0.14</td>\n",
       "      <td>0.28</td>\n",
       "      <td>calibrated</td>\n",
       "      <td>0.03</td>\n",
       "    </tr>\n",
       "    <tr>\n",
       "      <th>0</th>\n",
       "      <td>hybrid_mordred_maccs_svm</td>\n",
       "      <td>0.75</td>\n",
       "      <td>0.81</td>\n",
       "      <td>0.70</td>\n",
       "      <td>0.81</td>\n",
       "      <td>0.04</td>\n",
       "      <td>1.00</td>\n",
       "      <td>0.06</td>\n",
       "      <td>0.14</td>\n",
       "      <td>0.75</td>\n",
       "      <td>0.08</td>\n",
       "      <td>0.19</td>\n",
       "      <td>0.19</td>\n",
       "      <td>0.30</td>\n",
       "      <td>calibrated</td>\n",
       "      <td>0.02</td>\n",
       "    </tr>\n",
       "    <tr>\n",
       "      <th>0</th>\n",
       "      <td>hybrid_mordred_maccs_lgbb</td>\n",
       "      <td>0.76</td>\n",
       "      <td>0.82</td>\n",
       "      <td>0.70</td>\n",
       "      <td>0.82</td>\n",
       "      <td>0.05</td>\n",
       "      <td>1.00</td>\n",
       "      <td>0.06</td>\n",
       "      <td>0.14</td>\n",
       "      <td>0.76</td>\n",
       "      <td>0.08</td>\n",
       "      <td>0.18</td>\n",
       "      <td>0.18</td>\n",
       "      <td>0.30</td>\n",
       "      <td>calibrated</td>\n",
       "      <td>0.02</td>\n",
       "    </tr>\n",
       "  </tbody>\n",
       "</table>\n",
       "</div>"
      ],
      "text/plain": [
       "                       model  Bal-acc  Accuracy  Sensitivity  Specificity  \\\n",
       "0    hybrid_mordred_maccs_rf     0.50      0.99         0.00         1.00   \n",
       "0   hybrid_mordred_maccs_svm     0.50      0.99         0.00         1.00   \n",
       "0   hybrid_mordred_maccs_lgb     0.50      0.99         0.00         1.00   \n",
       "0    hybrid_mordred_maccs_rf     0.79      0.86         0.72         0.86   \n",
       "0   hybrid_mordred_maccs_svm     0.75      0.81         0.70         0.81   \n",
       "0  hybrid_mordred_maccs_lgbb     0.76      0.82         0.70         0.82   \n",
       "\n",
       "    PPV   NPV  Kappa   MCC   AUC  F1-score  Classification error  \\\n",
       "0   NaN  0.99   0.00  0.00  0.50      0.00                  0.01   \n",
       "0   NaN  0.99   0.00  0.00  0.50      0.00                  0.01   \n",
       "0   NaN  0.99   0.00  0.00  0.50      0.00                  0.01   \n",
       "0  0.06  1.00   0.09  0.18  0.79      0.11                  0.14   \n",
       "0  0.04  1.00   0.06  0.14  0.75      0.08                  0.19   \n",
       "0  0.05  1.00   0.06  0.14  0.76      0.08                  0.18   \n",
       "\n",
       "   False positive rate  False negative rate   result_type  \\\n",
       "0                 0.00                 1.00  uncalibrated   \n",
       "0                 0.00                 1.00  uncalibrated   \n",
       "0                 0.00                 1.00  uncalibrated   \n",
       "0                 0.14                 0.28    calibrated   \n",
       "0                 0.19                 0.30    calibrated   \n",
       "0                 0.18                 0.30    calibrated   \n",
       "\n",
       "   calibration_threshold  \n",
       "0                    NaN  \n",
       "0                    NaN  \n",
       "0                    NaN  \n",
       "0                   0.03  \n",
       "0                   0.02  \n",
       "0                   0.02  "
      ]
     },
     "execution_count": 114,
     "metadata": {},
     "output_type": "execute_result"
    }
   ],
   "source": [
    "frames = [metrics_rf_uncalibrated, metrics_svm_uncalibrated, metrics_lgb_uncalibrated, \n",
    "          metrics_rf_calibrated, metrics_svm_calibrated, metrics_lgb_calibrated]\n",
    "\n",
    "result = pd.concat(frames)\n",
    "\n",
    "column_names = [\"model\", \"Bal-acc\", \"Accuracy\", \"Sensitivity\", \"Specificity\", \"PPV\", \"NPV\", \"Kappa\", \"MCC\", \"AUC\", \"F1-score\", \n",
    "                \"Classification error\", \"False positive rate\", \"False negative rate\", \"result_type\", \"calibration_threshold\"]\n",
    "result = result.reindex(columns=column_names)\n",
    "result = result.round(2)\n",
    "\n",
    "result"
   ]
  },
  {
   "cell_type": "code",
   "execution_count": 115,
   "metadata": {},
   "outputs": [],
   "source": [
    "# Saving the dataframe as excel file\n",
    "result.to_excel(\"../results/metrics_binary_hybrid_mordred_maccs_allmodels_1224857_bruno_imbalanced.xlsx\", sheet_name= \"Sheet1\")"
   ]
  },
  {
   "cell_type": "code",
   "execution_count": null,
   "metadata": {},
   "outputs": [],
   "source": []
  }
 ],
 "metadata": {
  "kernelspec": {
   "display_name": "Python 3",
   "language": "python",
   "name": "python3"
  },
  "language_info": {
   "codemirror_mode": {
    "name": "ipython",
    "version": 3
   },
   "file_extension": ".py",
   "mimetype": "text/x-python",
   "name": "python",
   "nbconvert_exporter": "python",
   "pygments_lexer": "ipython3",
   "version": "3.7.6"
  }
 },
 "nbformat": 4,
 "nbformat_minor": 4
}
