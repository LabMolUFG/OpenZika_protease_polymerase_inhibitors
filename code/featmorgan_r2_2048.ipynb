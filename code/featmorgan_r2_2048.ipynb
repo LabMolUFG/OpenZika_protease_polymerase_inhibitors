{
 "cells": [
  {
   "cell_type": "markdown",
   "metadata": {},
   "source": [
    "# Binary QSAR in Python - LabMol\n",
    "\n",
    "Developed by: \n",
    "#### José Teófilo Moreira Filho"
   ]
  },
  {
   "cell_type": "markdown",
   "metadata": {},
   "source": [
    "#  <font color='white'> Model building with featmorgan fingerprint and RF, SVM and LightGBM </font>"
   ]
  },
  {
   "cell_type": "code",
   "execution_count": 1,
   "metadata": {},
   "outputs": [
    {
     "name": "stdout",
     "output_type": "stream",
     "text": [
      "date of creation:\n",
      " 2021-03-22 14:21:36.410731\n"
     ]
    }
   ],
   "source": [
    "import datetime\n",
    "now = datetime.datetime.now()\n",
    "print(\"date of creation:\\n\", now)"
   ]
  },
  {
   "cell_type": "code",
   "execution_count": 2,
   "metadata": {},
   "outputs": [
    {
     "name": "stderr",
     "output_type": "stream",
     "text": [
      "C:\\Users\\tiofi\\PyMOL\\envs\\rdkit2\\lib\\site-packages\\sklearn\\externals\\joblib\\__init__.py:15: FutureWarning: sklearn.externals.joblib is deprecated in 0.21 and will be removed in 0.23. Please import this functionality directly from joblib, which can be installed with: pip install joblib. If this warning is raised when loading pickled models, you may need to re-serialize those models with scikit-learn 0.21+.\n",
      "  warnings.warn(msg, category=FutureWarning)\n"
     ]
    }
   ],
   "source": [
    "# Importing packages \n",
    "from rdkit import Chem, DataStructs\n",
    "from rdkit import Chem\n",
    "from rdkit.Chem import AllChem, Descriptors\n",
    "from rdkit.Chem import PandasTools\n",
    "\n",
    "import numpy as np\n",
    "from numpy import sqrt\n",
    "from numpy import argmax\n",
    "\n",
    "import matplotlib.pyplot as plt\n",
    "import seaborn as sns\n",
    "\n",
    "import pandas as pd\n",
    "from pandas import DataFrame\n",
    "\n",
    "import os\n",
    "\n",
    "import xgboost as xgb\n",
    "import lightgbm as lgb\n",
    "\n",
    "from sklearn.svm import SVC\n",
    "from sklearn.ensemble import RandomForestClassifier, GradientBoostingClassifier\n",
    "from sklearn.model_selection import train_test_split, StratifiedKFold, GridSearchCV\n",
    "from sklearn.preprocessing import StandardScaler\n",
    "from sklearn import metrics\n",
    "from sklearn.metrics import accuracy_score, cohen_kappa_score, matthews_corrcoef, roc_curve, precision_recall_curve, roc_auc_score, make_scorer\n",
    "from sklearn.metrics import f1_score, balanced_accuracy_score, precision_score, recall_score, confusion_matrix\n",
    "from sklearn.metrics import auc as mauc\n",
    "from sklearn.externals import joblib\n",
    "from sklearn.model_selection import cross_val_score\n",
    "from sklearn.datasets import load_digits\n",
    "from sklearn.calibration import calibration_curve, CalibratedClassifierCV\n",
    "from sklearn.decomposition import PCA\n",
    "from sklearn.datasets import make_classification\n",
    "from sklearn.linear_model import LogisticRegression\n",
    "from sklearn.metrics import precision_recall_curve\n",
    "from sklearn.model_selection import cross_val_predict\n",
    "\n",
    "from imblearn.ensemble import BalancedRandomForestClassifier\n",
    "from imblearn.metrics import geometric_mean_score\n",
    "from imblearn.under_sampling import TomekLinks\n",
    "\n",
    "import multiprocessing\n",
    "\n",
    "from skopt import BayesSearchCV"
   ]
  },
  {
   "cell_type": "markdown",
   "metadata": {},
   "source": [
    "## Check initial number of compounds"
   ]
  },
  {
   "cell_type": "code",
   "execution_count": 3,
   "metadata": {},
   "outputs": [],
   "source": [
    "# Reading molecules and activity (0 and 1) from SDF\n",
    "fname = \"../data/1224857_bruno_imbalanced.sdf\""
   ]
  },
  {
   "cell_type": "code",
   "execution_count": 4,
   "metadata": {},
   "outputs": [],
   "source": [
    "df0 = PandasTools.LoadSDF(fname, smilesName='SMILES', includeFingerprints=False)"
   ]
  },
  {
   "cell_type": "code",
   "execution_count": 5,
   "metadata": {},
   "outputs": [
    {
     "data": {
      "text/plain": [
       "Index(['Outcome', 'pIC50', 'ID', 'SMILES', 'ROMol'], dtype='object')"
      ]
     },
     "execution_count": 5,
     "metadata": {},
     "output_type": "execute_result"
    }
   ],
   "source": [
    "df0.columns"
   ]
  },
  {
   "cell_type": "code",
   "execution_count": 6,
   "metadata": {},
   "outputs": [],
   "source": [
    "df0[\"is_active\"] = np.where(df0[\"Outcome\"] == \"Active\", 1,0)"
   ]
  },
  {
   "cell_type": "code",
   "execution_count": 7,
   "metadata": {},
   "outputs": [
    {
     "data": {
      "text/html": [
       "<div>\n",
       "<style scoped>\n",
       "    .dataframe tbody tr th:only-of-type {\n",
       "        vertical-align: middle;\n",
       "    }\n",
       "\n",
       "    .dataframe tbody tr th {\n",
       "        vertical-align: top;\n",
       "    }\n",
       "\n",
       "    .dataframe thead th {\n",
       "        text-align: right;\n",
       "    }\n",
       "</style>\n",
       "<table border=\"1\" class=\"dataframe\">\n",
       "  <thead>\n",
       "    <tr style=\"text-align: right;\">\n",
       "      <th></th>\n",
       "      <th>Outcome</th>\n",
       "      <th>pIC50</th>\n",
       "      <th>ID</th>\n",
       "      <th>SMILES</th>\n",
       "      <th>ROMol</th>\n",
       "      <th>is_active</th>\n",
       "    </tr>\n",
       "  </thead>\n",
       "  <tbody>\n",
       "    <tr>\n",
       "      <th>0</th>\n",
       "      <td>Inactive</td>\n",
       "      <td>4.861056598092725</td>\n",
       "      <td></td>\n",
       "      <td>O=c1c(-c2ccc(O)cc2)coc2cc(O)ccc12</td>\n",
       "      <td><img data-content=\"rdkit/molecule\" src=\"data:image/png;base64,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\" alt=\"Mol\"/></td>\n",
       "      <td>0</td>\n",
       "    </tr>\n",
       "    <tr>\n",
       "      <th>1</th>\n",
       "      <td>Inactive</td>\n",
       "      <td>4.811057461628963</td>\n",
       "      <td></td>\n",
       "      <td>N#C/C(=C\\c1ccc(O)c(O)c1)C(=O)Nc1ccccc1</td>\n",
       "      <td><img data-content=\"rdkit/molecule\" src=\"data:image/png;base64,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\" alt=\"Mol\"/></td>\n",
       "      <td>0</td>\n",
       "    </tr>\n",
       "    <tr>\n",
       "      <th>2</th>\n",
       "      <td>Inactive</td>\n",
       "      <td>4.811057461628963</td>\n",
       "      <td></td>\n",
       "      <td>Cc1csc(NC(=O)c2sc3nc4c(c(C(F)(F)F)c3c2N)CCC4)n1</td>\n",
       "      <td><img data-content=\"rdkit/molecule\" src=\"data:image/png;base64,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\" alt=\"Mol\"/></td>\n",
       "      <td>0</td>\n",
       "    </tr>\n",
       "    <tr>\n",
       "      <th>3</th>\n",
       "      <td>Inactive</td>\n",
       "      <td>4.650000220873454</td>\n",
       "      <td></td>\n",
       "      <td>CC(C)(C)COc1ccc(-n2cc(C(=O)O)cn2)cc1C#N</td>\n",
       "      <td><img data-content=\"rdkit/molecule\" src=\"data:image/png;base64,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\" alt=\"Mol\"/></td>\n",
       "      <td>0</td>\n",
       "    </tr>\n",
       "    <tr>\n",
       "      <th>4</th>\n",
       "      <td>Inactive</td>\n",
       "      <td>4.7610561120364965</td>\n",
       "      <td></td>\n",
       "      <td>CC(=O)Nc1ccc(C(C)C(=O)Nc2ncc(C(C)C)s2)cc1</td>\n",
       "      <td><img data-content=\"rdkit/molecule\" src=\"data:image/png;base64,iVBORw0KGgoAAAANSUhEUgAAAMgAAADICAIAAAAiOjnJAAAABmJLR0QA/wD/AP+gvaeTAAAJ50lEQVR4nO3db2wUBR7G8WdmdinXdtsFtV449nIJLdWG6JXqcbYGU7GX0NzZtC8kJPw1pr5BGuPVS4g2Ii8k4XJiepoApwetiZoQiTEWDG18YdorCQUDBoNirAclFIqF65a2dHfmXmy7O7s7s90qv9ld5vlkXuzO7vxh+bazOzM7VQzDANGdpmZ6BejuxLBIBMMiEQyLRDAsEsGwSATDIhEMi0QwLBLBsEgEwyIRDItEMCwSwbBIBMMiEQyLRDAsEsGwSATDIhEMi0QwLBLBsEgEwyIRDItEMCwSwbBIBMMiEQyLRDAsEsGwSATDIhEMi0QwLBLBsEgEwyIRDItEMCwSwbBIBMMiEQyLRDAsEsGwSATDIhEMi0QwLBLBsEgEwyIRDItEMCwSwbBIBMMiEQyLRDAsEsGwYioqoChQFBQVzW/CoqKZCSsqZNYsBzEsEsGwSATDIhEMi0QwLBLBsEgEwyIRDItEMCwSwbBIhCfTK5CNxsagKJleiRzH31gkgmGRCIZFIhiWBZ8PhmE1tL5sXBpKHu/zZXqNsw/DStuOHdizB6WlOHEi06uSAxhWetrb8cYbADA5iZoaHD6c6RXKdgwrDZ9+ipaW2N1wGM88g7ffztwK5QCGNZfTp9HUBMOIG2kY2LYNL76YoXXKAQwrpR9/RHU1QiHrR8+edXZtcgnDshcMYuVKTE5aP/rAA+judnaFcgnDsqHreOgh/PST9aP334/Tp51doRzDsGw8+ih++MH6oYICnDmDhQudXaEcoxgJb0vdQNOg684tTlURDju3uOzgvrBUNfEjngMUxdGUs4DLNoUZqQqAYUB110vtpn+tpmWmqgjDgKZlbOmOc9OmMBtO3nPNq+2m31jkIIZFInjOO8KKYruFUhRVVVNsQQ0Yuq4gaWoNrtu/kMDtv7HCiuIxDA+QPCwuKro5MqKEQrAZJoPnA7/+3mOEPEgcwnDR+3RLbg9LVVWv15s8Pi8v79SpU4sXL7afNPT00+eGhn4ntmq5ze1hKcDJkyfz8/MBAKOAERlqay8uW7Zs+ljH1J8f1gs9M1fsmx30Qs/FPwSOH/9Lqvm6m+t3N2gaQqHh4eEVK1aMjHwH+KOPhAs86vgcb5WmFni3FP/rw2ubzCOXLMHQsMf6MI5rXm2GpUVOtwoGg8XFuq7HLj/ajP378Hw6M/4t/nsRgcjtBQuMqSkFHreH5fZNYVRhYWFR/EVt96P5KNamM20AF6O3x8bS2Aq+8w7q6ua5gjmGYaVSjy690Ks3/And3ZGvenk0bf19OBDAtNVZMz4fFiyYa6affYZt29DdjeXLbc8ivAsY7hF9Z24eNC36+OPeE8mP+/2xGSxdutT80v29GKF8GEA1eiNPftx7Yuapmma9uFOnDI8ndveee4zLl519FRzC31izenoqpr+K3KxGX3T0jRvYtAkAtm7deunSJfMUf72J1b9HOD82pmL6K/T0pFpKTU3cGfTXr6OsDOfO/eK1zzoMa9YLL0RvjqOgsbE/erezE8eOHTt48GDyRH196Pin7XwsTEwkjhkfR2UlzpyZ5+pmO4Y165tvoje/V5e9+ea//bE9D1i79o920/X0qN8qZZbzSZffj+XL5z1VdmNYAIBdu8z3buFXIyP7r1y5YBrnBzosJ33//fCoel+Kuc2hoABnz959Z9AzLACw/MrN11+XrVt32TRiY/JzBgYGLOb2wQfpLtfrRX8/SkrSfX7uYFgAYPcNwdbW3/h8N0wjRs2PtrW1rVy50mKy+Pf4tlQVn3+OFSvSXcmcwrAsKKZ99F98scj0iL+6umP9egQCqKys3Llzp/X0Y2NpLWbfPtTW/oLVzGoMC0ByCmogsDd6p76+M3q7r2/jSy/hyBEcOHD6/PmamzeP/swl7tqF5577mdPmAoZlraSkparKKC3tKiysfv31TeYNYm3tzAYxGOy7cKF+YEBB0pl+cxwRfPZZvPLKnV3hbMOwUikuXlte3ltVZVy7NhIdOTbmb2uL+4RoGInfGdRTfIvwqafw7rspFnp3fAGRYaUlL690o+lDYVfXxnvvbU41gc1ZDJ2rV+P48RTT6TqamvDaa7l/GkSmjyk5KMWxQp/PAJqxL+n4YRy/P/EY4vDw3pMnoaqhyMhm7DOA/wEhy2UBExMTqdextXXmuevWGbdu3dl/v6P4GwsAEH902c6oaW9D5BhiSUlLaWlXwtNS7GxYmHJHaEcH9uyZuf3RR3jySVy5ks56ZSOGBQBYvz7+vu3bHPMGsbMTAIqL1yrxpxCmvXs0Tl8fmuO3rv39eOQRWO6CzX4MCwDw6qvme4v063ZP7OiA+RjiokUAsFiPu4zWfA7ozBgcRGMjpqYSxw8NoakJt2/Pf46ZxrBmNTZGby43vkuxgyp5g1hmfBsdM/9D0AgG0dCAq1ctHvJ68d57aZw8mH0Y1qyPPzbfK1xSPzV1we65yRvEqO3zvEKErutbtmzw+QYtH33rLaxZM6/5ZY1Mf3pwUNpnkFaj1wBC+ZjYsdFuZuZPiNGhxvufI0eOaJpm96kweT6tra0AFEV94okuVY177vbtIi+DMxhWLKxoK5GwIkO4QAu+XH/76KHYfLq7p9taziystDuPube3N6Qo6YR16NAh8w/5Y4/9Iz9/5ol1dcb0tBOvihCGNUdYKYa9aLE7QV63O+fdpLe3Ny8vL2EDUl6+bsmSUHm5MTrq5Etz57n+e4VA9HpoYX32IJ8CzUjrqh46VMP8rWcFWuRdq91FR2df7cHBwVWrVl21esf+4IN1n3xyrKwst9/+8mozsQhi1/FI+2dNTdjjZSCdy8wEg8GGhgbLqrxeb3v733K9KvBTYUaMj4/b7YJvb29fk6ufA+NlelvsoDTeNokPsyYnJzds2JDwf7E9pz8HxnNTWFVVRkmJUVJi+21S6UFVzauj6/ru3bvV2asp19XVTef058B4bnrzHrV0KYaGnF6ozZ8ROHz48ObNmwOBQH9/v998tCjHMSxHpPzjFAMDA0VFRWVlZXZPyEWuDGv1anz5pXOL4588IbpTuLuBRDAsEsGwSATDIhEMi0QwLBLBsEgEwyIRDItEMCwSwbBIBMMiEQyLRDAsEsGwSATDIhEMi0QwLBLBsEgEwyIRDItEMCwSwbBIBMMiEQyLRDAsEsGwSATDIhEMi0QwLBLBsEgEwyIRDItEMCwSwbBIBMMiEQyLRDAsEsGwSATDIhEMi0QwLBLBsEgEwyIRDItEMCwSwbBIBMMiEQyLRDAsEsGwSATDIhEMi0QwLBLBsEgEwyIRDItEMCwSwbBIBMMiEQyLRDAsEsGwSATDIhEMi0QwLBLBsEgEwyIRDItEMCwSwbBIBMMiEQyLRDAsEsGwSATDIhEMi0T8H7V7BRO+QMHIAAAAAElFTkSuQmCC\" alt=\"Mol\"/></td>\n",
       "      <td>0</td>\n",
       "    </tr>\n",
       "  </tbody>\n",
       "</table>\n",
       "</div>"
      ],
      "text/plain": [
       "    Outcome               pIC50 ID  \\\n",
       "0  Inactive   4.861056598092725      \n",
       "1  Inactive   4.811057461628963      \n",
       "2  Inactive   4.811057461628963      \n",
       "3  Inactive   4.650000220873454      \n",
       "4  Inactive  4.7610561120364965      \n",
       "\n",
       "                                            SMILES  \\\n",
       "0                O=c1c(-c2ccc(O)cc2)coc2cc(O)ccc12   \n",
       "1           N#C/C(=C\\c1ccc(O)c(O)c1)C(=O)Nc1ccccc1   \n",
       "2  Cc1csc(NC(=O)c2sc3nc4c(c(C(F)(F)F)c3c2N)CCC4)n1   \n",
       "3          CC(C)(C)COc1ccc(-n2cc(C(=O)O)cn2)cc1C#N   \n",
       "4        CC(=O)Nc1ccc(C(C)C(=O)Nc2ncc(C(C)C)s2)cc1   \n",
       "\n",
       "                                               ROMol  is_active  \n",
       "0  <img data-content=\"rdkit/molecule\" src=\"data:i...          0  \n",
       "1  <img data-content=\"rdkit/molecule\" src=\"data:i...          0  \n",
       "2  <img data-content=\"rdkit/molecule\" src=\"data:i...          0  \n",
       "3  <img data-content=\"rdkit/molecule\" src=\"data:i...          0  \n",
       "4  <img data-content=\"rdkit/molecule\" src=\"data:i...          0  "
      ]
     },
     "execution_count": 7,
     "metadata": {},
     "output_type": "execute_result"
    }
   ],
   "source": [
    "df0.head()"
   ]
  },
  {
   "cell_type": "code",
   "execution_count": 8,
   "metadata": {},
   "outputs": [
    {
     "name": "stdout",
     "output_type": "stream",
     "text": [
      "Class 0: 3478\n",
      "Class 1: 43\n",
      "Proportion: 80.88 : 1\n"
     ]
    },
    {
     "data": {
      "image/png": "[encoded data removed]",
      "text/plain": [
       "<Figure size 432x288 with 1 Axes>"
      ]
     },
     "metadata": {
      "needs_background": "light"
     },
     "output_type": "display_data"
    }
   ],
   "source": [
    "target_count = df0.is_active.value_counts()\n",
    "print('Class 0:', target_count[0])\n",
    "print('Class 1:', target_count[1])\n",
    "print('Proportion:', round(target_count[0] / target_count[1], 2), ': 1')\n",
    "\n",
    "target_count.plot(kind='bar', title='Count (target)');"
   ]
  },
  {
   "cell_type": "code",
   "execution_count": 10,
   "metadata": {},
   "outputs": [],
   "source": [
    "#Save the table as SD file\n",
    "PandasTools.WriteSDF(df0, '../data/1224857_bruno_imbalanced_prep.sdf', properties=df0.columns)"
   ]
  },
  {
   "cell_type": "markdown",
   "metadata": {},
   "source": [
    "## Fingerprint calculation"
   ]
  },
  {
   "cell_type": "code",
   "execution_count": 11,
   "metadata": {},
   "outputs": [],
   "source": [
    "# Reading molecules and activity (0 and 1) from SDF\n",
    "fname = \"../data/1224857_bruno_imbalanced_prep.sdf\"\n",
    "\n",
    "mols = []\n",
    "y = []\n",
    "for mol in Chem.SDMolSupplier(fname):\n",
    "    if mol is not None:\n",
    "        mols.append(mol)\n",
    "        y.append(mol.GetIntProp(\"is_active\")) # target column"
   ]
  },
  {
   "cell_type": "code",
   "execution_count": 12,
   "metadata": {},
   "outputs": [],
   "source": [
    "# Calculate descriptors (fingerprints) and convert them into numpy array\n",
    "\n",
    "# generate binary featmorgan fingerprint with radius 2\n",
    "fp = [AllChem.GetMorganFingerprintAsBitVect(m, 2, 2048, useFeatures=True) for m in mols]\n",
    "\n",
    "def rdkit_numpy_convert(fp):\n",
    "    output = []\n",
    "    for f in fp:\n",
    "        arr = np.zeros((1,))\n",
    "        DataStructs.ConvertToNumpyArray(f, arr)\n",
    "        output.append(arr)\n",
    "    return np.asarray(output)"
   ]
  },
  {
   "cell_type": "code",
   "execution_count": 13,
   "metadata": {},
   "outputs": [],
   "source": [
    "x = rdkit_numpy_convert(fp)"
   ]
  },
  {
   "cell_type": "code",
   "execution_count": 14,
   "metadata": {},
   "outputs": [
    {
     "data": {
      "text/plain": [
       "3521"
      ]
     },
     "execution_count": 14,
     "metadata": {},
     "output_type": "execute_result"
    }
   ],
   "source": [
    "# Check the number of compounds\n",
    "len(x)"
   ]
  },
  {
   "cell_type": "code",
   "execution_count": 15,
   "metadata": {},
   "outputs": [
    {
     "data": {
      "text/plain": [
       "0.012212439647827322"
      ]
     },
     "execution_count": 15,
     "metadata": {},
     "output_type": "execute_result"
    }
   ],
   "source": [
    "# check wether the data set is balanced\n",
    "sum(y) / len(y)"
   ]
  },
  {
   "cell_type": "markdown",
   "metadata": {},
   "source": [
    "## Data splitting"
   ]
  },
  {
   "cell_type": "code",
   "execution_count": 16,
   "metadata": {},
   "outputs": [
    {
     "name": "stderr",
     "output_type": "stream",
     "text": [
      "C:\\Users\\tiofi\\PyMOL\\envs\\rdkit2\\lib\\site-packages\\sklearn\\model_selection\\_split.py:296: FutureWarning: Setting a random_state has no effect since shuffle is False. This will raise an error in 0.24. You should leave random_state to its default (None), or set shuffle=True.\n",
      "  FutureWarning\n"
     ]
    }
   ],
   "source": [
    "#Create folds for cross-validation\n",
    "cv = StratifiedKFold(n_splits=5, shuffle=False, random_state=42)"
   ]
  },
  {
   "cell_type": "markdown",
   "metadata": {},
   "source": [
    "## RF Model building - Bayesian hyperparameter search  "
   ]
  },
  {
   "cell_type": "code",
   "execution_count": 17,
   "metadata": {},
   "outputs": [
    {
     "name": "stderr",
     "output_type": "stream",
     "text": [
      "C:\\Users\\tiofi\\PyMOL\\envs\\rdkit2\\lib\\site-packages\\skopt\\optimizer\\optimizer.py:409: UserWarning: The objective has been evaluated at this point before.\n",
      "  warnings.warn(\"The objective has been evaluated \"\n",
      "C:\\Users\\tiofi\\PyMOL\\envs\\rdkit2\\lib\\site-packages\\skopt\\optimizer\\optimizer.py:409: UserWarning: The objective has been evaluated at this point before.\n",
      "  warnings.warn(\"The objective has been evaluated \"\n",
      "C:\\Users\\tiofi\\PyMOL\\envs\\rdkit2\\lib\\site-packages\\skopt\\optimizer\\optimizer.py:409: UserWarning: The objective has been evaluated at this point before.\n",
      "  warnings.warn(\"The objective has been evaluated \"\n",
      "C:\\Users\\tiofi\\PyMOL\\envs\\rdkit2\\lib\\site-packages\\skopt\\optimizer\\optimizer.py:409: UserWarning: The objective has been evaluated at this point before.\n",
      "  warnings.warn(\"The objective has been evaluated \"\n",
      "C:\\Users\\tiofi\\PyMOL\\envs\\rdkit2\\lib\\site-packages\\skopt\\optimizer\\optimizer.py:409: UserWarning: The objective has been evaluated at this point before.\n",
      "  warnings.warn(\"The objective has been evaluated \"\n",
      "C:\\Users\\tiofi\\PyMOL\\envs\\rdkit2\\lib\\site-packages\\skopt\\optimizer\\optimizer.py:409: UserWarning: The objective has been evaluated at this point before.\n",
      "  warnings.warn(\"The objective has been evaluated \"\n",
      "C:\\Users\\tiofi\\PyMOL\\envs\\rdkit2\\lib\\site-packages\\skopt\\optimizer\\optimizer.py:409: UserWarning: The objective has been evaluated at this point before.\n",
      "  warnings.warn(\"The objective has been evaluated \"\n",
      "C:\\Users\\tiofi\\PyMOL\\envs\\rdkit2\\lib\\site-packages\\skopt\\optimizer\\optimizer.py:409: UserWarning: The objective has been evaluated at this point before.\n",
      "  warnings.warn(\"The objective has been evaluated \"\n",
      "C:\\Users\\tiofi\\PyMOL\\envs\\rdkit2\\lib\\site-packages\\skopt\\optimizer\\optimizer.py:409: UserWarning: The objective has been evaluated at this point before.\n",
      "  warnings.warn(\"The objective has been evaluated \"\n",
      "C:\\Users\\tiofi\\PyMOL\\envs\\rdkit2\\lib\\site-packages\\skopt\\optimizer\\optimizer.py:409: UserWarning: The objective has been evaluated at this point before.\n",
      "  warnings.warn(\"The objective has been evaluated \"\n",
      "C:\\Users\\tiofi\\PyMOL\\envs\\rdkit2\\lib\\site-packages\\skopt\\optimizer\\optimizer.py:409: UserWarning: The objective has been evaluated at this point before.\n",
      "  warnings.warn(\"The objective has been evaluated \"\n",
      "C:\\Users\\tiofi\\PyMOL\\envs\\rdkit2\\lib\\site-packages\\skopt\\optimizer\\optimizer.py:409: UserWarning: The objective has been evaluated at this point before.\n",
      "  warnings.warn(\"The objective has been evaluated \"\n",
      "C:\\Users\\tiofi\\PyMOL\\envs\\rdkit2\\lib\\site-packages\\skopt\\optimizer\\optimizer.py:409: UserWarning: The objective has been evaluated at this point before.\n",
      "  warnings.warn(\"The objective has been evaluated \"\n",
      "C:\\Users\\tiofi\\PyMOL\\envs\\rdkit2\\lib\\site-packages\\skopt\\optimizer\\optimizer.py:409: UserWarning: The objective has been evaluated at this point before.\n",
      "  warnings.warn(\"The objective has been evaluated \"\n",
      "C:\\Users\\tiofi\\PyMOL\\envs\\rdkit2\\lib\\site-packages\\skopt\\optimizer\\optimizer.py:409: UserWarning: The objective has been evaluated at this point before.\n",
      "  warnings.warn(\"The objective has been evaluated \"\n",
      "C:\\Users\\tiofi\\PyMOL\\envs\\rdkit2\\lib\\site-packages\\skopt\\optimizer\\optimizer.py:409: UserWarning: The objective has been evaluated at this point before.\n",
      "  warnings.warn(\"The objective has been evaluated \"\n",
      "C:\\Users\\tiofi\\PyMOL\\envs\\rdkit2\\lib\\site-packages\\skopt\\optimizer\\optimizer.py:409: UserWarning: The objective has been evaluated at this point before.\n",
      "  warnings.warn(\"The objective has been evaluated \"\n"
     ]
    },
    {
     "name": "stdout",
     "output_type": "stream",
     "text": [
      "Best parameters: OrderedDict([('max_depth', 100), ('max_features', 'auto'), ('min_samples_leaf', 1), ('min_samples_split', 2), ('n_estimators', 1000)])\n"
     ]
    }
   ],
   "source": [
    "scorer = make_scorer(geometric_mean_score)\n",
    "\n",
    "# log-uniform: understand as search over p = exp(x) by varying x\n",
    "opt_rf = BayesSearchCV(\n",
    "    RandomForestClassifier(),\n",
    "    {'max_features': ['auto', 'sqrt'],\n",
    "    'n_estimators': [100, 1000],\n",
    "    \"max_depth\": [2, 100],\n",
    "    'min_samples_leaf': [1,20], \n",
    "    'min_samples_split': [2, 20]\n",
    "    },\n",
    "    n_iter=50, # Number of parameter settings that are sampled\n",
    "    cv=cv,\n",
    "    scoring = scorer,\n",
    "    verbose=0,\n",
    "    refit= True, # Refit the best estimator with the entire dataset.\n",
    "    random_state=42, \n",
    "    n_jobs = -1\n",
    ")\n",
    "\n",
    "opt_rf.fit(x, y)\n",
    "\n",
    "print(\"Best parameters: %s\" % opt_rf.best_params_)"
   ]
  },
  {
   "cell_type": "markdown",
   "metadata": {},
   "source": [
    "## 5-fold cross-validation"
   ]
  },
  {
   "cell_type": "code",
   "execution_count": 18,
   "metadata": {},
   "outputs": [],
   "source": [
    "probs_classes = []\n",
    "#indexes = []\n",
    "y_test_all = []\n",
    "\n",
    "for train_index, test_index in cv.split(x, y):\n",
    "    rf_clf = RandomForestClassifier(**opt_rf.best_params_) # model with best parameters\n",
    "    X_train_folds = x[train_index] # descritors train split\n",
    "    y_train_folds = np.array(y)[train_index.astype(int)] # label train split\n",
    "    X_test_fold = x[test_index] # descritors test split\n",
    "    y_test_fold = np.array(y)[test_index.astype(int)] # label test split\n",
    "    \n",
    "    \n",
    "    rf_clf.fit(X_train_folds, y_train_folds) # train fold\n",
    "    y_pred = rf_clf.predict_proba(X_test_fold) # test fold\n",
    "    probs_classes.append(y_pred) # all predictions for test folds\n",
    "    y_test_all.append(y_test_fold) # all folds' labels \n",
    "#   indexes.append(test_index) # all tests indexes"
   ]
  },
  {
   "cell_type": "markdown",
   "metadata": {},
   "source": [
    "## Check performance of each fold"
   ]
  },
  {
   "cell_type": "code",
   "execution_count": 19,
   "metadata": {},
   "outputs": [],
   "source": [
    "# Get predictions of each fold\n",
    "fold_1_pred = (probs_classes[0][:, 1] > 0.5).astype(int)\n",
    "fold_2_pred = (probs_classes[1][:, 1] > 0.5).astype(int)\n",
    "fold_3_pred = (probs_classes[2][:, 1] > 0.5).astype(int)\n",
    "fold_4_pred = (probs_classes[3][:, 1] > 0.5).astype(int)\n",
    "fold_5_pred = (probs_classes[4][:, 1] > 0.5).astype(int)"
   ]
  },
  {
   "cell_type": "code",
   "execution_count": 20,
   "metadata": {},
   "outputs": [],
   "source": [
    "# Get experimental values of each fold\n",
    "fold_1_exp = y_test_all[0]\n",
    "fold_2_exp = y_test_all[1]\n",
    "fold_3_exp = y_test_all[2]\n",
    "fold_4_exp = y_test_all[3]\n",
    "fold_5_exp = y_test_all[4]"
   ]
  },
  {
   "cell_type": "code",
   "execution_count": 21,
   "metadata": {},
   "outputs": [
    {
     "name": "stdout",
     "output_type": "stream",
     "text": [
      "Balanced accuracy (fold 1) =  0.5555555555555556\n",
      "Balanced accuracy (fold 2) =  0.5625\n",
      "Balanced accuracy (fold 3) =  0.5\n",
      "Balanced accuracy (fold 4) =  0.5\n",
      "Balanced accuracy (fold 5) =  0.5\n"
     ]
    }
   ],
   "source": [
    "bacc1 = metrics.balanced_accuracy_score(fold_1_exp, fold_1_pred) # balanced accuracy fold 1\n",
    "bacc2 = metrics.balanced_accuracy_score(fold_2_exp, fold_2_pred) # balanced accuracy fold 2\n",
    "bacc3 = metrics.balanced_accuracy_score(fold_3_exp, fold_3_pred) # balanced accuracy fold 3\n",
    "bacc4 = metrics.balanced_accuracy_score(fold_4_exp, fold_4_pred) # balanced accuracy fold 4\n",
    "bacc5 = metrics.balanced_accuracy_score(fold_5_exp, fold_5_pred) # balanced accuracy fold 5\n",
    "print(\"Balanced accuracy (fold 1) = \", bacc1)\n",
    "print(\"Balanced accuracy (fold 2) = \", bacc2)\n",
    "print(\"Balanced accuracy (fold 3) = \", bacc3)\n",
    "print(\"Balanced accuracy (fold 4) = \", bacc4)\n",
    "print(\"Balanced accuracy (fold 5) = \", bacc5)"
   ]
  },
  {
   "cell_type": "markdown",
   "metadata": {},
   "source": [
    "## Check mean performance of folds"
   ]
  },
  {
   "cell_type": "code",
   "execution_count": 22,
   "metadata": {},
   "outputs": [],
   "source": [
    "probs_classes = np.concatenate(probs_classes)    \n",
    "y_experimental = np.concatenate(y_test_all)"
   ]
  },
  {
   "cell_type": "code",
   "execution_count": 23,
   "metadata": {},
   "outputs": [],
   "source": [
    "# Uncalibrated model predictions\n",
    "pred_rf = (probs_classes[:, 1] > 0.5).astype(int)"
   ]
  },
  {
   "cell_type": "markdown",
   "metadata": {},
   "source": [
    "### Statistics - featmorgan-RF"
   ]
  },
  {
   "cell_type": "code",
   "execution_count": 24,
   "metadata": {},
   "outputs": [],
   "source": [
    "def calc_statistics(y,pred):\n",
    "    # save confusion matrix and slice into four pieces\n",
    "    confusion = confusion_matrix(y, pred)\n",
    "    #[row, column]\n",
    "    TP = confusion[1, 1]\n",
    "    TN = confusion[0, 0]\n",
    "    FP = confusion[0, 1]\n",
    "    FN = confusion[1, 0]\n",
    "    \n",
    "    # Plot confusion\n",
    "    #plt.figure(figsize=(5,5))\n",
    "    #sns.heatmap(confusion, annot=True, fmt=\".0f\", linewidths=.5, square = True, cmap = 'Blues_r');\n",
    "    #plt.ylabel('Actual label');\n",
    "    #plt.xlabel('Predicted label');\n",
    "    #title = \"Confusion matrix\"\n",
    "    #plt.title(title, size = 15);\n",
    "    \n",
    "    # calc statistics\n",
    "    classification_error = round(1 - accuracy_score(y, pred),2) #Classification error or misclassification rate\n",
    "    accuracy = round(accuracy_score(y, pred),2)#accuracy\n",
    "    mcc = round(matthews_corrcoef(y, pred),2) #mcc\n",
    "    kappa = round(cohen_kappa_score(y, pred),2) #kappa\n",
    "    sensitivity = round(recall_score(y, pred),2) #Sensitivity\n",
    "    specificity = round(TN / (TN + FP),2) #Specificity\n",
    "    false_positive_rate = round(FP / float(TN + FP),2) #False positive rate (alfa)\n",
    "    false_negative_rate = round(FN / float(TP+FN),2) #False negative rate (beta)\n",
    "    #precision = round(TP / float(TP + FP),2) #Precision\n",
    "    positive_pred_value = round(TP / float(TP + FP),2) #PPV\n",
    "    negative_pred_value = round(TN / float(TN + FN),2) #NPV\n",
    "    auc = round(roc_auc_score(y, pred),2) #AUC\n",
    "    bacc = round(balanced_accuracy_score(y, pred),2) # balanced accuracy\n",
    "    f1 = round(f1_score(y, pred),2) # F1-score\n",
    "\n",
    "    \"\"\"\"print(\"Accuracy = \", accuracy)\n",
    "    print(\"MCC = \", mcc)\n",
    "    print(\"Kappa = \", kappa)\n",
    "    print(\"Sensitivity = \", sensitivity)\n",
    "    print(\"Specificity = \", specificity)\n",
    "    print(\"Precision = \", precision)\n",
    "    print(\"PPV = \", positive_pred_value)\n",
    "    print(\"NPV = \", negative_pred_value)\n",
    "    print(\"False positive rate = \", false_positive_rate)\n",
    "    print(\"False negative rate = \", false_negative_rate)\n",
    "    print(\"AUC = \",roc_auc_score(y, pred))\n",
    "    print(\"Classification error = \", classification_error)\n",
    "    print(\"Balanced accuracy = \", bacc)\n",
    "    print(\"F1-score = \", f1)\"\"\"\n",
    "    \n",
    "    #converting calculated metrics into a pandas dataframe to compare all models at the final\n",
    "    statistics = pd.DataFrame({'Bal-acc': bacc, \"Sensitivity\": sensitivity, \"Specificity\": specificity,\"PPV\": positive_pred_value, \n",
    "           \"NPV\": negative_pred_value, 'Kappa': kappa, 'AUC': auc, 'MCC': mcc, 'Accuracy': accuracy, \n",
    "           \"Classification error\": classification_error,\"False positive rate\": false_positive_rate, \n",
    "           \"False negative rate\": false_negative_rate, 'F1-score': f1,}, index=[0])\n",
    "    return(statistics)"
   ]
  },
  {
   "cell_type": "code",
   "execution_count": 25,
   "metadata": {},
   "outputs": [],
   "source": [
    "statistics = calc_statistics(y_experimental, pred_rf)"
   ]
  },
  {
   "cell_type": "code",
   "execution_count": 26,
   "metadata": {},
   "outputs": [
    {
     "name": "stdout",
     "output_type": "stream",
     "text": [
      "Uncalibrated model:\n"
     ]
    },
    {
     "data": {
      "text/html": [
       "<div>\n",
       "<style scoped>\n",
       "    .dataframe tbody tr th:only-of-type {\n",
       "        vertical-align: middle;\n",
       "    }\n",
       "\n",
       "    .dataframe tbody tr th {\n",
       "        vertical-align: top;\n",
       "    }\n",
       "\n",
       "    .dataframe thead th {\n",
       "        text-align: right;\n",
       "    }\n",
       "</style>\n",
       "<table border=\"1\" class=\"dataframe\">\n",
       "  <thead>\n",
       "    <tr style=\"text-align: right;\">\n",
       "      <th></th>\n",
       "      <th>Bal-acc</th>\n",
       "      <th>Sensitivity</th>\n",
       "      <th>Specificity</th>\n",
       "      <th>PPV</th>\n",
       "      <th>NPV</th>\n",
       "      <th>Kappa</th>\n",
       "      <th>AUC</th>\n",
       "      <th>MCC</th>\n",
       "      <th>Accuracy</th>\n",
       "      <th>Classification error</th>\n",
       "      <th>False positive rate</th>\n",
       "      <th>False negative rate</th>\n",
       "      <th>F1-score</th>\n",
       "      <th>model</th>\n",
       "      <th>result_type</th>\n",
       "    </tr>\n",
       "  </thead>\n",
       "  <tbody>\n",
       "    <tr>\n",
       "      <th>0</th>\n",
       "      <td>0.52</td>\n",
       "      <td>0.05</td>\n",
       "      <td>1.0</td>\n",
       "      <td>1.0</td>\n",
       "      <td>0.99</td>\n",
       "      <td>0.09</td>\n",
       "      <td>0.52</td>\n",
       "      <td>0.21</td>\n",
       "      <td>0.99</td>\n",
       "      <td>0.01</td>\n",
       "      <td>0.0</td>\n",
       "      <td>0.95</td>\n",
       "      <td>0.09</td>\n",
       "      <td>featmorgan_r2_2048_rf</td>\n",
       "      <td>uncalibrated</td>\n",
       "    </tr>\n",
       "  </tbody>\n",
       "</table>\n",
       "</div>"
      ],
      "text/plain": [
       "   Bal-acc  Sensitivity  Specificity  PPV   NPV  Kappa   AUC   MCC  Accuracy  \\\n",
       "0     0.52         0.05          1.0  1.0  0.99   0.09  0.52  0.21      0.99   \n",
       "\n",
       "   Classification error  False positive rate  False negative rate  F1-score  \\\n",
       "0                  0.01                  0.0                 0.95      0.09   \n",
       "\n",
       "                   model   result_type  \n",
       "0  featmorgan_r2_2048_rf  uncalibrated  "
      ]
     },
     "execution_count": 26,
     "metadata": {},
     "output_type": "execute_result"
    }
   ],
   "source": [
    "#converting calculated metrics into a pandas dataframe to save a xls\n",
    "model_type = \"featmorgan_r2_2048_rf\"\n",
    "\n",
    "result_type = \"uncalibrated\"\n",
    "\n",
    "metrics_rf_uncalibrated = statistics\n",
    "metrics_rf_uncalibrated['model'] = model_type\n",
    "metrics_rf_uncalibrated['result_type'] = result_type\n",
    "print(\"Uncalibrated model:\")\n",
    "metrics_rf_uncalibrated"
   ]
  },
  {
   "cell_type": "markdown",
   "metadata": {},
   "source": [
    "### Check model calibatrion"
   ]
  },
  {
   "cell_type": "code",
   "execution_count": 27,
   "metadata": {},
   "outputs": [
    {
     "data": {
      "image/png": "[encoded data removed]",
      "text/plain": [
       "<Figure size 432x288 with 1 Axes>"
      ]
     },
     "metadata": {
      "needs_background": "light"
     },
     "output_type": "display_data"
    }
   ],
   "source": [
    "# keep probabilities for the positive outcome only\n",
    "probs = probs_classes[:, 1]\n",
    "# reliability diagram\n",
    "fop, mpv = calibration_curve(y_experimental, probs, n_bins=10)\n",
    "# plot perfectly calibrated\n",
    "plt.plot([0, 1], [0, 1], linestyle='--')\n",
    "# plot model reliability\n",
    "plt.plot(mpv, fop, marker='.')\n",
    "#plt.show()\n",
    "plt.savefig('../results/calibration_model_featmorgan_r2_2048_rf_1224857_bruno_imbalanced.png', dpi=300)"
   ]
  },
  {
   "cell_type": "markdown",
   "metadata": {},
   "source": [
    "### Use ROC-Curve and Gmean to select a threshold for calibration"
   ]
  },
  {
   "cell_type": "code",
   "execution_count": 28,
   "metadata": {},
   "outputs": [
    {
     "name": "stdout",
     "output_type": "stream",
     "text": [
      "Best Threshold=0.009000, G-Mean=0.758\n"
     ]
    },
    {
     "data": {
      "image/png": "[encoded data removed]",
      "text/plain": [
       "<Figure size 432x288 with 1 Axes>"
      ]
     },
     "metadata": {
      "needs_background": "light"
     },
     "output_type": "display_data"
    }
   ],
   "source": [
    "# keep probabilities for the positive outcome only\n",
    "yhat = probs_classes[:, 1]\n",
    "# calculate roc curves\n",
    "fpr, tpr, thresholds = roc_curve(y_experimental, yhat)\n",
    "# calculate the g-mean for each threshold\n",
    "gmeans = sqrt(tpr * (1-fpr))\n",
    "# locate the index of the largest g-mean\n",
    "ix = argmax(gmeans)\n",
    "print('Best Threshold=%f, G-Mean=%.3f' % (thresholds[ix], gmeans[ix]))\n",
    "# plot the roc curve for the model\n",
    "plt.plot([0,1], [0,1], linestyle='--', label='No Skill')\n",
    "plt.plot(fpr, tpr, marker='.', label='RF')\n",
    "plt.scatter(fpr[ix], tpr[ix], marker='o', color='black', label='Best')\n",
    "# axis labels\n",
    "plt.xlabel('False Positive Rate')\n",
    "plt.ylabel('True Positive Rate')\n",
    "plt.legend()\n",
    "# show the plot\n",
    "#plt.show()\n",
    "plt.savefig('../results/calibration_curve_featmorgan_r2_2048_rf_1224857_bruno_imbalanced.png', dpi=300)"
   ]
  },
  {
   "cell_type": "code",
   "execution_count": 29,
   "metadata": {},
   "outputs": [
    {
     "name": "stdout",
     "output_type": "stream",
     "text": [
      "0.009\n"
     ]
    }
   ],
   "source": [
    "# Record the threshold in a variable\n",
    "threshold_roc = thresholds[ix]\n",
    "print(threshold_roc)"
   ]
  },
  {
   "cell_type": "markdown",
   "metadata": {},
   "source": [
    "### Optimal Threshold for Precision-Recall Curve"
   ]
  },
  {
   "cell_type": "code",
   "execution_count": 30,
   "metadata": {},
   "outputs": [
    {
     "name": "stdout",
     "output_type": "stream",
     "text": [
      "Best Threshold=0.144000, F-Score=0.186\n"
     ]
    }
   ],
   "source": [
    "# keep probabilities for the positive outcome only\n",
    "yhat = probs_classes[:, 1]\n",
    "# calculate precision_recall_curve\n",
    "precision, recall, thresholds = precision_recall_curve(y_experimental, yhat)\n",
    "# convert to f score\n",
    "fscore = (2 * precision * recall) / (precision + recall)\n",
    "# locate the index of the largest f score\n",
    "ix = argmax(fscore)\n",
    "print('Best Threshold=%f, F-Score=%.3f' % (thresholds[ix], fscore[ix]))"
   ]
  },
  {
   "cell_type": "code",
   "execution_count": 31,
   "metadata": {},
   "outputs": [
    {
     "name": "stdout",
     "output_type": "stream",
     "text": [
      "0.144\n"
     ]
    }
   ],
   "source": [
    "# Record the threshold in a variable\n",
    "threshold_prc = thresholds[ix]\n",
    "print(threshold_prc)"
   ]
  },
  {
   "cell_type": "markdown",
   "metadata": {},
   "source": [
    "### Statistics model calibrated - Choose the best calibration method before"
   ]
  },
  {
   "cell_type": "code",
   "execution_count": 32,
   "metadata": {},
   "outputs": [],
   "source": [
    "# Select the best threshold to distinguishthe classes\n",
    "pred_rf = (probs_classes[:, 1] > threshold_roc).astype(int)\n",
    "# pred_rf = (probs_classes[:, 1] > threshold_prc).astype(int)"
   ]
  },
  {
   "cell_type": "code",
   "execution_count": 33,
   "metadata": {},
   "outputs": [],
   "source": [
    "statistics = calc_statistics(y_experimental, pred_rf)"
   ]
  },
  {
   "cell_type": "code",
   "execution_count": 34,
   "metadata": {},
   "outputs": [
    {
     "name": "stdout",
     "output_type": "stream",
     "text": [
      "Calibrated model:\n"
     ]
    },
    {
     "data": {
      "text/html": [
       "<div>\n",
       "<style scoped>\n",
       "    .dataframe tbody tr th:only-of-type {\n",
       "        vertical-align: middle;\n",
       "    }\n",
       "\n",
       "    .dataframe tbody tr th {\n",
       "        vertical-align: top;\n",
       "    }\n",
       "\n",
       "    .dataframe thead th {\n",
       "        text-align: right;\n",
       "    }\n",
       "</style>\n",
       "<table border=\"1\" class=\"dataframe\">\n",
       "  <thead>\n",
       "    <tr style=\"text-align: right;\">\n",
       "      <th></th>\n",
       "      <th>Bal-acc</th>\n",
       "      <th>Sensitivity</th>\n",
       "      <th>Specificity</th>\n",
       "      <th>PPV</th>\n",
       "      <th>NPV</th>\n",
       "      <th>Kappa</th>\n",
       "      <th>AUC</th>\n",
       "      <th>MCC</th>\n",
       "      <th>Accuracy</th>\n",
       "      <th>Classification error</th>\n",
       "      <th>False positive rate</th>\n",
       "      <th>False negative rate</th>\n",
       "      <th>F1-score</th>\n",
       "      <th>model</th>\n",
       "      <th>result_type</th>\n",
       "      <th>calibration_threshold</th>\n",
       "    </tr>\n",
       "  </thead>\n",
       "  <tbody>\n",
       "    <tr>\n",
       "      <th>0</th>\n",
       "      <td>0.75</td>\n",
       "      <td>0.77</td>\n",
       "      <td>0.72</td>\n",
       "      <td>0.03</td>\n",
       "      <td>1.0</td>\n",
       "      <td>0.04</td>\n",
       "      <td>0.75</td>\n",
       "      <td>0.12</td>\n",
       "      <td>0.72</td>\n",
       "      <td>0.28</td>\n",
       "      <td>0.28</td>\n",
       "      <td>0.23</td>\n",
       "      <td>0.06</td>\n",
       "      <td>featmorgan_r2_2048_rf</td>\n",
       "      <td>calibrated</td>\n",
       "      <td>0.009</td>\n",
       "    </tr>\n",
       "  </tbody>\n",
       "</table>\n",
       "</div>"
      ],
      "text/plain": [
       "   Bal-acc  Sensitivity  Specificity   PPV  NPV  Kappa   AUC   MCC  Accuracy  \\\n",
       "0     0.75         0.77         0.72  0.03  1.0   0.04  0.75  0.12      0.72   \n",
       "\n",
       "   Classification error  False positive rate  False negative rate  F1-score  \\\n",
       "0                  0.28                 0.28                 0.23      0.06   \n",
       "\n",
       "                   model result_type  calibration_threshold  \n",
       "0  featmorgan_r2_2048_rf  calibrated                  0.009  "
      ]
     },
     "execution_count": 34,
     "metadata": {},
     "output_type": "execute_result"
    }
   ],
   "source": [
    "#converting calculated metrics into a pandas dataframe to save a xls\n",
    "model_type = \"featmorgan_r2_2048_rf\"\n",
    "\n",
    "result_type = \"calibrated\"\n",
    "\n",
    "metrics_rf_calibrated = statistics\n",
    "metrics_rf_calibrated['model'] = model_type\n",
    "metrics_rf_calibrated['result_type'] = result_type\n",
    "metrics_rf_calibrated['calibration_threshold'] = threshold_roc\n",
    "print(\"Calibrated model:\")\n",
    "metrics_rf_calibrated"
   ]
  },
  {
   "cell_type": "code",
   "execution_count": 35,
   "metadata": {},
   "outputs": [],
   "source": [
    "# Saving the dataframe as excel file\n",
    "#metrics_rf_calibrated.to_excel(\"../results/model_binary_metrics_rf_featmorgan_r2_gmean_1224857_bruno_imbalanced_thres028.xlsx\", sheet_name= \"Sheet1\")"
   ]
  },
  {
   "cell_type": "markdown",
   "metadata": {},
   "source": [
    "### Save model"
   ]
  },
  {
   "cell_type": "code",
   "execution_count": 36,
   "metadata": {},
   "outputs": [
    {
     "data": {
      "text/plain": [
       "['../models/model_binary_rf_featmorgan_r2_2048_gmean_1224857_bruno_imbalanced.pkl']"
      ]
     },
     "execution_count": 36,
     "metadata": {},
     "output_type": "execute_result"
    }
   ],
   "source": [
    "#Save model - pkl file\n",
    "joblib.dump(opt_rf, \"../models/model_binary_rf_featmorgan_r2_2048_gmean_1224857_bruno_imbalanced.pkl\", compress=3)"
   ]
  },
  {
   "cell_type": "markdown",
   "metadata": {},
   "source": [
    "## SVM Model building - Bayesian hyperparameter search  "
   ]
  },
  {
   "cell_type": "code",
   "execution_count": 37,
   "metadata": {},
   "outputs": [
    {
     "name": "stdout",
     "output_type": "stream",
     "text": [
      "Best parameters: OrderedDict([('C', 60793.84798500439), ('gamma', 0.0027358174796732484), ('kernel', 'rbf')])\n"
     ]
    }
   ],
   "source": [
    "scorer = make_scorer(geometric_mean_score)\n",
    "\n",
    "# log-uniform: understand as search over p = exp(x) by varying x\n",
    "opt_svm = BayesSearchCV(\n",
    "    SVC(probability=True),\n",
    "    {\n",
    "        'C': (1e-6, 1e+6, 'log-uniform'),\n",
    "        'gamma': (1e-6, 1e+1, 'log-uniform'),\n",
    "        'kernel': ['rbf'],  # categorical parameter | ['linear', 'poly', 'rbf'] to test all kernels\n",
    "    },\n",
    "    n_iter=50, # Number of parameter settings that are sampled\n",
    "    cv=cv,\n",
    "    scoring = scorer,\n",
    "    refit = True, # Refit the best estimator with the entire dataset.\n",
    "    random_state=42,\n",
    "    n_jobs = -1\n",
    ")\n",
    "\n",
    "opt_svm.fit(x, y)\n",
    "\n",
    "print(\"Best parameters: %s\" % opt_svm.best_params_)"
   ]
  },
  {
   "cell_type": "markdown",
   "metadata": {},
   "source": [
    "## 5-fold cross-validation"
   ]
  },
  {
   "cell_type": "code",
   "execution_count": 38,
   "metadata": {},
   "outputs": [],
   "source": [
    "probs_classes = []\n",
    "#indexes = []\n",
    "y_test_all = []\n",
    "\n",
    "for train_index, test_index in cv.split(x, y):\n",
    "    svm_clf = SVC(**opt_svm.best_params_, probability=True) # model with best parameters\n",
    "    X_train_folds = x[train_index] # descritors train split\n",
    "    y_train_folds = np.array(y)[train_index.astype(int)] # label train split\n",
    "    X_test_fold = x[test_index] # descritors test split\n",
    "    y_test_fold = np.array(y)[test_index.astype(int)] # label test split\n",
    "    \n",
    "    \n",
    "    svm_clf.fit(X_train_folds, y_train_folds) # train fold\n",
    "    y_pred = svm_clf.predict_proba(X_test_fold) # test fold\n",
    "    probs_classes.append(y_pred) # all predictions for test folds\n",
    "    y_test_all.append(y_test_fold) # all folds' labels \n",
    "#  indexes.append(test_index) # all tests indexes"
   ]
  },
  {
   "cell_type": "markdown",
   "metadata": {},
   "source": [
    "## Check performance of each fold"
   ]
  },
  {
   "cell_type": "code",
   "execution_count": 39,
   "metadata": {},
   "outputs": [],
   "source": [
    "# Get predictions of each fold\n",
    "fold_1_pred = (probs_classes[0][:, 1] > 0.5).astype(int)\n",
    "fold_2_pred = (probs_classes[1][:, 1] > 0.5).astype(int)\n",
    "fold_3_pred = (probs_classes[2][:, 1] > 0.5).astype(int)\n",
    "fold_4_pred = (probs_classes[3][:, 1] > 0.5).astype(int)\n",
    "fold_5_pred = (probs_classes[4][:, 1] > 0.5).astype(int)"
   ]
  },
  {
   "cell_type": "code",
   "execution_count": 40,
   "metadata": {},
   "outputs": [],
   "source": [
    "# Get experimental values of each fold\n",
    "fold_1_exp = y_test_all[0]\n",
    "fold_2_exp = y_test_all[1]\n",
    "fold_3_exp = y_test_all[2]\n",
    "fold_4_exp = y_test_all[3]\n",
    "fold_5_exp = y_test_all[4]"
   ]
  },
  {
   "cell_type": "code",
   "execution_count": 41,
   "metadata": {},
   "outputs": [
    {
     "name": "stdout",
     "output_type": "stream",
     "text": [
      "Balanced accuracy (fold 1) =  0.5\n",
      "Balanced accuracy (fold 2) =  0.5\n",
      "Balanced accuracy (fold 3) =  0.5\n",
      "Balanced accuracy (fold 4) =  0.49928057553956834\n",
      "Balanced accuracy (fold 5) =  0.5\n"
     ]
    }
   ],
   "source": [
    "bacc1 = metrics.balanced_accuracy_score(fold_1_exp, fold_1_pred) # balanced accuracy fold 1\n",
    "bacc2 = metrics.balanced_accuracy_score(fold_2_exp, fold_2_pred) # balanced accuracy fold 2\n",
    "bacc3 = metrics.balanced_accuracy_score(fold_3_exp, fold_3_pred) # balanced accuracy fold 3\n",
    "bacc4 = metrics.balanced_accuracy_score(fold_4_exp, fold_4_pred) # balanced accuracy fold 4\n",
    "bacc5 = metrics.balanced_accuracy_score(fold_5_exp, fold_5_pred) # balanced accuracy fold 5\n",
    "print(\"Balanced accuracy (fold 1) = \", bacc1)\n",
    "print(\"Balanced accuracy (fold 2) = \", bacc2)\n",
    "print(\"Balanced accuracy (fold 3) = \", bacc3)\n",
    "print(\"Balanced accuracy (fold 4) = \", bacc4)\n",
    "print(\"Balanced accuracy (fold 5) = \", bacc5)"
   ]
  },
  {
   "cell_type": "markdown",
   "metadata": {},
   "source": [
    "## Check mean performance of folds"
   ]
  },
  {
   "cell_type": "code",
   "execution_count": 42,
   "metadata": {},
   "outputs": [],
   "source": [
    "probs_classes = np.concatenate(probs_classes)    \n",
    "y_experimental = np.concatenate(y_test_all)"
   ]
  },
  {
   "cell_type": "code",
   "execution_count": 43,
   "metadata": {},
   "outputs": [],
   "source": [
    "# Uncalibrated model predictions\n",
    "pred_svm = (probs_classes[:, 1] > 0.5).astype(int)"
   ]
  },
  {
   "cell_type": "markdown",
   "metadata": {},
   "source": [
    "### Statistics - featmorgan-SVM"
   ]
  },
  {
   "cell_type": "code",
   "execution_count": 44,
   "metadata": {},
   "outputs": [
    {
     "data": {
      "text/plain": [
       "3521"
      ]
     },
     "execution_count": 44,
     "metadata": {},
     "output_type": "execute_result"
    }
   ],
   "source": [
    "# Uncalibrated model predictions\n",
    "pred_svm = (probs_classes[:, 1] > 0.5).astype(int)\n",
    "len(y_experimental)"
   ]
  },
  {
   "cell_type": "code",
   "execution_count": 45,
   "metadata": {},
   "outputs": [],
   "source": [
    "statistics = calc_statistics(y_experimental, pred_svm)"
   ]
  },
  {
   "cell_type": "code",
   "execution_count": 46,
   "metadata": {},
   "outputs": [
    {
     "name": "stdout",
     "output_type": "stream",
     "text": [
      "Uncalibrated model:\n"
     ]
    },
    {
     "data": {
      "text/html": [
       "<div>\n",
       "<style scoped>\n",
       "    .dataframe tbody tr th:only-of-type {\n",
       "        vertical-align: middle;\n",
       "    }\n",
       "\n",
       "    .dataframe tbody tr th {\n",
       "        vertical-align: top;\n",
       "    }\n",
       "\n",
       "    .dataframe thead th {\n",
       "        text-align: right;\n",
       "    }\n",
       "</style>\n",
       "<table border=\"1\" class=\"dataframe\">\n",
       "  <thead>\n",
       "    <tr style=\"text-align: right;\">\n",
       "      <th></th>\n",
       "      <th>Bal-acc</th>\n",
       "      <th>Sensitivity</th>\n",
       "      <th>Specificity</th>\n",
       "      <th>PPV</th>\n",
       "      <th>NPV</th>\n",
       "      <th>Kappa</th>\n",
       "      <th>AUC</th>\n",
       "      <th>MCC</th>\n",
       "      <th>Accuracy</th>\n",
       "      <th>Classification error</th>\n",
       "      <th>False positive rate</th>\n",
       "      <th>False negative rate</th>\n",
       "      <th>F1-score</th>\n",
       "      <th>model</th>\n",
       "      <th>result_type</th>\n",
       "    </tr>\n",
       "  </thead>\n",
       "  <tbody>\n",
       "    <tr>\n",
       "      <th>0</th>\n",
       "      <td>0.5</td>\n",
       "      <td>0.0</td>\n",
       "      <td>1.0</td>\n",
       "      <td>0.0</td>\n",
       "      <td>0.99</td>\n",
       "      <td>-0.0</td>\n",
       "      <td>0.5</td>\n",
       "      <td>-0.0</td>\n",
       "      <td>0.99</td>\n",
       "      <td>0.01</td>\n",
       "      <td>0.0</td>\n",
       "      <td>1.0</td>\n",
       "      <td>0.0</td>\n",
       "      <td>featmorgan_r2_2048_svm</td>\n",
       "      <td>uncalibrated</td>\n",
       "    </tr>\n",
       "  </tbody>\n",
       "</table>\n",
       "</div>"
      ],
      "text/plain": [
       "   Bal-acc  Sensitivity  Specificity  PPV   NPV  Kappa  AUC  MCC  Accuracy  \\\n",
       "0      0.5          0.0          1.0  0.0  0.99   -0.0  0.5 -0.0      0.99   \n",
       "\n",
       "   Classification error  False positive rate  False negative rate  F1-score  \\\n",
       "0                  0.01                  0.0                  1.0       0.0   \n",
       "\n",
       "                    model   result_type  \n",
       "0  featmorgan_r2_2048_svm  uncalibrated  "
      ]
     },
     "execution_count": 46,
     "metadata": {},
     "output_type": "execute_result"
    }
   ],
   "source": [
    "#converting calculated metrics into a pandas dataframe to save a xls\n",
    "model_type = \"featmorgan_r2_2048_svm\"\n",
    "\n",
    "result_type = \"uncalibrated\"\n",
    "\n",
    "metrics_svm_uncalibrated = statistics\n",
    "metrics_svm_uncalibrated['model'] = model_type\n",
    "metrics_svm_uncalibrated['result_type'] = result_type\n",
    "print(\"Uncalibrated model:\")\n",
    "metrics_svm_uncalibrated"
   ]
  },
  {
   "cell_type": "markdown",
   "metadata": {},
   "source": [
    "### Check model calibatrion"
   ]
  },
  {
   "cell_type": "code",
   "execution_count": 47,
   "metadata": {},
   "outputs": [
    {
     "data": {
      "image/png": "[encoded data removed]",
      "text/plain": [
       "<Figure size 432x288 with 1 Axes>"
      ]
     },
     "metadata": {
      "needs_background": "light"
     },
     "output_type": "display_data"
    }
   ],
   "source": [
    "# keep probabilities for the positive outcome only\n",
    "probs = probs_classes[:, 1]\n",
    "# reliability diagram\n",
    "fop, mpv = calibration_curve(y_experimental, probs, n_bins=10)\n",
    "# plot perfectly calibrated\n",
    "plt.plot([0, 1], [0, 1], linestyle='--')\n",
    "# plot model reliability\n",
    "plt.plot(mpv, fop, marker='.')\n",
    "#plt.show()\n",
    "plt.savefig('../results/calibration_model_featmorgan_r2_2048_svm_1224857_bruno_imbalanced.png', dpi=300)"
   ]
  },
  {
   "cell_type": "markdown",
   "metadata": {},
   "source": [
    "### Use ROC-Curve and Gmean to select a threshold for calibration"
   ]
  },
  {
   "cell_type": "code",
   "execution_count": 48,
   "metadata": {},
   "outputs": [
    {
     "name": "stdout",
     "output_type": "stream",
     "text": [
      "Best Threshold=0.010192, G-Mean=0.723\n"
     ]
    },
    {
     "data": {
      "image/png": "[encoded data removed]",
      "text/plain": [
       "<Figure size 432x288 with 1 Axes>"
      ]
     },
     "metadata": {
      "needs_background": "light"
     },
     "output_type": "display_data"
    }
   ],
   "source": [
    "# keep probabilities for the positive outcome only\n",
    "yhat = probs_classes[:, 1]\n",
    "# calculate roc curves\n",
    "fpr, tpr, thresholds = roc_curve(y_experimental, yhat)\n",
    "# calculate the g-mean for each threshold\n",
    "gmeans = sqrt(tpr * (1-fpr))\n",
    "# locate the index of the largest g-mean\n",
    "ix = argmax(gmeans)\n",
    "print('Best Threshold=%f, G-Mean=%.3f' % (thresholds[ix], gmeans[ix]))\n",
    "# plot the roc curve for the model\n",
    "plt.plot([0,1], [0,1], linestyle='--', label='No Skill')\n",
    "plt.plot(fpr, tpr, marker='.', label='SVM')\n",
    "plt.scatter(fpr[ix], tpr[ix], marker='o', color='black', label='Best')\n",
    "# axis labels\n",
    "plt.xlabel('False Positive Rate')\n",
    "plt.ylabel('True Positive Rate')\n",
    "plt.legend()\n",
    "# show the plot\n",
    "#plt.show()\n",
    "plt.savefig('../results/calibration_curve_featmorgan_r2_2048_svm_1224857_bruno_imbalanced.png', dpi=300)"
   ]
  },
  {
   "cell_type": "code",
   "execution_count": 49,
   "metadata": {},
   "outputs": [
    {
     "name": "stdout",
     "output_type": "stream",
     "text": [
      "0.010191746660815631\n"
     ]
    }
   ],
   "source": [
    "# Record the threshold in a variable\n",
    "threshold_roc = thresholds[ix]\n",
    "print(threshold_roc)"
   ]
  },
  {
   "cell_type": "markdown",
   "metadata": {},
   "source": [
    "### Optimal Threshold for Precision-Recall Curve"
   ]
  },
  {
   "cell_type": "code",
   "execution_count": 50,
   "metadata": {},
   "outputs": [
    {
     "name": "stdout",
     "output_type": "stream",
     "text": [
      "Best Threshold=0.298935, F-Score=nan\n"
     ]
    },
    {
     "name": "stderr",
     "output_type": "stream",
     "text": [
      "C:\\Users\\tiofi\\PyMOL\\envs\\rdkit2\\lib\\site-packages\\ipykernel_launcher.py:6: RuntimeWarning: invalid value encountered in true_divide\n",
      "  \n"
     ]
    }
   ],
   "source": [
    "# keep probabilities for the positive outcome only\n",
    "yhat = probs_classes[:, 1]\n",
    "# calculate precision_recall_curve\n",
    "precision, recall, thresholds = precision_recall_curve(y_experimental, yhat)\n",
    "# convert to f score\n",
    "fscore = (2 * precision * recall) / (precision + recall)\n",
    "# locate the index of the largest f score\n",
    "ix = argmax(fscore)\n",
    "print('Best Threshold=%f, F-Score=%.3f' % (thresholds[ix], fscore[ix]))"
   ]
  },
  {
   "cell_type": "code",
   "execution_count": 51,
   "metadata": {},
   "outputs": [
    {
     "name": "stdout",
     "output_type": "stream",
     "text": [
      "0.2989350676954218\n"
     ]
    }
   ],
   "source": [
    "# Record the threshold in a variable\n",
    "threshold_prc = thresholds[ix]\n",
    "print(threshold_prc)"
   ]
  },
  {
   "cell_type": "markdown",
   "metadata": {},
   "source": [
    "### Statistics model calibrated - Choose the best calibration method before"
   ]
  },
  {
   "cell_type": "code",
   "execution_count": 52,
   "metadata": {},
   "outputs": [],
   "source": [
    "# Select the best threshold to distinguishthe classes\n",
    "pred_svm = (probs_classes[:, 1] > threshold_roc).astype(int)\n",
    "# pred_svm = (probs_classes[:, 1] > threshold_prc).astype(int)"
   ]
  },
  {
   "cell_type": "code",
   "execution_count": 53,
   "metadata": {},
   "outputs": [],
   "source": [
    "statistics = calc_statistics(y_experimental, pred_svm)"
   ]
  },
  {
   "cell_type": "code",
   "execution_count": 54,
   "metadata": {},
   "outputs": [
    {
     "name": "stdout",
     "output_type": "stream",
     "text": [
      "Calibrated model:\n"
     ]
    },
    {
     "data": {
      "text/html": [
       "<div>\n",
       "<style scoped>\n",
       "    .dataframe tbody tr th:only-of-type {\n",
       "        vertical-align: middle;\n",
       "    }\n",
       "\n",
       "    .dataframe tbody tr th {\n",
       "        vertical-align: top;\n",
       "    }\n",
       "\n",
       "    .dataframe thead th {\n",
       "        text-align: right;\n",
       "    }\n",
       "</style>\n",
       "<table border=\"1\" class=\"dataframe\">\n",
       "  <thead>\n",
       "    <tr style=\"text-align: right;\">\n",
       "      <th></th>\n",
       "      <th>Bal-acc</th>\n",
       "      <th>Sensitivity</th>\n",
       "      <th>Specificity</th>\n",
       "      <th>PPV</th>\n",
       "      <th>NPV</th>\n",
       "      <th>Kappa</th>\n",
       "      <th>AUC</th>\n",
       "      <th>MCC</th>\n",
       "      <th>Accuracy</th>\n",
       "      <th>Classification error</th>\n",
       "      <th>False positive rate</th>\n",
       "      <th>False negative rate</th>\n",
       "      <th>F1-score</th>\n",
       "      <th>model</th>\n",
       "      <th>result_type</th>\n",
       "      <th>calibration_threshold</th>\n",
       "    </tr>\n",
       "  </thead>\n",
       "  <tbody>\n",
       "    <tr>\n",
       "      <th>0</th>\n",
       "      <td>0.71</td>\n",
       "      <td>0.72</td>\n",
       "      <td>0.7</td>\n",
       "      <td>0.03</td>\n",
       "      <td>1.0</td>\n",
       "      <td>0.03</td>\n",
       "      <td>0.71</td>\n",
       "      <td>0.1</td>\n",
       "      <td>0.7</td>\n",
       "      <td>0.3</td>\n",
       "      <td>0.3</td>\n",
       "      <td>0.28</td>\n",
       "      <td>0.06</td>\n",
       "      <td>featmorgan_r2_2048_svm</td>\n",
       "      <td>calibrated</td>\n",
       "      <td>0.010192</td>\n",
       "    </tr>\n",
       "  </tbody>\n",
       "</table>\n",
       "</div>"
      ],
      "text/plain": [
       "   Bal-acc  Sensitivity  Specificity   PPV  NPV  Kappa   AUC  MCC  Accuracy  \\\n",
       "0     0.71         0.72          0.7  0.03  1.0   0.03  0.71  0.1       0.7   \n",
       "\n",
       "   Classification error  False positive rate  False negative rate  F1-score  \\\n",
       "0                   0.3                  0.3                 0.28      0.06   \n",
       "\n",
       "                    model result_type  calibration_threshold  \n",
       "0  featmorgan_r2_2048_svm  calibrated               0.010192  "
      ]
     },
     "execution_count": 54,
     "metadata": {},
     "output_type": "execute_result"
    }
   ],
   "source": [
    "#converting calculated metrics into a pandas dataframe to save a xls\n",
    "model_type = \"featmorgan_r2_2048_svm\"\n",
    "\n",
    "result_type = \"calibrated\"\n",
    "\n",
    "metrics_svm_calibrated = statistics\n",
    "metrics_svm_calibrated['model'] = model_type\n",
    "metrics_svm_calibrated['result_type'] = result_type\n",
    "metrics_svm_calibrated['calibration_threshold'] = threshold_roc\n",
    "print(\"Calibrated model:\")\n",
    "metrics_svm_calibrated"
   ]
  },
  {
   "cell_type": "code",
   "execution_count": 55,
   "metadata": {},
   "outputs": [],
   "source": [
    "# Saving the dataframe as excel file\n",
    "#metrics_svm.to_excel(\"../results/model_binary_metrics_svm_featmorgan_r2_gmean_1224857_bruno_imbalanced_thres039.xlsx\", sheet_name= \"Sheet1\")"
   ]
  },
  {
   "cell_type": "markdown",
   "metadata": {},
   "source": [
    "### Save model"
   ]
  },
  {
   "cell_type": "code",
   "execution_count": 56,
   "metadata": {},
   "outputs": [
    {
     "data": {
      "text/plain": [
       "['../models/model_binary_svm_featmorgan_r2_2048_gmean_1224857_bruno_imbalanced.pkl']"
      ]
     },
     "execution_count": 56,
     "metadata": {},
     "output_type": "execute_result"
    }
   ],
   "source": [
    "#Save model - pkl file\n",
    "joblib.dump(opt_svm, \"../models/model_binary_svm_featmorgan_r2_2048_gmean_1224857_bruno_imbalanced.pkl\", compress=3)"
   ]
  },
  {
   "cell_type": "markdown",
   "metadata": {},
   "source": [
    "## LightGBM Model building - Bayesian hyperparameter search"
   ]
  },
  {
   "cell_type": "code",
   "execution_count": 57,
   "metadata": {},
   "outputs": [
    {
     "name": "stdout",
     "output_type": "stream",
     "text": [
      "Best parameters: OrderedDict([('learning_rate', 0.4978621400548684), ('max_depth', 63), ('n_estimators', 100), ('num_leaves', 2741), ('scale_pos_weight', 692), ('subsample', 0.6475171325334337)])\n"
     ]
    }
   ],
   "source": [
    "scorer = make_scorer(geometric_mean_score)\n",
    "\n",
    "# log-uniform: understand as search over p = exp(x) by varying x\n",
    "opt_lgb = BayesSearchCV(lgb.LGBMClassifier(),\n",
    "                        {'learning_rate': (0.01, 1.0, 'log-uniform'), \n",
    "                         'num_leaves': (7, 4095),\n",
    "                         'n_estimators': (100, 800), \n",
    "                         'max_depth': (2, 63),\n",
    "                         'subsample': (0.4, 1), \n",
    "                         'scale_pos_weight': (1, 1000)}, \n",
    "                        n_iter = 50, # Number of parameter settings that are sampled\n",
    "                        cv = cv, \n",
    "                        scoring = scorer,\n",
    "                        refit = True, # Refit the best estimator with the entire dataset.\n",
    "                        verbose = 0,\n",
    "                        random_state = 42, \n",
    "                        n_jobs = 1)\n",
    "\n",
    "opt_lgb.fit(x, y)\n",
    "\n",
    "print(\"Best parameters: %s\" % opt_lgb.best_params_)"
   ]
  },
  {
   "cell_type": "markdown",
   "metadata": {},
   "source": [
    "## 5-fold cross-validation"
   ]
  },
  {
   "cell_type": "code",
   "execution_count": 58,
   "metadata": {},
   "outputs": [],
   "source": [
    "probs_classes = []\n",
    "#indexes = []\n",
    "y_test_all = []\n",
    "\n",
    "for train_index, test_index in cv.split(x, y):\n",
    "    lgb_clf = lgb.LGBMClassifier(**opt_lgb.best_params_,) # model with best parameters\n",
    "    X_train_folds = x[train_index] # descritors train split\n",
    "    y_train_folds = np.array(y)[train_index.astype(int)] # label train split\n",
    "    X_test_fold = x[test_index] # descritors test split\n",
    "    y_test_fold = np.array(y)[test_index.astype(int)] # label test split\n",
    "    \n",
    "    \n",
    "    svm_clf.fit(X_train_folds, y_train_folds) # train fold\n",
    "    y_pred = svm_clf.predict_proba(X_test_fold) # test fold\n",
    "    probs_classes.append(y_pred) # all predictions for test folds\n",
    "    y_test_all.append(y_test_fold) # all folds' labels \n",
    "#  indexes.append(test_index) # all tests indexes"
   ]
  },
  {
   "cell_type": "markdown",
   "metadata": {},
   "source": [
    "## Check performance of each fold"
   ]
  },
  {
   "cell_type": "code",
   "execution_count": 59,
   "metadata": {},
   "outputs": [],
   "source": [
    "# Get predictions of each fold\n",
    "fold_1_pred = (probs_classes[0][:, 1] > 0.5).astype(int)\n",
    "fold_2_pred = (probs_classes[1][:, 1] > 0.5).astype(int)\n",
    "fold_3_pred = (probs_classes[2][:, 1] > 0.5).astype(int)\n",
    "fold_4_pred = (probs_classes[3][:, 1] > 0.5).astype(int)\n",
    "fold_5_pred = (probs_classes[4][:, 1] > 0.5).astype(int)"
   ]
  },
  {
   "cell_type": "code",
   "execution_count": 60,
   "metadata": {},
   "outputs": [],
   "source": [
    "# Get experimental values of each fold\n",
    "fold_1_exp = y_test_all[0]\n",
    "fold_2_exp = y_test_all[1]\n",
    "fold_3_exp = y_test_all[2]\n",
    "fold_4_exp = y_test_all[3]\n",
    "fold_5_exp = y_test_all[4]"
   ]
  },
  {
   "cell_type": "code",
   "execution_count": 61,
   "metadata": {},
   "outputs": [
    {
     "name": "stdout",
     "output_type": "stream",
     "text": [
      "Balanced accuracy (fold 1) =  0.5\n",
      "Balanced accuracy (fold 2) =  0.5\n",
      "Balanced accuracy (fold 3) =  0.5\n",
      "Balanced accuracy (fold 4) =  0.5\n",
      "Balanced accuracy (fold 5) =  0.5\n"
     ]
    }
   ],
   "source": [
    "bacc1 = metrics.balanced_accuracy_score(fold_1_exp, fold_1_pred) # balanced accuracy fold 1\n",
    "bacc2 = metrics.balanced_accuracy_score(fold_2_exp, fold_2_pred) # balanced accuracy fold 2\n",
    "bacc3 = metrics.balanced_accuracy_score(fold_3_exp, fold_3_pred) # balanced accuracy fold 3\n",
    "bacc4 = metrics.balanced_accuracy_score(fold_4_exp, fold_4_pred) # balanced accuracy fold 4\n",
    "bacc5 = metrics.balanced_accuracy_score(fold_5_exp, fold_5_pred) # balanced accuracy fold 5\n",
    "print(\"Balanced accuracy (fold 1) = \", bacc1)\n",
    "print(\"Balanced accuracy (fold 2) = \", bacc2)\n",
    "print(\"Balanced accuracy (fold 3) = \", bacc3)\n",
    "print(\"Balanced accuracy (fold 4) = \", bacc4)\n",
    "print(\"Balanced accuracy (fold 5) = \", bacc5)"
   ]
  },
  {
   "cell_type": "markdown",
   "metadata": {},
   "source": [
    "## Check mean performance of folds"
   ]
  },
  {
   "cell_type": "code",
   "execution_count": 62,
   "metadata": {},
   "outputs": [],
   "source": [
    "probs_classes = np.concatenate(probs_classes)    \n",
    "y_experimental = np.concatenate(y_test_all)"
   ]
  },
  {
   "cell_type": "code",
   "execution_count": 63,
   "metadata": {},
   "outputs": [],
   "source": [
    "# Uncalibrated model predictions\n",
    "pred_lgb = (probs_classes[:, 1] > 0.5).astype(int)"
   ]
  },
  {
   "cell_type": "markdown",
   "metadata": {},
   "source": [
    "### Statistics - featmorgan-LGB"
   ]
  },
  {
   "cell_type": "code",
   "execution_count": 64,
   "metadata": {},
   "outputs": [],
   "source": [
    "pred_lgb = (probs_classes[:, 1] > 0.5).astype(int)"
   ]
  },
  {
   "cell_type": "code",
   "execution_count": 65,
   "metadata": {},
   "outputs": [
    {
     "name": "stderr",
     "output_type": "stream",
     "text": [
      "C:\\Users\\tiofi\\PyMOL\\envs\\rdkit2\\lib\\site-packages\\sklearn\\metrics\\_classification.py:900: RuntimeWarning: invalid value encountered in double_scalars\n",
      "  mcc = cov_ytyp / np.sqrt(cov_ytyt * cov_ypyp)\n",
      "C:\\Users\\tiofi\\PyMOL\\envs\\rdkit2\\lib\\site-packages\\ipykernel_launcher.py:28: RuntimeWarning: invalid value encountered in true_divide\n"
     ]
    }
   ],
   "source": [
    "statistics = calc_statistics(y_experimental, pred_lgb)"
   ]
  },
  {
   "cell_type": "code",
   "execution_count": 66,
   "metadata": {},
   "outputs": [
    {
     "name": "stdout",
     "output_type": "stream",
     "text": [
      "Uncalibrated model:\n"
     ]
    },
    {
     "data": {
      "text/html": [
       "<div>\n",
       "<style scoped>\n",
       "    .dataframe tbody tr th:only-of-type {\n",
       "        vertical-align: middle;\n",
       "    }\n",
       "\n",
       "    .dataframe tbody tr th {\n",
       "        vertical-align: top;\n",
       "    }\n",
       "\n",
       "    .dataframe thead th {\n",
       "        text-align: right;\n",
       "    }\n",
       "</style>\n",
       "<table border=\"1\" class=\"dataframe\">\n",
       "  <thead>\n",
       "    <tr style=\"text-align: right;\">\n",
       "      <th></th>\n",
       "      <th>Bal-acc</th>\n",
       "      <th>Sensitivity</th>\n",
       "      <th>Specificity</th>\n",
       "      <th>PPV</th>\n",
       "      <th>NPV</th>\n",
       "      <th>Kappa</th>\n",
       "      <th>AUC</th>\n",
       "      <th>MCC</th>\n",
       "      <th>Accuracy</th>\n",
       "      <th>Classification error</th>\n",
       "      <th>False positive rate</th>\n",
       "      <th>False negative rate</th>\n",
       "      <th>F1-score</th>\n",
       "      <th>model</th>\n",
       "      <th>result_type</th>\n",
       "    </tr>\n",
       "  </thead>\n",
       "  <tbody>\n",
       "    <tr>\n",
       "      <th>0</th>\n",
       "      <td>0.5</td>\n",
       "      <td>0.0</td>\n",
       "      <td>1.0</td>\n",
       "      <td>NaN</td>\n",
       "      <td>0.99</td>\n",
       "      <td>0.0</td>\n",
       "      <td>0.5</td>\n",
       "      <td>0.0</td>\n",
       "      <td>0.99</td>\n",
       "      <td>0.01</td>\n",
       "      <td>0.0</td>\n",
       "      <td>1.0</td>\n",
       "      <td>0.0</td>\n",
       "      <td>featmorgan_r2_2048_lgb</td>\n",
       "      <td>uncalibrated</td>\n",
       "    </tr>\n",
       "  </tbody>\n",
       "</table>\n",
       "</div>"
      ],
      "text/plain": [
       "   Bal-acc  Sensitivity  Specificity  PPV   NPV  Kappa  AUC  MCC  Accuracy  \\\n",
       "0      0.5          0.0          1.0  NaN  0.99    0.0  0.5  0.0      0.99   \n",
       "\n",
       "   Classification error  False positive rate  False negative rate  F1-score  \\\n",
       "0                  0.01                  0.0                  1.0       0.0   \n",
       "\n",
       "                    model   result_type  \n",
       "0  featmorgan_r2_2048_lgb  uncalibrated  "
      ]
     },
     "execution_count": 66,
     "metadata": {},
     "output_type": "execute_result"
    }
   ],
   "source": [
    "#converting calculated metrics into a pandas dataframe to save a xls\n",
    "model_type = \"featmorgan_r2_2048_lgb\"\n",
    "\n",
    "result_type = \"uncalibrated\"\n",
    "\n",
    "metrics_lgb_uncalibrated = statistics\n",
    "metrics_lgb_uncalibrated['model'] = model_type\n",
    "metrics_lgb_uncalibrated['result_type'] = result_type\n",
    "print(\"Uncalibrated model:\")\n",
    "metrics_lgb_uncalibrated"
   ]
  },
  {
   "cell_type": "markdown",
   "metadata": {},
   "source": [
    "### Check model calibatrion"
   ]
  },
  {
   "cell_type": "code",
   "execution_count": 67,
   "metadata": {},
   "outputs": [
    {
     "data": {
      "image/png": "[encoded data removed]",
      "text/plain": [
       "<Figure size 432x288 with 1 Axes>"
      ]
     },
     "metadata": {
      "needs_background": "light"
     },
     "output_type": "display_data"
    }
   ],
   "source": [
    "# keep probabilities for the positive outcome only\n",
    "probs = probs_classes[:, 1]\n",
    "# reliability diagram\n",
    "fop, mpv = calibration_curve(y_experimental, probs, n_bins=10)\n",
    "# plot perfectly calibrated\n",
    "plt.plot([0, 1], [0, 1], linestyle='--')\n",
    "# plot model reliability\n",
    "plt.plot(mpv, fop, marker='.')\n",
    "#plt.show()\n",
    "plt.savefig('../results/calibration_model_featmorgan_r2_2048_lgb_1224857_bruno_imbalanced.png', dpi=300)"
   ]
  },
  {
   "cell_type": "markdown",
   "metadata": {},
   "source": [
    "### Use ROC-Curve and Gmean to select a threshold for calibration"
   ]
  },
  {
   "cell_type": "code",
   "execution_count": 68,
   "metadata": {},
   "outputs": [
    {
     "name": "stdout",
     "output_type": "stream",
     "text": [
      "Best Threshold=0.009841, G-Mean=0.724\n"
     ]
    },
    {
     "data": {
      "image/png": "[encoded data removed]",
      "text/plain": [
       "<Figure size 432x288 with 1 Axes>"
      ]
     },
     "metadata": {
      "needs_background": "light"
     },
     "output_type": "display_data"
    }
   ],
   "source": [
    "# keep probabilities for the positive outcome only\n",
    "yhat = probs_classes[:, 1]\n",
    "# calculate roc curves\n",
    "fpr, tpr, thresholds = roc_curve(y_experimental, yhat)\n",
    "# calculate the g-mean for each threshold\n",
    "gmeans = sqrt(tpr * (1-fpr))\n",
    "# locate the index of the largest g-mean\n",
    "ix = argmax(gmeans)\n",
    "print('Best Threshold=%f, G-Mean=%.3f' % (thresholds[ix], gmeans[ix]))\n",
    "# plot the roc curve for the model\n",
    "plt.plot([0,1], [0,1], linestyle='--', label='No Skill')\n",
    "plt.plot(fpr, tpr, marker='.', label='LightGBM')\n",
    "plt.scatter(fpr[ix], tpr[ix], marker='o', color='black', label='Best')\n",
    "# axis labels\n",
    "plt.xlabel('False Positive Rate')\n",
    "plt.ylabel('True Positive Rate')\n",
    "plt.legend()\n",
    "# show the plot\n",
    "#plt.show()\n",
    "plt.savefig('../results/calibration_curve_featmorgan_r2_2048_lgb_1224857_bruno_imbalanced.png', dpi=300)"
   ]
  },
  {
   "cell_type": "code",
   "execution_count": 69,
   "metadata": {},
   "outputs": [
    {
     "name": "stdout",
     "output_type": "stream",
     "text": [
      "0.009840781075420194\n"
     ]
    }
   ],
   "source": [
    "# Record the threshold in a variable\n",
    "threshold_roc = thresholds[ix]\n",
    "print(threshold_roc)"
   ]
  },
  {
   "cell_type": "markdown",
   "metadata": {},
   "source": [
    "### Optimal Threshold for Precision-Recall Curve"
   ]
  },
  {
   "cell_type": "code",
   "execution_count": 70,
   "metadata": {},
   "outputs": [
    {
     "name": "stdout",
     "output_type": "stream",
     "text": [
      "Best Threshold=0.336371, F-Score=nan\n"
     ]
    },
    {
     "name": "stderr",
     "output_type": "stream",
     "text": [
      "C:\\Users\\tiofi\\PyMOL\\envs\\rdkit2\\lib\\site-packages\\ipykernel_launcher.py:6: RuntimeWarning: invalid value encountered in true_divide\n",
      "  \n"
     ]
    }
   ],
   "source": [
    "# keep probabilities for the positive outcome only\n",
    "yhat = probs_classes[:, 1]\n",
    "# calculate precision_recall_curve\n",
    "precision, recall, thresholds = precision_recall_curve(y_experimental, yhat)\n",
    "# convert to f score\n",
    "fscore = (2 * precision * recall) / (precision + recall)\n",
    "# locate the index of the largest f score\n",
    "ix = argmax(fscore)\n",
    "print('Best Threshold=%f, F-Score=%.3f' % (thresholds[ix], fscore[ix]))"
   ]
  },
  {
   "cell_type": "code",
   "execution_count": 71,
   "metadata": {},
   "outputs": [
    {
     "name": "stdout",
     "output_type": "stream",
     "text": [
      "0.3363709612094195\n"
     ]
    }
   ],
   "source": [
    "# Record the threshold in a variable\n",
    "threshold_prc = thresholds[ix]\n",
    "print(threshold_prc)"
   ]
  },
  {
   "cell_type": "markdown",
   "metadata": {},
   "source": [
    "### Statistics model calibrated - Choose the best calibration method before"
   ]
  },
  {
   "cell_type": "code",
   "execution_count": 72,
   "metadata": {},
   "outputs": [],
   "source": [
    "# Select the best threshold to distinguishthe classes\n",
    "pred_lgb = (probs_classes[:, 1] > threshold_roc).astype(int)\n",
    "# pred_lgb = (probs_classes[:, 1] > threshold_prc).astype(int)"
   ]
  },
  {
   "cell_type": "code",
   "execution_count": 73,
   "metadata": {},
   "outputs": [],
   "source": [
    "statistics = calc_statistics(y_experimental, pred_lgb)"
   ]
  },
  {
   "cell_type": "code",
   "execution_count": 74,
   "metadata": {},
   "outputs": [
    {
     "name": "stdout",
     "output_type": "stream",
     "text": [
      "Calibrated model:\n"
     ]
    },
    {
     "data": {
      "text/html": [
       "<div>\n",
       "<style scoped>\n",
       "    .dataframe tbody tr th:only-of-type {\n",
       "        vertical-align: middle;\n",
       "    }\n",
       "\n",
       "    .dataframe tbody tr th {\n",
       "        vertical-align: top;\n",
       "    }\n",
       "\n",
       "    .dataframe thead th {\n",
       "        text-align: right;\n",
       "    }\n",
       "</style>\n",
       "<table border=\"1\" class=\"dataframe\">\n",
       "  <thead>\n",
       "    <tr style=\"text-align: right;\">\n",
       "      <th></th>\n",
       "      <th>Bal-acc</th>\n",
       "      <th>Sensitivity</th>\n",
       "      <th>Specificity</th>\n",
       "      <th>PPV</th>\n",
       "      <th>NPV</th>\n",
       "      <th>Kappa</th>\n",
       "      <th>AUC</th>\n",
       "      <th>MCC</th>\n",
       "      <th>Accuracy</th>\n",
       "      <th>Classification error</th>\n",
       "      <th>False positive rate</th>\n",
       "      <th>False negative rate</th>\n",
       "      <th>F1-score</th>\n",
       "      <th>model</th>\n",
       "      <th>result_type</th>\n",
       "      <th>calibration_threshold</th>\n",
       "    </tr>\n",
       "  </thead>\n",
       "  <tbody>\n",
       "    <tr>\n",
       "      <th>0</th>\n",
       "      <td>0.71</td>\n",
       "      <td>0.74</td>\n",
       "      <td>0.68</td>\n",
       "      <td>0.03</td>\n",
       "      <td>1.0</td>\n",
       "      <td>0.03</td>\n",
       "      <td>0.71</td>\n",
       "      <td>0.1</td>\n",
       "      <td>0.68</td>\n",
       "      <td>0.32</td>\n",
       "      <td>0.32</td>\n",
       "      <td>0.26</td>\n",
       "      <td>0.05</td>\n",
       "      <td>featmorgan_r2_2048_lgb</td>\n",
       "      <td>calibrated</td>\n",
       "      <td>0.009841</td>\n",
       "    </tr>\n",
       "  </tbody>\n",
       "</table>\n",
       "</div>"
      ],
      "text/plain": [
       "   Bal-acc  Sensitivity  Specificity   PPV  NPV  Kappa   AUC  MCC  Accuracy  \\\n",
       "0     0.71         0.74         0.68  0.03  1.0   0.03  0.71  0.1      0.68   \n",
       "\n",
       "   Classification error  False positive rate  False negative rate  F1-score  \\\n",
       "0                  0.32                 0.32                 0.26      0.05   \n",
       "\n",
       "                    model result_type  calibration_threshold  \n",
       "0  featmorgan_r2_2048_lgb  calibrated               0.009841  "
      ]
     },
     "execution_count": 74,
     "metadata": {},
     "output_type": "execute_result"
    }
   ],
   "source": [
    "#converting calculated metrics into a pandas dataframe to save a xls\n",
    "model_type = \"featmorgan_r2_2048_lgb\"\n",
    "\n",
    "result_type = \"calibrated\"\n",
    "\n",
    "metrics_lgb_calibrated = statistics\n",
    "metrics_lgb_calibrated['model'] = model_type\n",
    "metrics_lgb_calibrated['result_type'] = result_type\n",
    "metrics_lgb_calibrated['calibration_threshold'] = threshold_roc\n",
    "print(\"Calibrated model:\")\n",
    "metrics_lgb_calibrated"
   ]
  },
  {
   "cell_type": "code",
   "execution_count": 75,
   "metadata": {},
   "outputs": [],
   "source": [
    "# Saving the dataframe as excel file\n",
    "#metrics_lgb.to_excel(\"../results/model_binary_metrics_lgb_featmorgan_bee_1224857_bruno_imbalanced_gmean_NO_classweight_thres029.xlsx\", sheet_name= \"Sheet1\")"
   ]
  },
  {
   "cell_type": "markdown",
   "metadata": {},
   "source": [
    "### Save model"
   ]
  },
  {
   "cell_type": "code",
   "execution_count": 76,
   "metadata": {},
   "outputs": [
    {
     "data": {
      "text/plain": [
       "['../models/model_binary_lgb_featmorgan_r2_2048_gmean_1224857_bruno_imbalanced.pkl']"
      ]
     },
     "execution_count": 76,
     "metadata": {},
     "output_type": "execute_result"
    }
   ],
   "source": [
    "#Save model - pkl file\n",
    "joblib.dump(opt_lgb, \"../models/model_binary_lgb_featmorgan_r2_2048_gmean_1224857_bruno_imbalanced.pkl\", compress=3)"
   ]
  },
  {
   "cell_type": "markdown",
   "metadata": {},
   "source": [
    "## Compare all models"
   ]
  },
  {
   "cell_type": "markdown",
   "metadata": {},
   "source": [
    "## Save an excell with all results - models uncalibrated"
   ]
  },
  {
   "cell_type": "code",
   "execution_count": 79,
   "metadata": {},
   "outputs": [
    {
     "data": {
      "text/html": [
       "<div>\n",
       "<style scoped>\n",
       "    .dataframe tbody tr th:only-of-type {\n",
       "        vertical-align: middle;\n",
       "    }\n",
       "\n",
       "    .dataframe tbody tr th {\n",
       "        vertical-align: top;\n",
       "    }\n",
       "\n",
       "    .dataframe thead th {\n",
       "        text-align: right;\n",
       "    }\n",
       "</style>\n",
       "<table border=\"1\" class=\"dataframe\">\n",
       "  <thead>\n",
       "    <tr style=\"text-align: right;\">\n",
       "      <th></th>\n",
       "      <th>model</th>\n",
       "      <th>Bal-acc</th>\n",
       "      <th>Accuracy</th>\n",
       "      <th>Sensitivity</th>\n",
       "      <th>Specificity</th>\n",
       "      <th>PPV</th>\n",
       "      <th>NPV</th>\n",
       "      <th>Kappa</th>\n",
       "      <th>MCC</th>\n",
       "      <th>AUC</th>\n",
       "      <th>F1-score</th>\n",
       "      <th>Classification error</th>\n",
       "      <th>False positive rate</th>\n",
       "      <th>False negative rate</th>\n",
       "      <th>result_type</th>\n",
       "      <th>calibration_threshold</th>\n",
       "    </tr>\n",
       "  </thead>\n",
       "  <tbody>\n",
       "    <tr>\n",
       "      <th>0</th>\n",
       "      <td>featmorgan_r2_2048_rf</td>\n",
       "      <td>0.52</td>\n",
       "      <td>0.99</td>\n",
       "      <td>0.05</td>\n",
       "      <td>1.00</td>\n",
       "      <td>1.00</td>\n",
       "      <td>0.99</td>\n",
       "      <td>0.09</td>\n",
       "      <td>0.21</td>\n",
       "      <td>0.52</td>\n",
       "      <td>0.09</td>\n",
       "      <td>0.01</td>\n",
       "      <td>0.00</td>\n",
       "      <td>0.95</td>\n",
       "      <td>uncalibrated</td>\n",
       "      <td>NaN</td>\n",
       "    </tr>\n",
       "    <tr>\n",
       "      <th>0</th>\n",
       "      <td>featmorgan_r2_2048_svm</td>\n",
       "      <td>0.50</td>\n",
       "      <td>0.99</td>\n",
       "      <td>0.00</td>\n",
       "      <td>1.00</td>\n",
       "      <td>0.00</td>\n",
       "      <td>0.99</td>\n",
       "      <td>-0.00</td>\n",
       "      <td>-0.00</td>\n",
       "      <td>0.50</td>\n",
       "      <td>0.00</td>\n",
       "      <td>0.01</td>\n",
       "      <td>0.00</td>\n",
       "      <td>1.00</td>\n",
       "      <td>uncalibrated</td>\n",
       "      <td>NaN</td>\n",
       "    </tr>\n",
       "    <tr>\n",
       "      <th>0</th>\n",
       "      <td>featmorgan_r2_2048_lgb</td>\n",
       "      <td>0.50</td>\n",
       "      <td>0.99</td>\n",
       "      <td>0.00</td>\n",
       "      <td>1.00</td>\n",
       "      <td>NaN</td>\n",
       "      <td>0.99</td>\n",
       "      <td>0.00</td>\n",
       "      <td>0.00</td>\n",
       "      <td>0.50</td>\n",
       "      <td>0.00</td>\n",
       "      <td>0.01</td>\n",
       "      <td>0.00</td>\n",
       "      <td>1.00</td>\n",
       "      <td>uncalibrated</td>\n",
       "      <td>NaN</td>\n",
       "    </tr>\n",
       "    <tr>\n",
       "      <th>0</th>\n",
       "      <td>featmorgan_r2_2048_rf</td>\n",
       "      <td>0.75</td>\n",
       "      <td>0.72</td>\n",
       "      <td>0.77</td>\n",
       "      <td>0.72</td>\n",
       "      <td>0.03</td>\n",
       "      <td>1.00</td>\n",
       "      <td>0.04</td>\n",
       "      <td>0.12</td>\n",
       "      <td>0.75</td>\n",
       "      <td>0.06</td>\n",
       "      <td>0.28</td>\n",
       "      <td>0.28</td>\n",
       "      <td>0.23</td>\n",
       "      <td>calibrated</td>\n",
       "      <td>0.009000</td>\n",
       "    </tr>\n",
       "    <tr>\n",
       "      <th>0</th>\n",
       "      <td>featmorgan_r2_2048_svm</td>\n",
       "      <td>0.71</td>\n",
       "      <td>0.70</td>\n",
       "      <td>0.72</td>\n",
       "      <td>0.70</td>\n",
       "      <td>0.03</td>\n",
       "      <td>1.00</td>\n",
       "      <td>0.03</td>\n",
       "      <td>0.10</td>\n",
       "      <td>0.71</td>\n",
       "      <td>0.06</td>\n",
       "      <td>0.30</td>\n",
       "      <td>0.30</td>\n",
       "      <td>0.28</td>\n",
       "      <td>calibrated</td>\n",
       "      <td>0.010192</td>\n",
       "    </tr>\n",
       "    <tr>\n",
       "      <th>0</th>\n",
       "      <td>featmorgan_r2_2048_lgb</td>\n",
       "      <td>0.71</td>\n",
       "      <td>0.68</td>\n",
       "      <td>0.74</td>\n",
       "      <td>0.68</td>\n",
       "      <td>0.03</td>\n",
       "      <td>1.00</td>\n",
       "      <td>0.03</td>\n",
       "      <td>0.10</td>\n",
       "      <td>0.71</td>\n",
       "      <td>0.05</td>\n",
       "      <td>0.32</td>\n",
       "      <td>0.32</td>\n",
       "      <td>0.26</td>\n",
       "      <td>calibrated</td>\n",
       "      <td>0.009841</td>\n",
       "    </tr>\n",
       "  </tbody>\n",
       "</table>\n",
       "</div>"
      ],
      "text/plain": [
       "                    model  Bal-acc  Accuracy  Sensitivity  Specificity   PPV  \\\n",
       "0   featmorgan_r2_2048_rf     0.52      0.99         0.05         1.00  1.00   \n",
       "0  featmorgan_r2_2048_svm     0.50      0.99         0.00         1.00  0.00   \n",
       "0  featmorgan_r2_2048_lgb     0.50      0.99         0.00         1.00   NaN   \n",
       "0   featmorgan_r2_2048_rf     0.75      0.72         0.77         0.72  0.03   \n",
       "0  featmorgan_r2_2048_svm     0.71      0.70         0.72         0.70  0.03   \n",
       "0  featmorgan_r2_2048_lgb     0.71      0.68         0.74         0.68  0.03   \n",
       "\n",
       "    NPV  Kappa   MCC   AUC  F1-score  Classification error  \\\n",
       "0  0.99   0.09  0.21  0.52      0.09                  0.01   \n",
       "0  0.99  -0.00 -0.00  0.50      0.00                  0.01   \n",
       "0  0.99   0.00  0.00  0.50      0.00                  0.01   \n",
       "0  1.00   0.04  0.12  0.75      0.06                  0.28   \n",
       "0  1.00   0.03  0.10  0.71      0.06                  0.30   \n",
       "0  1.00   0.03  0.10  0.71      0.05                  0.32   \n",
       "\n",
       "   False positive rate  False negative rate   result_type  \\\n",
       "0                 0.00                 0.95  uncalibrated   \n",
       "0                 0.00                 1.00  uncalibrated   \n",
       "0                 0.00                 1.00  uncalibrated   \n",
       "0                 0.28                 0.23    calibrated   \n",
       "0                 0.30                 0.28    calibrated   \n",
       "0                 0.32                 0.26    calibrated   \n",
       "\n",
       "   calibration_threshold  \n",
       "0                    NaN  \n",
       "0                    NaN  \n",
       "0                    NaN  \n",
       "0               0.009000  \n",
       "0               0.010192  \n",
       "0               0.009841  "
      ]
     },
     "execution_count": 79,
     "metadata": {},
     "output_type": "execute_result"
    }
   ],
   "source": [
    "frames = [metrics_rf_uncalibrated, metrics_svm_uncalibrated, metrics_lgb_uncalibrated, \n",
    "          metrics_rf_calibrated, metrics_svm_calibrated, metrics_lgb_calibrated]\n",
    "\n",
    "result = pd.concat(frames)\n",
    "\n",
    "column_names = [\"model\", \"Bal-acc\", \"Accuracy\", \"Sensitivity\", \"Specificity\", \"PPV\", \"NPV\", \"Kappa\", \"MCC\", \"AUC\", \"F1-score\", \n",
    "                \"Classification error\", \"False positive rate\", \"False negative rate\", \"result_type\", \"calibration_threshold\"]\n",
    "result = result.reindex(columns=column_names)\n",
    "\n",
    "result"
   ]
  },
  {
   "cell_type": "code",
   "execution_count": 80,
   "metadata": {},
   "outputs": [],
   "source": [
    "# Saving the dataframe as excel file\n",
    "result.to_excel(\"../results/metrics_binary_featmorgan_r2_2048_allmodels_1224857_bruno_imbalanced.xlsx\", sheet_name= \"Sheet1\")"
   ]
  },
  {
   "cell_type": "code",
   "execution_count": null,
   "metadata": {},
   "outputs": [],
   "source": []
  }
 ],
 "metadata": {
  "kernelspec": {
   "display_name": "Python 3",
   "language": "python",
   "name": "python3"
  },
  "language_info": {
   "codemirror_mode": {
    "name": "ipython",
    "version": 3
   },
   "file_extension": ".py",
   "mimetype": "text/x-python",
   "name": "python",
   "nbconvert_exporter": "python",
   "pygments_lexer": "ipython3",
   "version": "3.9.7"
  }
 },
 "nbformat": 4,
 "nbformat_minor": 4
}
